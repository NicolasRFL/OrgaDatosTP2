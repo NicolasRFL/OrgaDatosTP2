{
 "cells": [
  {
   "cell_type": "code",
   "execution_count": null,
   "metadata": {
    "colab": {
     "base_uri": "https://localhost:8080/",
     "height": 34
    },
    "colab_type": "code",
    "executionInfo": {
     "elapsed": 800,
     "status": "ok",
     "timestamp": 1596586816891,
     "user": {
      "displayName": "Niko Farfan",
      "photoUrl": "",
      "userId": "18312784935668397664"
     },
     "user_tz": 180
    },
    "id": "p9bw27bJSrkR",
    "outputId": "1dcb07a2-0b67-4ced-d422-9eeae58c6150"
   },
   "outputs": [
    {
     "name": "stdout",
     "output_type": "stream",
     "text": [
      "Drive already mounted at /content/gdrive; to attempt to forcibly remount, call drive.mount(\"/content/gdrive\", force_remount=True).\n"
     ]
    }
   ],
   "source": [
    "from google.colab import drive\n",
    "drive.mount('/content/gdrive')"
   ]
  },
  {
   "cell_type": "code",
   "execution_count": null,
   "metadata": {
    "colab": {
     "base_uri": "https://localhost:8080/",
     "height": 34
    },
    "colab_type": "code",
    "executionInfo": {
     "elapsed": 1969,
     "status": "ok",
     "timestamp": 1596586818066,
     "user": {
      "displayName": "Niko Farfan",
      "photoUrl": "",
      "userId": "18312784935668397664"
     },
     "user_tz": 180
    },
    "id": "urV_4DfGStK5",
    "outputId": "47e1c65f-6349-42c4-a6e5-539ca161320d"
   },
   "outputs": [
    {
     "name": "stdout",
     "output_type": "stream",
     "text": [
      "/content/gdrive/My Drive/Kaggle\n"
     ]
    }
   ],
   "source": [
    "%cd /content/gdrive/My Drive/Kaggle"
   ]
  },
  {
   "cell_type": "code",
   "execution_count": null,
   "metadata": {
    "colab": {
     "base_uri": "https://localhost:8080/",
     "height": 187
    },
    "colab_type": "code",
    "executionInfo": {
     "elapsed": 12224,
     "status": "ok",
     "timestamp": 1596586828326,
     "user": {
      "displayName": "Niko Farfan",
      "photoUrl": "",
      "userId": "18312784935668397664"
     },
     "user_tz": 180
    },
    "id": "tM1VGB-2HvUr",
    "outputId": "b5b3d90c-6bcf-4db9-ddb8-d004b7f83edd"
   },
   "outputs": [
    {
     "name": "stdout",
     "output_type": "stream",
     "text": [
      "Reading package lists... Done\n",
      "Building dependency tree       \n",
      "Reading state information... Done\n",
      "enchant is already the newest version (1.6.0-11.1).\n",
      "The following package was automatically installed and is no longer required:\n",
      "  libnvidia-common-440\n",
      "Use 'apt autoremove' to remove it.\n",
      "0 upgraded, 0 newly installed, 0 to remove and 35 not upgraded.\n",
      "Requirement already satisfied: pyenchant in /usr/local/lib/python3.6/dist-packages (1.6.6)\n",
      "Requirement already satisfied: pyenchant==1.6.6 in /usr/local/lib/python3.6/dist-packages (1.6.6)\n"
     ]
    }
   ],
   "source": [
    "!apt install enchant\n",
    "!pip install pyenchant\n",
    "!pip3 install pyenchant==1.6.6"
   ]
  },
  {
   "cell_type": "code",
   "execution_count": null,
   "metadata": {
    "colab": {
     "base_uri": "https://localhost:8080/",
     "height": 51
    },
    "colab_type": "code",
    "executionInfo": {
     "elapsed": 13098,
     "status": "ok",
     "timestamp": 1596586829204,
     "user": {
      "displayName": "Niko Farfan",
      "photoUrl": "",
      "userId": "18312784935668397664"
     },
     "user_tz": 180
    },
    "id": "7PrGakhJSjBL",
    "outputId": "8f617edc-3c92-4eb0-e0c8-0093870022a1"
   },
   "outputs": [
    {
     "name": "stderr",
     "output_type": "stream",
     "text": [
      "/usr/local/lib/python3.6/dist-packages/statsmodels/tools/_testing.py:19: FutureWarning: pandas.util.testing is deprecated. Use the functions in the public API at pandas.testing instead.\n",
      "  import pandas.util.testing as tm\n"
     ]
    }
   ],
   "source": [
    "import pandas as pd\n",
    "import numpy as np\n",
    "import matplotlib.pyplot as plt\n",
    "import seaborn as sns\n",
    "import random\n",
    "import datetime"
   ]
  },
  {
   "cell_type": "code",
   "execution_count": null,
   "metadata": {
    "colab": {
     "base_uri": "https://localhost:8080/",
     "height": 187
    },
    "colab_type": "code",
    "executionInfo": {
     "elapsed": 13961,
     "status": "ok",
     "timestamp": 1596586830071,
     "user": {
      "displayName": "Niko Farfan",
      "photoUrl": "",
      "userId": "18312784935668397664"
     },
     "user_tz": 180
    },
    "id": "MH9Lfas_WMPa",
    "outputId": "3c054839-09bf-422a-d4c2-552770bdccc2"
   },
   "outputs": [
    {
     "name": "stdout",
     "output_type": "stream",
     "text": [
      "[nltk_data] Downloading package stopwords to /root/nltk_data...\n",
      "[nltk_data]   Package stopwords is already up-to-date!\n",
      "[nltk_data] Downloading package wordnet to /root/nltk_data...\n",
      "[nltk_data]   Package wordnet is already up-to-date!\n",
      "[nltk_data] Downloading package punkt to /root/nltk_data...\n",
      "[nltk_data]   Package punkt is already up-to-date!\n",
      "[nltk_data] Downloading package averaged_perceptron_tagger to\n",
      "[nltk_data]     /root/nltk_data...\n",
      "[nltk_data]   Package averaged_perceptron_tagger is already up-to-\n",
      "[nltk_data]       date!\n"
     ]
    }
   ],
   "source": [
    "import nltk\n",
    "import enchant\n",
    "nltk.download('stopwords')\n",
    "nltk.download('wordnet')\n",
    "nltk.download('punkt')\n",
    "nltk.download('averaged_perceptron_tagger') \n",
    "from nltk.corpus import wordnet\n",
    "from nltk.stem import WordNetLemmatizer\n",
    "from nltk.corpus import stopwords\n",
    "from nltk.tokenize import TweetTokenizer\n",
    "import spacy\n",
    "from sklearn.feature_extraction.text import TfidfVectorizer\n",
    "from string import punctuation\n",
    "from gensim import models\n",
    "from gensim.models.doc2vec import TaggedDocument, Doc2Vec\n",
    "import re\n",
    "from sklearn.feature_extraction.text import CountVectorizer"
   ]
  },
  {
   "cell_type": "code",
   "execution_count": null,
   "metadata": {
    "colab": {
     "base_uri": "https://localhost:8080/",
     "height": 204
    },
    "colab_type": "code",
    "executionInfo": {
     "elapsed": 13958,
     "status": "ok",
     "timestamp": 1596586830073,
     "user": {
      "displayName": "Niko Farfan",
      "photoUrl": "",
      "userId": "18312784935668397664"
     },
     "user_tz": 180
    },
    "id": "yLamwZekSnMI",
    "outputId": "5fdf5286-9dc6-4722-8e93-b2eb833080e4"
   },
   "outputs": [
    {
     "data": {
      "text/html": [
       "<div>\n",
       "<style scoped>\n",
       "    .dataframe tbody tr th:only-of-type {\n",
       "        vertical-align: middle;\n",
       "    }\n",
       "\n",
       "    .dataframe tbody tr th {\n",
       "        vertical-align: top;\n",
       "    }\n",
       "\n",
       "    .dataframe thead th {\n",
       "        text-align: right;\n",
       "    }\n",
       "</style>\n",
       "<table border=\"1\" class=\"dataframe\">\n",
       "  <thead>\n",
       "    <tr style=\"text-align: right;\">\n",
       "      <th></th>\n",
       "      <th>id</th>\n",
       "      <th>keyword</th>\n",
       "      <th>location</th>\n",
       "      <th>text</th>\n",
       "    </tr>\n",
       "  </thead>\n",
       "  <tbody>\n",
       "    <tr>\n",
       "      <th>0</th>\n",
       "      <td>0</td>\n",
       "      <td>NaN</td>\n",
       "      <td>NaN</td>\n",
       "      <td>Just happened a terrible car crash</td>\n",
       "    </tr>\n",
       "    <tr>\n",
       "      <th>1</th>\n",
       "      <td>2</td>\n",
       "      <td>NaN</td>\n",
       "      <td>NaN</td>\n",
       "      <td>Heard about #earthquake is different cities, s...</td>\n",
       "    </tr>\n",
       "    <tr>\n",
       "      <th>2</th>\n",
       "      <td>3</td>\n",
       "      <td>NaN</td>\n",
       "      <td>NaN</td>\n",
       "      <td>there is a forest fire at spot pond, geese are...</td>\n",
       "    </tr>\n",
       "    <tr>\n",
       "      <th>3</th>\n",
       "      <td>9</td>\n",
       "      <td>NaN</td>\n",
       "      <td>NaN</td>\n",
       "      <td>Apocalypse lighting. #Spokane #wildfires</td>\n",
       "    </tr>\n",
       "    <tr>\n",
       "      <th>4</th>\n",
       "      <td>11</td>\n",
       "      <td>NaN</td>\n",
       "      <td>NaN</td>\n",
       "      <td>Typhoon Soudelor kills 28 in China and Taiwan</td>\n",
       "    </tr>\n",
       "  </tbody>\n",
       "</table>\n",
       "</div>"
      ],
      "text/plain": [
       "   id keyword location                                               text\n",
       "0   0     NaN      NaN                 Just happened a terrible car crash\n",
       "1   2     NaN      NaN  Heard about #earthquake is different cities, s...\n",
       "2   3     NaN      NaN  there is a forest fire at spot pond, geese are...\n",
       "3   9     NaN      NaN           Apocalypse lighting. #Spokane #wildfires\n",
       "4  11     NaN      NaN      Typhoon Soudelor kills 28 in China and Taiwan"
      ]
     },
     "execution_count": 6,
     "metadata": {
      "tags": []
     },
     "output_type": "execute_result"
    }
   ],
   "source": [
    "train=pd.read_csv(\"train.csv\",encoding='latin-1')\n",
    "datos =pd.read_csv(\"test.csv\",encoding='latin-1')\n",
    "datos.head()"
   ]
  },
  {
   "cell_type": "code",
   "execution_count": null,
   "metadata": {
    "colab": {},
    "colab_type": "code",
    "id": "xdwAFhBwV_oz"
   },
   "outputs": [],
   "source": [
    "def tokenizarTexto(x):\n",
    "  x=x.casefold()\n",
    "  d = enchant.Dict(\"en\")\n",
    "  x=re.sub(r'http\\S*', '',x)\n",
    "  x=re.sub(r'[^a-z\\s]', '',x)\n",
    "  lemma=WordNetLemmatizer()\n",
    "  x=lemma.lemmatize(x)\n",
    "  tokens=nltk.word_tokenize(x)\n",
    "  #tknzr = TweetTokenizer(strip_handles=True, reduce_len=True)\n",
    "  #tokens = tknzr.tokenize(x)\n",
    "  l=stopwords.words('english')+list(punctuation)\n",
    "  tokens = [word for word in tokens if word not in l]\n",
    "  tokens= [word for word in tokens if d.check(word)]\n",
    "  tokens= [word for word in tokens if wordnet.synsets(word)]\n",
    "  return tokens"
   ]
  },
  {
   "cell_type": "code",
   "execution_count": null,
   "metadata": {
    "colab": {
     "base_uri": "https://localhost:8080/",
     "height": 102
    },
    "colab_type": "code",
    "executionInfo": {
     "elapsed": 281733,
     "status": "ok",
     "timestamp": 1596587097859,
     "user": {
      "displayName": "Niko Farfan",
      "photoUrl": "",
      "userId": "18312784935668397664"
     },
     "user_tz": 180
    },
    "id": "w_Sa90AKSe_T",
    "outputId": "c19a8c25-ffa1-4f27-d95d-3ae4d49e71e4"
   },
   "outputs": [
    {
     "name": "stdout",
     "output_type": "stream",
     "text": [
      "<class 'pandas.core.frame.DataFrame'>\n",
      "RangeIndex: 7613 entries, 0 to 7612\n",
      "Columns: 9901 entries, ab to zoom\n",
      "dtypes: int64(9901)\n",
      "memory usage: 575.1 MB\n"
     ]
    }
   ],
   "source": [
    "import re\n",
    "def countVect (train,datos):\n",
    "  lenTrain=len(train)\n",
    "  lenDatos=len(datos)\n",
    "  df=pd.concat([train,datos])\n",
    "  vectorizer=CountVectorizer(tokenizer=tokenizarTexto)\n",
    "  x = vectorizer.fit_transform(df['text'])\n",
    "  count_vect_df = pd.DataFrame(x.todense(), columns=vectorizer.get_feature_names())\n",
    "  dftrain = count_vect_df.iloc[0:lenTrain]\n",
    "  dfdatos = count_vect_df.iloc[lenTrain:]\n",
    "  return (dftrain,dfdatos)\n",
    "\n",
    "(dftrain,dfdatos) = countVect(train,datos)\n",
    "dftrain.info()"
   ]
  },
  {
   "cell_type": "code",
   "execution_count": null,
   "metadata": {
    "colab": {
     "base_uri": "https://localhost:8080/",
     "height": 34
    },
    "colab_type": "code",
    "executionInfo": {
     "elapsed": 954135,
     "status": "ok",
     "timestamp": 1596587770266,
     "user": {
      "displayName": "Niko Farfan",
      "photoUrl": "",
      "userId": "18312784935668397664"
     },
     "user_tz": 180
    },
    "id": "xER9Rd_5BbcS",
    "outputId": "4dba8db7-6620-44e6-cd4e-a2bbfbc5289b"
   },
   "outputs": [
    {
     "name": "stdout",
     "output_type": "stream",
     "text": [
      "Accuracy: 77.08%\n"
     ]
    }
   ],
   "source": [
    "from sklearn import svm\n",
    "from sklearn.preprocessing import StandardScaler\n",
    "from sklearn.neural_network import MLPRegressor\n",
    "from sklearn.ensemble import RandomForestClassifier\n",
    "from sklearn.feature_selection import SelectFromModel\n",
    "import xgboost as xgb\n",
    "from numpy import loadtxt\n",
    "from xgboost import XGBClassifier\n",
    "from sklearn.metrics import accuracy_score\n",
    "from sklearn.model_selection import train_test_split\n",
    "from sklearn.model_selection import GridSearchCV\n",
    "from sklearn.model_selection import StratifiedKFold\n",
    "from sklearn.metrics import accuracy_score\n",
    "from sklearn.ensemble import RandomForestRegressor\n",
    "from sklearn.metrics import mean_squared_error\n",
    "from sklearn.feature_extraction import FeatureHasher\n",
    "import pandas as pd\n",
    "import numpy as np\n",
    "import matplotlib.pyplot as plt\n",
    "from sklearn import tree\n",
    "from sklearn.metrics import f1_score\n",
    "from matplotlib import pyplot\n",
    "from sklearn.preprocessing import LabelEncoder\n",
    "clf = svm.SVC()\n",
    "#clf=MLPRegressor(random_state=1, max_iter=500)\n",
    "#Construimos los datos de entrenamiento y de test\n",
    "X = dftrain\n",
    "y = train[\"target\"]\n",
    "\n",
    "\"\"\"sel = SelectFromModel(RandomForestClassifier(n_estimators = 200))\n",
    "sel.fit(X, y)\n",
    "selCol= X.columns[(sel.get_support())]\"\"\"\n",
    "\n",
    "#X=entrenar[selCol]\n",
    "X_train, X_test, y_train, y_test = train_test_split(X, y, test_size=0.20, random_state=42)\n",
    "# estandarizamos las features\n",
    "scaler = StandardScaler()\n",
    "\n",
    "# Don't cheat - fit only on training data\n",
    "scaler.fit(X_train)  # doctest: +SKIP\n",
    "X_train = scaler.transform(X_train)  # doctest: +SKIP\n",
    "# apply same transformation to test data\n",
    "X_test = scaler.transform(X_test)  # doctest: +SKI\n",
    "\n",
    "clf.fit(X_train, y_train)\n",
    "y_pred = clf.predict(X_test)\n",
    "#y_pred = (y_pred>0.5)*1\n",
    "accuracy = accuracy_score(y_test, y_pred)\n",
    "print(\"Accuracy: %.2f%%\" % (accuracy * 100.0))"
   ]
  },
  {
   "cell_type": "code",
   "execution_count": null,
   "metadata": {
    "colab": {},
    "colab_type": "code",
    "id": "Z3vNqrWQPGuM"
   },
   "outputs": [],
   "source": [
    "scaler = StandardScaler()\n",
    "\n",
    "# Don't cheat - fit only on training data\n",
    "scaler.fit(X)  # doctest: +SKIP\n",
    "x_train= scaler.transform(X)  # doctest: +SKIP\n",
    "# apply same transformation to test data\n",
    "clf.fit(x_train, y)\n",
    "#test=test[selCol]\n",
    "test=scaler.fit_transform(dfdatos)\n",
    "preds = clf.predict(test)\n",
    "predictions = pd.DataFrame()\n",
    "predictions['id']=datos['id']\n",
    "predictions['target']=preds\n",
    "predictions.head()\n",
    "predictions.to_csv('resultados.csv',index=False)"
   ]
  },
  {
   "cell_type": "code",
   "execution_count": null,
   "metadata": {
    "colab": {
     "base_uri": "https://localhost:8080/",
     "height": 153
    },
    "colab_type": "code",
    "executionInfo": {
     "elapsed": 3773,
     "status": "ok",
     "timestamp": 1596589124582,
     "user": {
      "displayName": "Niko Farfan",
      "photoUrl": "",
      "userId": "18312784935668397664"
     },
     "user_tz": 180
    },
    "id": "9KnepehaPJOS",
    "outputId": "87e626ee-ea47-4a77-b264-bb7447586f0f"
   },
   "outputs": [
    {
     "name": "stdout",
     "output_type": "stream",
     "text": [
      "Traceback (most recent call last):\n",
      "  File \"/usr/local/bin/kaggle\", line 5, in <module>\n",
      "    from kaggle.cli import main\n",
      "  File \"/usr/local/lib/python2.7/dist-packages/kaggle/__init__.py\", line 23, in <module>\n",
      "    api.authenticate()\n",
      "  File \"/usr/local/lib/python2.7/dist-packages/kaggle/api/kaggle_api_extended.py\", line 146, in authenticate\n",
      "    self.config_file, self.config_dir))\n",
      "IOError: Could not find kaggle.json. Make sure it's located in /root/.kaggle. Or use the environment method.\n"
     ]
    }
   ],
   "source": [
    "#!kaggle competitions submit -c nlp-getting-started -f resultados.csv -m \"Nuevo intento\""
   ]
  }
 ],
 "metadata": {
  "colab": {
   "authorship_tag": "ABX9TyMe8LoaPdwm0R8s8P99F2tI",
   "collapsed_sections": [],
   "name": "SVC.ipynb",
   "provenance": []
  },
  "kernelspec": {
   "display_name": "Python 3",
   "language": "python",
   "name": "python3"
  },
  "language_info": {
   "codemirror_mode": {
    "name": "ipython",
    "version": 3
   },
   "file_extension": ".py",
   "mimetype": "text/x-python",
   "name": "python",
   "nbconvert_exporter": "python",
   "pygments_lexer": "ipython3",
   "version": "3.7.6"
  }
 },
 "nbformat": 4,
 "nbformat_minor": 1
}
