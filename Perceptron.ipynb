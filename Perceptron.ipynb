{
 "cells": [
  {
   "cell_type": "code",
   "execution_count": 14,
   "metadata": {
    "colab": {
     "base_uri": "https://localhost:8080/",
     "height": 34
    },
    "colab_type": "code",
    "executionInfo": {
     "elapsed": 852,
     "status": "ok",
     "timestamp": 1597310216512,
     "user": {
      "displayName": "Niko Farfan",
      "photoUrl": "",
      "userId": "18312784935668397664"
     },
     "user_tz": 180
    },
    "id": "bvNYHf8bq5BK",
    "outputId": "3e2b49ea-5f21-4f0d-fdf9-bba3c762b536"
   },
   "outputs": [
    {
     "name": "stdout",
     "output_type": "stream",
     "text": [
      "Drive already mounted at /content/gdrive; to attempt to forcibly remount, call drive.mount(\"/content/gdrive\", force_remount=True).\n"
     ]
    }
   ],
   "source": [
    "from google.colab import drive\n",
    "drive.mount('/content/gdrive')"
   ]
  },
  {
   "cell_type": "code",
   "execution_count": 15,
   "metadata": {
    "colab": {
     "base_uri": "https://localhost:8080/",
     "height": 34
    },
    "colab_type": "code",
    "executionInfo": {
     "elapsed": 1081,
     "status": "ok",
     "timestamp": 1597310216760,
     "user": {
      "displayName": "Niko Farfan",
      "photoUrl": "",
      "userId": "18312784935668397664"
     },
     "user_tz": 180
    },
    "id": "1uBSFc01secX",
    "outputId": "bdd3c72a-7e7b-4db2-a5a0-e47439458590"
   },
   "outputs": [
    {
     "name": "stdout",
     "output_type": "stream",
     "text": [
      "/content/gdrive/My Drive/Kaggle\n"
     ]
    }
   ],
   "source": [
    "%cd /content/gdrive/My Drive/Kaggle"
   ]
  },
  {
   "cell_type": "code",
   "execution_count": 16,
   "metadata": {
    "colab": {},
    "colab_type": "code",
    "executionInfo": {
     "elapsed": 1077,
     "status": "ok",
     "timestamp": 1597310216761,
     "user": {
      "displayName": "Niko Farfan",
      "photoUrl": "",
      "userId": "18312784935668397664"
     },
     "user_tz": 180
    },
    "id": "bSnC7GHFrJVw"
   },
   "outputs": [],
   "source": [
    "import os\n",
    "os.environ['KAGGLE_CONFIG_DIR'] = \"/content/gdrive/My Drive/Kaggle\""
   ]
  },
  {
   "cell_type": "code",
   "execution_count": 17,
   "metadata": {
    "colab": {
     "base_uri": "https://localhost:8080/",
     "height": 187
    },
    "colab_type": "code",
    "executionInfo": {
     "elapsed": 2079,
     "status": "ok",
     "timestamp": 1597310217769,
     "user": {
      "displayName": "Niko Farfan",
      "photoUrl": "",
      "userId": "18312784935668397664"
     },
     "user_tz": 180
    },
    "id": "iaW-ELSQ6ewH",
    "outputId": "150fcd6c-1a41-498a-bbf1-45c3f93b0d34"
   },
   "outputs": [
    {
     "name": "stdout",
     "output_type": "stream",
     "text": [
      "[nltk_data] Downloading package stopwords to /root/nltk_data...\n",
      "[nltk_data]   Package stopwords is already up-to-date!\n",
      "[nltk_data] Downloading package wordnet to /root/nltk_data...\n",
      "[nltk_data]   Package wordnet is already up-to-date!\n",
      "[nltk_data] Downloading package punkt to /root/nltk_data...\n",
      "[nltk_data]   Package punkt is already up-to-date!\n",
      "[nltk_data] Downloading package averaged_perceptron_tagger to\n",
      "[nltk_data]     /root/nltk_data...\n",
      "[nltk_data]   Package averaged_perceptron_tagger is already up-to-\n",
      "[nltk_data]       date!\n"
     ]
    }
   ],
   "source": [
    "import nltk\n",
    "nltk.download('stopwords')\n",
    "nltk.download('wordnet')\n",
    "nltk.download('punkt')\n",
    "nltk.download('averaged_perceptron_tagger') \n",
    "from nltk.stem import WordNetLemmatizer\n",
    "from nltk.corpus import stopwords\n",
    "from nltk.tokenize import TweetTokenizer\n",
    "from sklearn.feature_extraction.text import TfidfVectorizer"
   ]
  },
  {
   "cell_type": "code",
   "execution_count": 18,
   "metadata": {
    "colab": {},
    "colab_type": "code",
    "executionInfo": {
     "elapsed": 2073,
     "status": "ok",
     "timestamp": 1597310217770,
     "user": {
      "displayName": "Niko Farfan",
      "photoUrl": "",
      "userId": "18312784935668397664"
     },
     "user_tz": 180
    },
    "id": "U571Bj9aaKnk"
   },
   "outputs": [],
   "source": [
    "import xgboost as xgb\n",
    "from numpy import loadtxt\n",
    "from xgboost import XGBClassifier\n",
    "from sklearn.metrics import accuracy_score\n",
    "from sklearn.model_selection import train_test_split\n",
    "from sklearn.model_selection import GridSearchCV\n",
    "from sklearn.model_selection import StratifiedKFold\n",
    "from sklearn.metrics import accuracy_score\n",
    "from sklearn.ensemble import RandomForestRegressor\n",
    "from sklearn.metrics import mean_squared_error\n",
    "from sklearn.feature_extraction import FeatureHasher\n",
    "from sklearn import tree\n",
    "from sklearn.metrics import f1_score\n",
    "from matplotlib import pyplot\n",
    "from sklearn.preprocessing import LabelEncoder"
   ]
  },
  {
   "cell_type": "code",
   "execution_count": 19,
   "metadata": {
    "colab": {},
    "colab_type": "code",
    "executionInfo": {
     "elapsed": 2065,
     "status": "ok",
     "timestamp": 1597310217770,
     "user": {
      "displayName": "Niko Farfan",
      "photoUrl": "",
      "userId": "18312784935668397664"
     },
     "user_tz": 180
    },
    "id": "caU5q_PoaO1N"
   },
   "outputs": [],
   "source": [
    "import pandas as pd\n",
    "import numpy as np\n",
    "import matplotlib.pyplot as plt\n",
    "import seaborn as sns\n",
    "import random\n",
    "import datetime"
   ]
  },
  {
   "cell_type": "code",
   "execution_count": 20,
   "metadata": {
    "colab": {},
    "colab_type": "code",
    "executionInfo": {
     "elapsed": 2059,
     "status": "ok",
     "timestamp": 1597310217771,
     "user": {
      "displayName": "Niko Farfan",
      "photoUrl": "",
      "userId": "18312784935668397664"
     },
     "user_tz": 180
    },
    "id": "jCGLy1af6P_o"
   },
   "outputs": [],
   "source": [
    "from string import punctuation\n",
    "from gensim import models\n",
    "from gensim.models.doc2vec import TaggedDocument, Doc2Vec\n",
    "import re"
   ]
  },
  {
   "cell_type": "code",
   "execution_count": 21,
   "metadata": {
    "colab": {
     "base_uri": "https://localhost:8080/",
     "height": 85
    },
    "colab_type": "code",
    "executionInfo": {
     "elapsed": 5105,
     "status": "ok",
     "timestamp": 1597310220825,
     "user": {
      "displayName": "Niko Farfan",
      "photoUrl": "",
      "userId": "18312784935668397664"
     },
     "user_tz": 180
    },
    "id": "El6KSFBojdtp",
    "outputId": "456173f7-8388-4313-ef9d-3a1b8ccb4e8c"
   },
   "outputs": [
    {
     "name": "stdout",
     "output_type": "stream",
     "text": [
      "Warning: Looks like you're using an outdated API Version, please consider updating (server 1.5.6 / client 1.5.4)\n",
      "sample_submission.csv: Skipping, found more recently modified local copy (use --force to force download)\n",
      "train.csv: Skipping, found more recently modified local copy (use --force to force download)\n",
      "test.csv: Skipping, found more recently modified local copy (use --force to force download)\n"
     ]
    }
   ],
   "source": [
    "!kaggle competitions download -c nlp-getting-started"
   ]
  },
  {
   "cell_type": "code",
   "execution_count": 22,
   "metadata": {
    "colab": {
     "base_uri": "https://localhost:8080/",
     "height": 204
    },
    "colab_type": "code",
    "executionInfo": {
     "elapsed": 5097,
     "status": "ok",
     "timestamp": 1597310220825,
     "user": {
      "displayName": "Niko Farfan",
      "photoUrl": "",
      "userId": "18312784935668397664"
     },
     "user_tz": 180
    },
    "id": "KEtYB2Juremn",
    "outputId": "bba90268-fac2-4f13-df8d-feb0dd167803"
   },
   "outputs": [
    {
     "data": {
      "text/html": [
       "<div>\n",
       "<style scoped>\n",
       "    .dataframe tbody tr th:only-of-type {\n",
       "        vertical-align: middle;\n",
       "    }\n",
       "\n",
       "    .dataframe tbody tr th {\n",
       "        vertical-align: top;\n",
       "    }\n",
       "\n",
       "    .dataframe thead th {\n",
       "        text-align: right;\n",
       "    }\n",
       "</style>\n",
       "<table border=\"1\" class=\"dataframe\">\n",
       "  <thead>\n",
       "    <tr style=\"text-align: right;\">\n",
       "      <th></th>\n",
       "      <th>id</th>\n",
       "      <th>keyword</th>\n",
       "      <th>location</th>\n",
       "      <th>text</th>\n",
       "    </tr>\n",
       "  </thead>\n",
       "  <tbody>\n",
       "    <tr>\n",
       "      <th>0</th>\n",
       "      <td>0</td>\n",
       "      <td>NaN</td>\n",
       "      <td>NaN</td>\n",
       "      <td>Just happened a terrible car crash</td>\n",
       "    </tr>\n",
       "    <tr>\n",
       "      <th>1</th>\n",
       "      <td>2</td>\n",
       "      <td>NaN</td>\n",
       "      <td>NaN</td>\n",
       "      <td>Heard about #earthquake is different cities, s...</td>\n",
       "    </tr>\n",
       "    <tr>\n",
       "      <th>2</th>\n",
       "      <td>3</td>\n",
       "      <td>NaN</td>\n",
       "      <td>NaN</td>\n",
       "      <td>there is a forest fire at spot pond, geese are...</td>\n",
       "    </tr>\n",
       "    <tr>\n",
       "      <th>3</th>\n",
       "      <td>9</td>\n",
       "      <td>NaN</td>\n",
       "      <td>NaN</td>\n",
       "      <td>Apocalypse lighting. #Spokane #wildfires</td>\n",
       "    </tr>\n",
       "    <tr>\n",
       "      <th>4</th>\n",
       "      <td>11</td>\n",
       "      <td>NaN</td>\n",
       "      <td>NaN</td>\n",
       "      <td>Typhoon Soudelor kills 28 in China and Taiwan</td>\n",
       "    </tr>\n",
       "  </tbody>\n",
       "</table>\n",
       "</div>"
      ],
      "text/plain": [
       "   id keyword location                                               text\n",
       "0   0     NaN      NaN                 Just happened a terrible car crash\n",
       "1   2     NaN      NaN  Heard about #earthquake is different cities, s...\n",
       "2   3     NaN      NaN  there is a forest fire at spot pond, geese are...\n",
       "3   9     NaN      NaN           Apocalypse lighting. #Spokane #wildfires\n",
       "4  11     NaN      NaN      Typhoon Soudelor kills 28 in China and Taiwan"
      ]
     },
     "execution_count": 22,
     "metadata": {
      "tags": []
     },
     "output_type": "execute_result"
    }
   ],
   "source": [
    "train=pd.read_csv(\"train.csv\",encoding='latin-1')\n",
    "datos =pd.read_csv(\"test.csv\",encoding='latin-1')\n",
    "datos.head()"
   ]
  },
  {
   "cell_type": "code",
   "execution_count": 23,
   "metadata": {
    "colab": {},
    "colab_type": "code",
    "executionInfo": {
     "elapsed": 5092,
     "status": "ok",
     "timestamp": 1597310220826,
     "user": {
      "displayName": "Niko Farfan",
      "photoUrl": "",
      "userId": "18312784935668397664"
     },
     "user_tz": 180
    },
    "id": "L6-ZQ5gyxVbf"
   },
   "outputs": [],
   "source": [
    "#Separo el target de los tweets\n",
    "target = train.iloc[:,-1]"
   ]
  },
  {
   "cell_type": "code",
   "execution_count": 24,
   "metadata": {
    "colab": {
     "base_uri": "https://localhost:8080/",
     "height": 204
    },
    "colab_type": "code",
    "executionInfo": {
     "elapsed": 5088,
     "status": "ok",
     "timestamp": 1597310220827,
     "user": {
      "displayName": "Niko Farfan",
      "photoUrl": "",
      "userId": "18312784935668397664"
     },
     "user_tz": 180
    },
    "id": "xM-jumC08FM-",
    "outputId": "2b876f97-4b52-41c0-8d38-13290346bdce"
   },
   "outputs": [
    {
     "data": {
      "text/html": [
       "<div>\n",
       "<style scoped>\n",
       "    .dataframe tbody tr th:only-of-type {\n",
       "        vertical-align: middle;\n",
       "    }\n",
       "\n",
       "    .dataframe tbody tr th {\n",
       "        vertical-align: top;\n",
       "    }\n",
       "\n",
       "    .dataframe thead th {\n",
       "        text-align: right;\n",
       "    }\n",
       "</style>\n",
       "<table border=\"1\" class=\"dataframe\">\n",
       "  <thead>\n",
       "    <tr style=\"text-align: right;\">\n",
       "      <th></th>\n",
       "      <th>id</th>\n",
       "      <th>keyword</th>\n",
       "      <th>location</th>\n",
       "      <th>text</th>\n",
       "      <th>target</th>\n",
       "      <th>cantidad@</th>\n",
       "    </tr>\n",
       "  </thead>\n",
       "  <tbody>\n",
       "    <tr>\n",
       "      <th>0</th>\n",
       "      <td>1</td>\n",
       "      <td>NaN</td>\n",
       "      <td>NaN</td>\n",
       "      <td>Our Deeds are the Reason of this #earthquake M...</td>\n",
       "      <td>1</td>\n",
       "      <td>0</td>\n",
       "    </tr>\n",
       "    <tr>\n",
       "      <th>1</th>\n",
       "      <td>4</td>\n",
       "      <td>NaN</td>\n",
       "      <td>NaN</td>\n",
       "      <td>Forest fire near La Ronge Sask. Canada</td>\n",
       "      <td>1</td>\n",
       "      <td>0</td>\n",
       "    </tr>\n",
       "    <tr>\n",
       "      <th>2</th>\n",
       "      <td>5</td>\n",
       "      <td>NaN</td>\n",
       "      <td>NaN</td>\n",
       "      <td>All residents asked to 'shelter in place' are ...</td>\n",
       "      <td>1</td>\n",
       "      <td>0</td>\n",
       "    </tr>\n",
       "    <tr>\n",
       "      <th>3</th>\n",
       "      <td>6</td>\n",
       "      <td>NaN</td>\n",
       "      <td>NaN</td>\n",
       "      <td>13,000 people receive #wildfires evacuation or...</td>\n",
       "      <td>1</td>\n",
       "      <td>0</td>\n",
       "    </tr>\n",
       "    <tr>\n",
       "      <th>4</th>\n",
       "      <td>7</td>\n",
       "      <td>NaN</td>\n",
       "      <td>NaN</td>\n",
       "      <td>Just got sent this photo from Ruby #Alaska as ...</td>\n",
       "      <td>1</td>\n",
       "      <td>0</td>\n",
       "    </tr>\n",
       "  </tbody>\n",
       "</table>\n",
       "</div>"
      ],
      "text/plain": [
       "   id keyword  ... target cantidad@\n",
       "0   1     NaN  ...      1         0\n",
       "1   4     NaN  ...      1         0\n",
       "2   5     NaN  ...      1         0\n",
       "3   6     NaN  ...      1         0\n",
       "4   7     NaN  ...      1         0\n",
       "\n",
       "[5 rows x 6 columns]"
      ]
     },
     "execution_count": 24,
     "metadata": {
      "tags": []
     },
     "output_type": "execute_result"
    }
   ],
   "source": [
    "#Aplico operaciones sobre train que luego replicare en el set de datos, para obtener los indices que yo considero relevantes\n",
    "#y deshacerme de los que no lo son\n",
    "#Empiezo por las arroba\n",
    "train['cantidad@']=train['text'].str.count('@')\n",
    "datos['cantidad@']=datos['text'].str.count('@')\n",
    "train.head()"
   ]
  },
  {
   "cell_type": "code",
   "execution_count": 25,
   "metadata": {
    "colab": {},
    "colab_type": "code",
    "executionInfo": {
     "elapsed": 57750,
     "status": "ok",
     "timestamp": 1597310273495,
     "user": {
      "displayName": "Niko Farfan",
      "photoUrl": "",
      "userId": "18312784935668397664"
     },
     "user_tz": 180
    },
    "id": "IamIJ8qy8Fu7"
   },
   "outputs": [],
   "source": [
    "#Aplico una funcion de hash sobre la location\n",
    "#Primero fijo los NaN como la cadena \"ninguna\"\n",
    "#Luego proceso eliminando mayusculas haciendo lemmatize\n",
    "import spacy\n",
    "def reemplazarTexto(x):\n",
    "  x=x.casefold()\n",
    "  return x\n",
    "\n",
    "def procesarLocation(df):\n",
    "  df['location']=df['location'].fillna(value='none')\n",
    "  return df['location'].apply(lambda x:reemplazarTexto(x))\n",
    "train['location']=procesarLocation(train)\n",
    "datos['location']=procesarLocation(datos)\n",
    "\n",
    "nlp = spacy.load(\"en_core_web_sm\")\n",
    "def proc(texts):\n",
    "  l=''\n",
    "  if (texts=='none'):\n",
    "    return 'none'\n",
    "  tokens=nltk.word_tokenize(texts)\n",
    "  for doc in nlp.pipe(tokens, disable=[\"tagger\"]):\n",
    "      for ent in doc.ents:\n",
    "        if ([(ent.text,ent.label_)]!=[]) & (ent.label_=='GPE'):\n",
    "            l+= ent.text+','\n",
    "  if l=='':\n",
    "    return 'no valida'\n",
    "  return l\n",
    "train['locationLimpia']=train['location'].apply(lambda x:proc(x))\n",
    "datos['locationLimpia']=datos['location'].apply(lambda x:proc(x))"
   ]
  },
  {
   "cell_type": "code",
   "execution_count": 26,
   "metadata": {
    "colab": {},
    "colab_type": "code",
    "executionInfo": {
     "elapsed": 57746,
     "status": "ok",
     "timestamp": 1597310273497,
     "user": {
      "displayName": "Niko Farfan",
      "photoUrl": "",
      "userId": "18312784935668397664"
     },
     "user_tz": 180
    },
    "id": "tXqG7eRQIRW5"
   },
   "outputs": [],
   "source": [
    "train['ubicacionValida']= ((train['locationLimpia']!='no valida') & (train['locationLimpia']!='none'))*1\n",
    "datos['ubicacionValida']= ((datos['locationLimpia']!='no valida') & (datos['locationLimpia']!='none'))*1"
   ]
  },
  {
   "cell_type": "code",
   "execution_count": 27,
   "metadata": {
    "colab": {},
    "colab_type": "code",
    "executionInfo": {
     "elapsed": 205030,
     "status": "ok",
     "timestamp": 1597310420785,
     "user": {
      "displayName": "Niko Farfan",
      "photoUrl": "",
      "userId": "18312784935668397664"
     },
     "user_tz": 180
    },
    "id": "2tVKI81Y-DXV"
   },
   "outputs": [],
   "source": [
    "def tokenizarTexto(x):\n",
    "  x=x.casefold()\n",
    "  x=re.sub(r'http\\S*', '',x)\n",
    "  x=re.sub(r'[^a-z\\s]', '',x)\n",
    "  lemma=WordNetLemmatizer()\n",
    "  x=lemma.lemmatize(x)\n",
    "  #tokens=nltk.word_tokenize(x)\n",
    "  tknzr = TweetTokenizer(strip_handles=True, reduce_len=True)\n",
    "  tokens = tknzr.tokenize(x)\n",
    "  l=stopwords.words('english')+list(punctuation)\n",
    "  tokens = [word for word in tokens if word not in l]\n",
    "  return tokens\n",
    "\n",
    "nlp = spacy.load(\"en_core_web_sm\")\n",
    "def ubicGeo(texts):\n",
    "  loc=0\n",
    "  tokens=tokenizarTexto(texts)\n",
    "  for doc in nlp.pipe(tokens, disable=[\"tagger\"]):\n",
    "      for ent in doc.ents:\n",
    "        if (ent.label_=='GPE'):\n",
    "          loc=1\n",
    "  return loc\n",
    "train['textoContieneUbicacionGeografica']=train['text'].apply(lambda x:ubicGeo(x))\n",
    "datos['textoContieneUbicacionGeografica']=datos['text'].apply(lambda x:ubicGeo(x))\n"
   ]
  },
  {
   "cell_type": "code",
   "execution_count": null,
   "metadata": {
    "colab": {},
    "colab_type": "code",
    "id": "k4OZaOGe8Lnl"
   },
   "outputs": [],
   "source": [
    "#Contiene Organizacion\n",
    "def tokenizarTexto(x):\n",
    "  x=x.casefold()\n",
    "  x=re.sub(r'http\\S*', '',x)\n",
    "  x=re.sub(r'[^a-z\\s]', '',x)\n",
    "  lemma=WordNetLemmatizer()\n",
    "  x=lemma.lemmatize(x)\n",
    "  tokens=nltk.word_tokenize(x)\n",
    "  #tknzr = TweetTokenizer(strip_handles=True, reduce_len=True)\n",
    "  #tokens = tknzr.tokenize(x)\n",
    "  l=stopwords.words('english')+list(punctuation)\n",
    "  tokens = [word for word in tokens if word not in l]\n",
    "  return tokens\n",
    "\n",
    "nlp = spacy.load(\"en_core_web_sm\")\n",
    "def org(texts):\n",
    "  loc=0\n",
    "  tokens=tokenizarTexto(texts)\n",
    "  for doc in nlp.pipe(tokens, disable=[\"tagger\"]):\n",
    "      for ent in doc.ents:\n",
    "        if (ent.label_=='ORG'):\n",
    "          loc+=1\n",
    "  return loc\n",
    "train['textoContieneOrg']=train['text'].apply(lambda x:org(x))\n",
    "datos['textoContieneOrg']=datos['text'].apply(lambda x:org(x))\n"
   ]
  },
  {
   "cell_type": "code",
   "execution_count": null,
   "metadata": {
    "colab": {},
    "colab_type": "code",
    "id": "ClYjp0m7Jv_7"
   },
   "outputs": [],
   "source": [
    "nlp = spacy.load(\"en_core_web_sm\")\n",
    "def org(texts):\n",
    "  loc=0\n",
    "  tokens=tokenizarTexto(texts)\n",
    "  for doc in nlp.pipe(tokens, disable=[\"tagger\"]):\n",
    "      for ent in doc.ents:\n",
    "        if (ent.label_=='PERSON'):\n",
    "          loc+=1\n",
    "  return loc\n",
    "train['textoContienePer']=train['text'].apply(lambda x:org(x))\n",
    "datos['textoContienePer']=datos['text'].apply(lambda x:org(x))"
   ]
  },
  {
   "cell_type": "code",
   "execution_count": null,
   "metadata": {
    "colab": {},
    "colab_type": "code",
    "id": "rmLZSbOW3mFu"
   },
   "outputs": [],
   "source": [
    "#Analizo longitud de los tweets\n",
    "train['longitudTweet']=train.text.str.len()\n",
    "datos['longitudTweet']=datos.text.str.len()"
   ]
  },
  {
   "cell_type": "code",
   "execution_count": null,
   "metadata": {
    "colab": {},
    "colab_type": "code",
    "id": "IJu6ioS24_LP"
   },
   "outputs": [],
   "source": [
    "#Analizo la cantidad de Hashtags en un tweet\n",
    "train['cantidad#']=train['text'].str.count('#')\n",
    "datos['cantidad#']=datos['text'].str.count('#')"
   ]
  },
  {
   "cell_type": "code",
   "execution_count": null,
   "metadata": {
    "colab": {},
    "colab_type": "code",
    "id": "_CnaEO3wmFun"
   },
   "outputs": [],
   "source": [
    "#Cuento si el texto contiene un http y cuantos tiene\n",
    "def analizarHttp(x):\n",
    "  tokens=nltk.word_tokenize(x)\n",
    "  resultado=0\n",
    "  for token in tokens:\n",
    "    resultado += ((token=='http') | (token=='https'))*1      \n",
    "  return resultado\n",
    "\n",
    "train['cantidadLinks']=train['text'].apply(lambda x:analizarHttp(x))\n",
    "datos['cantidadLinks']=datos['text'].apply(lambda x:analizarHttp(x))"
   ]
  },
  {
   "cell_type": "code",
   "execution_count": null,
   "metadata": {
    "colab": {},
    "colab_type": "code",
    "id": "5IhNlpshu6hZ"
   },
   "outputs": [],
   "source": [
    "#Proceso cada hashtag\n",
    "def procesarHashtag(x):\n",
    "  tokens=nltk.word_tokenize(x)\n",
    "  listaHashtags=[]\n",
    "  for i in range(len(tokens)):\n",
    "    if ((tokens[i]=='#') & (i!=len(tokens)-1)):\n",
    "      listaHashtags.append(tokens[i+1])\n",
    "  return listaHashtags\n",
    "\n",
    "train['hashtagsVector']=train['text'].apply(lambda x:procesarHashtag(x))\n",
    "datos['hashtagsVector']=datos['text'].apply(lambda x:procesarHashtag(x))\n"
   ]
  },
  {
   "cell_type": "code",
   "execution_count": null,
   "metadata": {
    "colab": {},
    "colab_type": "code",
    "id": "ZwOSL4bluK9x"
   },
   "outputs": [],
   "source": [
    "#Analizo si los hashtags contienen alguna keyword\n",
    "def analizarHashtag(x,keys):\n",
    "  tokens=nltk.word_tokenize(x)\n",
    "  lemma=WordNetLemmatizer()\n",
    "  resultado=False\n",
    "  for i in range(len(tokens)):\n",
    "    if ((tokens[i]=='#') & (i!=len(tokens)-1)):\n",
    "      resultado = lemma.lemmatize(tokens[i+1]) in keys\n",
    "  return resultado*1\n",
    "lTrainK=train['keyword'].unique().tolist()\n",
    "lDatosK=train['keyword'].unique().tolist()\n",
    "train['hashtagKey'] = train['text'].apply(lambda x:analizarHashtag(x,lTrainK))\n",
    "datos['hashtagKey'] = datos['text'].apply(lambda x:analizarHashtag(x,lDatosK))"
   ]
  },
  {
   "cell_type": "code",
   "execution_count": null,
   "metadata": {
    "colab": {},
    "colab_type": "code",
    "id": "yhLTZmgx6Ai8"
   },
   "outputs": [],
   "source": [
    "#Analizo si se menciona algun tipo de entretenimiento en el tweet\n",
    "#Puede ser juegos, musica, peliculas...\n",
    "listaEntretenimiento=['music','radio','tv','show','dj','game','gaming','videogame','history','movies','youtube','book','ebook','sports','esports']\n",
    "\n",
    "def analizarContenido(x):\n",
    "  tokens=nltk.word_tokenize(x)\n",
    "  resultado=0\n",
    "  for palabra in tokens:\n",
    "    if palabra in listaEntretenimiento:\n",
    "      resultado = 1\n",
    "  return resultado\n",
    "\n",
    "train['entretenimiento'] = train['text'].apply(lambda x:analizarContenido(x))\n",
    "datos['entretenimiento'] = datos['text'].apply(lambda x:analizarContenido(x))"
   ]
  },
  {
   "cell_type": "code",
   "execution_count": null,
   "metadata": {
    "colab": {},
    "colab_type": "code",
    "id": "dwTWHeqvtno0"
   },
   "outputs": [],
   "source": [
    "def orgHash(texts):\n",
    "  loc=0\n",
    "  for doc in nlp.pipe(texts, disable=[\"tagger\"]):\n",
    "      for ent in doc.ents:\n",
    "        if (ent.label_=='ORG'):\n",
    "          loc=1\n",
    "  return loc\n",
    "train['locationEnHashtag']=train['hashtagsVector'].apply(lambda x:orgHash(x))\n",
    "datos['locationEnHashtag']=datos['hashtagsVector'].apply(lambda x:orgHash(x))"
   ]
  },
  {
   "cell_type": "code",
   "execution_count": null,
   "metadata": {
    "colab": {},
    "colab_type": "code",
    "id": "1fKSNgTf-0HT"
   },
   "outputs": [],
   "source": [
    "#Mean encoding por keyword\n",
    "mean=train['target'].mean()\n",
    "agg=train.groupby('keyword')['target'].agg(['count','mean'])\n",
    "counts=agg['count']\n",
    "means=agg['mean']\n",
    "weight=100\n",
    "smooth=(counts*means+weight*mean)/(counts+weight)\n",
    "train['SmoothKey']=train['keyword'].map(smooth)\n",
    "datos['SmoothKey']=datos['keyword'].map(smooth)"
   ]
  },
  {
   "cell_type": "code",
   "execution_count": null,
   "metadata": {
    "colab": {},
    "colab_type": "code",
    "id": "5vfVnZ5wwwgx"
   },
   "outputs": [],
   "source": [
    "datos['SmoothKey'].fillna(value=datos['SmoothKey'].mean(),inplace=True)\n",
    "train['SmoothKey'].fillna(value=train['SmoothKey'].mean(),inplace=True)"
   ]
  },
  {
   "cell_type": "code",
   "execution_count": null,
   "metadata": {
    "colab": {},
    "colab_type": "code",
    "id": "T34ddpN9zGDk"
   },
   "outputs": [],
   "source": [
    "#Mean encoding por location\n",
    "mean=train['target'].mean()\n",
    "agg=train.groupby('locationLimpia')['target'].agg(['count','mean'])\n",
    "counts=agg['count']\n",
    "means=agg['mean']\n",
    "weight=100\n",
    "smooth=(counts*means+weight*mean)/(counts+weight)\n",
    "train['SmoothLocation']=train['locationLimpia'].map(smooth)\n",
    "datos['SmoothLocation']=datos['locationLimpia'].map(smooth)"
   ]
  },
  {
   "cell_type": "code",
   "execution_count": null,
   "metadata": {
    "colab": {},
    "colab_type": "code",
    "id": "1-j1Ka3d3D-T"
   },
   "outputs": [],
   "source": [
    "datos['SmoothLocation'].fillna(value=datos['SmoothLocation'].mean(),inplace=True)\n",
    "train['SmoothLocation'].fillna(value=train['SmoothLocation'].mean(),inplace=True)"
   ]
  },
  {
   "cell_type": "code",
   "execution_count": null,
   "metadata": {
    "colab": {},
    "colab_type": "code",
    "id": "CJAl0TPQ3Kzx"
   },
   "outputs": [],
   "source": [
    "#Freq encoding\n",
    "train['hashtag'] = train['hashtagsVector'].apply(lambda x: ' '.join(x))\n",
    "datos['hashtag'] = datos['hashtagsVector'].apply(lambda x: ' '.join(x))\n",
    "fe=train.groupby('hashtag').size()/len(train)\n",
    "train['hashtagFreqEnc']=train['hashtag'].map(fe)\n",
    "datos['hashtagFreqEnc']=datos['hashtag'].map(fe)\n",
    "train['hashtagFreqEnc'].fillna(value=train['hashtagFreqEnc'].median(),inplace=True)\n",
    "datos['hashtagFreqEnc'].fillna(value=datos['hashtagFreqEnc'].median(),inplace=True)"
   ]
  },
  {
   "cell_type": "code",
   "execution_count": null,
   "metadata": {
    "colab": {},
    "colab_type": "code",
    "id": "EgajeiQgmCPU"
   },
   "outputs": [],
   "source": [
    "#Analizo la relacion entre cantidad de # y la longitud del tweet\n",
    "train['relacion#longitud']=train['cantidad#']/train['longitudTweet']*100\n",
    "datos['relacion#longitud']=datos['cantidad#']/datos['longitudTweet']*100"
   ]
  },
  {
   "cell_type": "code",
   "execution_count": null,
   "metadata": {
    "colab": {},
    "colab_type": "code",
    "id": "m76PIzsznTVd"
   },
   "outputs": [],
   "source": [
    "#Analizo la relacion entre cantidad de @ y la longitud del tweet\n",
    "train['relacion@longitud']=train['cantidad@']/train['longitudTweet']*100\n",
    "datos['relacion@longitud']=datos['cantidad@']/datos['longitudTweet']*100"
   ]
  },
  {
   "cell_type": "code",
   "execution_count": null,
   "metadata": {
    "colab": {},
    "colab_type": "code",
    "id": "WRj2XWWCkf3U"
   },
   "outputs": [],
   "source": [
    "train['relacionTodoLongitud']=(train['cantidad@']+train['cantidad#']+train['cantidadLinks'])/train['longitudTweet']*100\n",
    "datos['relacionTodoLongitud']=(datos['cantidad@']+datos['cantidad#']+datos['cantidadLinks'])/datos['longitudTweet']*100"
   ]
  },
  {
   "cell_type": "code",
   "execution_count": null,
   "metadata": {
    "colab": {},
    "colab_type": "code",
    "id": "XWZYLdBSEAOt"
   },
   "outputs": [],
   "source": [
    "#Analizo la relacion entre cantidad de @ y la cantidad de #\n",
    "train['suma@y#']=train['cantidad@']+train['cantidad#']\n",
    "datos['suma@y#']=datos['cantidad@']+datos['cantidad#']"
   ]
  },
  {
   "cell_type": "code",
   "execution_count": null,
   "metadata": {
    "colab": {},
    "colab_type": "code",
    "id": "X1qQbtltmISU"
   },
   "outputs": [],
   "source": [
    "train['cantidadPalabras']=train['text'].apply(lambda x: len(tokenizarTexto(x)))\n",
    "datos['cantidadPalabras']=datos['text'].apply(lambda x: len(tokenizarTexto(x)))"
   ]
  },
  {
   "cell_type": "code",
   "execution_count": null,
   "metadata": {
    "colab": {},
    "colab_type": "code",
    "id": "BQEN2QbKS0Uk"
   },
   "outputs": [],
   "source": [
    "#Mean encoding por catidad de palabras\n",
    "mean=train['target'].mean()\n",
    "agg=train.groupby('cantidadPalabras')['target'].agg(['count','mean'])\n",
    "counts=agg['count']\n",
    "means=agg['mean']\n",
    "weight=100\n",
    "smooth=(counts*means+weight*mean)/(counts+weight)\n",
    "train['SmoothCantPal']=train['cantidadPalabras'].map(smooth)\n",
    "datos['SmoothCantPal']=datos['cantidadPalabras'].map(smooth)"
   ]
  },
  {
   "cell_type": "code",
   "execution_count": null,
   "metadata": {
    "colab": {},
    "colab_type": "code",
    "id": "uAL8XyvhbuCj"
   },
   "outputs": [],
   "source": [
    "train['SmoothCantPal'].fillna(value=train['SmoothCantPal'].median(),inplace=True)\n",
    "datos['SmoothCantPal'].fillna(value=datos['SmoothCantPal'].median(),inplace=True)"
   ]
  },
  {
   "cell_type": "code",
   "execution_count": null,
   "metadata": {
    "colab": {},
    "colab_type": "code",
    "id": "m-w0a9mqmIH1"
   },
   "outputs": [],
   "source": [
    "train['palabrasHashtags']=train['cantidad#'] / (train['cantidadPalabras']+1)\n",
    "datos['palabrasHashtags']=datos['cantidad#'] / (datos['cantidadPalabras']+1)"
   ]
  },
  {
   "cell_type": "code",
   "execution_count": null,
   "metadata": {
    "colab": {},
    "colab_type": "code",
    "id": "I8aPzlDpsgm1"
   },
   "outputs": [],
   "source": [
    "#Mean encoding por catidad de @ y #\n",
    "mean=train['target'].mean()\n",
    "agg=train.groupby('suma@y#')['target'].agg(['count','mean'])\n",
    "counts=agg['count']\n",
    "means=agg['mean']\n",
    "weight=100\n",
    "smooth=(counts*means+weight*mean)/(counts+weight)\n",
    "train['Smooth@y#']=train['suma@y#'].map(smooth)\n",
    "datos['Smooth@y#']=datos['suma@y#'].map(smooth)"
   ]
  },
  {
   "cell_type": "code",
   "execution_count": null,
   "metadata": {
    "colab": {},
    "colab_type": "code",
    "id": "JMByjYKqbqzc"
   },
   "outputs": [],
   "source": [
    "datos['Smooth@y#'].fillna(value=datos['Smooth@y#'].median(),inplace=True)\n",
    "train['Smooth@y#'].fillna(value=train['Smooth@y#'].median(),inplace=True)"
   ]
  },
  {
   "cell_type": "code",
   "execution_count": null,
   "metadata": {
    "colab": {},
    "colab_type": "code",
    "id": "vZNXLo1satOG"
   },
   "outputs": [],
   "source": [
    "#Mean por solo #\n",
    "mean=train['target'].mean()\n",
    "agg=train.groupby('cantidad#')['target'].agg(['count','mean'])\n",
    "counts=agg['count']\n",
    "means=agg['mean']\n",
    "weight=100\n",
    "smooth=(counts*means+weight*mean)/(counts+weight)\n",
    "train['Smooth#']=train['cantidad#'].map(smooth)\n",
    "datos['Smooth#']=datos['cantidad#'].map(smooth)"
   ]
  },
  {
   "cell_type": "code",
   "execution_count": null,
   "metadata": {
    "colab": {},
    "colab_type": "code",
    "id": "tGs9NT1KbA0V"
   },
   "outputs": [],
   "source": [
    "datos['Smooth#'].fillna(value=datos['Smooth#'].mean(),inplace=True)\n",
    "train['Smooth#'].fillna(value=train['Smooth#'].mean(),inplace=True)"
   ]
  },
  {
   "cell_type": "code",
   "execution_count": null,
   "metadata": {
    "colab": {},
    "colab_type": "code",
    "id": "80wTD66aloJY"
   },
   "outputs": [],
   "source": [
    "#Longitud de tweet raiz\n",
    "import math\n",
    "train['longitudTweet']=train['longitudTweet'].apply(lambda x: round(x/10))\n",
    "datos['longitudTweet']=datos['longitudTweet'].apply(lambda x: round(x/10))"
   ]
  },
  {
   "cell_type": "code",
   "execution_count": null,
   "metadata": {
    "colab": {},
    "colab_type": "code",
    "id": "C-e8kQk6mnm4"
   },
   "outputs": [],
   "source": [
    "#Mean por long\n",
    "mean=train['target'].mean()\n",
    "agg=train.groupby('longitudTweet')['target'].agg(['count','mean'])\n",
    "counts=agg['count']\n",
    "means=agg['mean']\n",
    "weight=120\n",
    "smooth=(counts*means+weight*mean)/(counts+weight)\n",
    "train['SmoothLongitud']=train['longitudTweet'].map(smooth)\n",
    "datos['SmoothLongitud']=datos['longitudTweet'].map(smooth)"
   ]
  },
  {
   "cell_type": "code",
   "execution_count": null,
   "metadata": {
    "colab": {},
    "colab_type": "code",
    "id": "SWA7hJsKm1dH"
   },
   "outputs": [],
   "source": [
    "datos['SmoothLongitud'].fillna(value=datos['SmoothLongitud'].mean(),inplace=True)\n",
    "train['SmoothLongitud'].fillna(value=train['SmoothLongitud'].mean(),inplace=True)"
   ]
  },
  {
   "cell_type": "code",
   "execution_count": null,
   "metadata": {
    "colab": {},
    "colab_type": "code",
    "id": "oAffCAe6Hfy8"
   },
   "outputs": [],
   "source": [
    "#Remuevo cosas que no hacen al analisis\n",
    "entrenar=train.drop(columns=['target','id','keyword','location','text','hashtagsVector','locationLimpia','hashtag','suma@y#','cantidad#','cantidad@','cantidadLinks'])\n",
    "test=datos.drop(columns=['id','keyword','location','text','hashtagsVector','locationLimpia','hashtag','suma@y#','cantidad#','cantidad@','cantidadLinks'])"
   ]
  },
  {
   "cell_type": "code",
   "execution_count": null,
   "metadata": {
    "colab": {},
    "colab_type": "code",
    "id": "d_hRwtgGDYS2"
   },
   "outputs": [],
   "source": [
    "entrenar.head(1)"
   ]
  },
  {
   "cell_type": "code",
   "execution_count": null,
   "metadata": {
    "colab": {},
    "colab_type": "code",
    "id": "ovG65_arE-0R"
   },
   "outputs": [],
   "source": [
    "from sklearn.datasets import load_digits\n",
    "from sklearn.linear_model import Perceptron\n",
    "\n",
    "clf = Perceptron(tol=1e-3, random_state=0)\n",
    "\n",
    "#Construimos los datos de entrenamiento y de test\n",
    "X = entrenar\n",
    "y = train[\"target\"]\n",
    "\n",
    "X_train, X_test, y_train, y_test = train_test_split(X, y, test_size=0.20, random_state=42)\n",
    "# estandarizamos las features\n",
    "scaler = StandardScaler()\n",
    "\n",
    "# Don't cheat - fit only on training data\n",
    "scaler.fit(X_train)  # doctest: +SKIP\n",
    "X_train = scaler.transform(X_train)  # doctest: +SKIP\n",
    "# apply same transformation to test data\n",
    "X_test = scaler.transform(X_test)  # doctest: +SKI\n",
    "\n",
    "clf.fit(X_train, y_train)\n",
    "y_pred = clf.predict(X_test)\n",
    "#y_pred = (y_pred>0.5)*1\n",
    "accuracy = accuracy_score(y_test, y_pred)\n",
    "print(\"Accuracy: %.2f%%\" % (accuracy * 100.0))"
   ]
  },
  {
   "cell_type": "code",
   "execution_count": null,
   "metadata": {
    "colab": {},
    "colab_type": "code",
    "id": "Z-QD5Xh1pml3"
   },
   "outputs": [],
   "source": [
    "scaler = StandardScaler()\n",
    "\n",
    "# Don't cheat - fit only on training data\n",
    "scaler.fit(X)  # doctest: +SKIP\n",
    "x_train= scaler.transform(X)  # doctest: +SKIP\n",
    "# apply same transformation to test data\n",
    "clf.fit(x_train, target)\n",
    "#test=test[selCol]\n",
    "test=scaler.fit_transform(test)\n",
    "preds = clf.predict(test)\n",
    "predictions = pd.DataFrame()\n",
    "predictions['id']=datos['id']\n",
    "predictions['target']=preds\n",
    "predictions.head()\n",
    "predictions.to_csv('resultados.csv',index=False)"
   ]
  },
  {
   "cell_type": "code",
   "execution_count": null,
   "metadata": {
    "colab": {},
    "colab_type": "code",
    "id": "D6E0NLliIw1Q"
   },
   "outputs": [],
   "source": [
    "#!kaggle competitions submit -c nlp-getting-started -f resultados.csv -m \"Nuevo intento\""
   ]
  }
 ],
 "metadata": {
  "accelerator": "TPU",
  "colab": {
   "authorship_tag": "ABX9TyMtBnxDYIaiCkjWaqT4FTrZ",
   "collapsed_sections": [],
   "name": "Perceptron.ipynb",
   "provenance": []
  },
  "kernelspec": {
   "display_name": "Python 3",
   "language": "python",
   "name": "python3"
  },
  "language_info": {
   "codemirror_mode": {
    "name": "ipython",
    "version": 3
   },
   "file_extension": ".py",
   "mimetype": "text/x-python",
   "name": "python",
   "nbconvert_exporter": "python",
   "pygments_lexer": "ipython3",
   "version": "3.7.6"
  }
 },
 "nbformat": 4,
 "nbformat_minor": 1
}
