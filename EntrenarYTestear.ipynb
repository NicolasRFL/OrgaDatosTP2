{
 "cells": [
  {
   "cell_type": "code",
   "execution_count": 1,
   "metadata": {},
   "outputs": [
    {
     "name": "stderr",
     "output_type": "stream",
     "text": [
      "[nltk_data] Downloading package stopwords to\n",
      "[nltk_data]     C:\\Users\\Nicolas\\AppData\\Roaming\\nltk_data...\n",
      "[nltk_data]   Package stopwords is already up-to-date!\n",
      "[nltk_data] Downloading package wordnet to\n",
      "[nltk_data]     C:\\Users\\Nicolas\\AppData\\Roaming\\nltk_data...\n",
      "[nltk_data]   Package wordnet is already up-to-date!\n",
      "[nltk_data] Downloading package punkt to\n",
      "[nltk_data]     C:\\Users\\Nicolas\\AppData\\Roaming\\nltk_data...\n",
      "[nltk_data]   Package punkt is already up-to-date!\n",
      "[nltk_data] Downloading package averaged_perceptron_tagger to\n",
      "[nltk_data]     C:\\Users\\Nicolas\\AppData\\Roaming\\nltk_data...\n",
      "[nltk_data]   Package averaged_perceptron_tagger is already up-to-\n",
      "[nltk_data]       date!\n"
     ]
    }
   ],
   "source": [
    "import nltk\n",
    "from nltk.corpus import wordnet\n",
    "nltk.download('stopwords')\n",
    "nltk.download('wordnet')\n",
    "nltk.download('punkt')\n",
    "nltk.download('averaged_perceptron_tagger') \n",
    "from nltk.stem import WordNetLemmatizer\n",
    "from nltk.corpus import stopwords\n",
    "from nltk.tokenize import TweetTokenizer\n",
    "import pandas as pd\n",
    "from sklearn.feature_extraction.text import TfidfVectorizer"
   ]
  },
  {
   "cell_type": "code",
   "execution_count": 2,
   "metadata": {},
   "outputs": [],
   "source": [
    "import pandas as pd\n",
    "import numpy as np\n",
    "import matplotlib.pyplot as plt\n",
    "import seaborn as sns\n",
    "import random\n",
    "import datetime"
   ]
  },
  {
   "cell_type": "code",
   "execution_count": 3,
   "metadata": {},
   "outputs": [],
   "source": [
    "from string import punctuation\n",
    "from gensim import models\n",
    "from gensim.models.doc2vec import TaggedDocument, Doc2Vec\n",
    "import re\n",
    "import spacy\n",
    "import enchant\n"
   ]
  },
  {
   "cell_type": "code",
   "execution_count": 4,
   "metadata": {},
   "outputs": [
    {
     "data": {
      "text/html": [
       "<div>\n",
       "<style scoped>\n",
       "    .dataframe tbody tr th:only-of-type {\n",
       "        vertical-align: middle;\n",
       "    }\n",
       "\n",
       "    .dataframe tbody tr th {\n",
       "        vertical-align: top;\n",
       "    }\n",
       "\n",
       "    .dataframe thead th {\n",
       "        text-align: right;\n",
       "    }\n",
       "</style>\n",
       "<table border=\"1\" class=\"dataframe\">\n",
       "  <thead>\n",
       "    <tr style=\"text-align: right;\">\n",
       "      <th></th>\n",
       "      <th>id</th>\n",
       "      <th>keyword</th>\n",
       "      <th>location</th>\n",
       "      <th>text</th>\n",
       "    </tr>\n",
       "  </thead>\n",
       "  <tbody>\n",
       "    <tr>\n",
       "      <th>0</th>\n",
       "      <td>0</td>\n",
       "      <td>NaN</td>\n",
       "      <td>NaN</td>\n",
       "      <td>Just happened a terrible car crash</td>\n",
       "    </tr>\n",
       "    <tr>\n",
       "      <th>1</th>\n",
       "      <td>2</td>\n",
       "      <td>NaN</td>\n",
       "      <td>NaN</td>\n",
       "      <td>Heard about #earthquake is different cities, s...</td>\n",
       "    </tr>\n",
       "    <tr>\n",
       "      <th>2</th>\n",
       "      <td>3</td>\n",
       "      <td>NaN</td>\n",
       "      <td>NaN</td>\n",
       "      <td>there is a forest fire at spot pond, geese are...</td>\n",
       "    </tr>\n",
       "    <tr>\n",
       "      <th>3</th>\n",
       "      <td>9</td>\n",
       "      <td>NaN</td>\n",
       "      <td>NaN</td>\n",
       "      <td>Apocalypse lighting. #Spokane #wildfires</td>\n",
       "    </tr>\n",
       "    <tr>\n",
       "      <th>4</th>\n",
       "      <td>11</td>\n",
       "      <td>NaN</td>\n",
       "      <td>NaN</td>\n",
       "      <td>Typhoon Soudelor kills 28 in China and Taiwan</td>\n",
       "    </tr>\n",
       "  </tbody>\n",
       "</table>\n",
       "</div>"
      ],
      "text/plain": [
       "   id keyword location                                               text\n",
       "0   0     NaN      NaN                 Just happened a terrible car crash\n",
       "1   2     NaN      NaN  Heard about #earthquake is different cities, s...\n",
       "2   3     NaN      NaN  there is a forest fire at spot pond, geese are...\n",
       "3   9     NaN      NaN           Apocalypse lighting. #Spokane #wildfires\n",
       "4  11     NaN      NaN      Typhoon Soudelor kills 28 in China and Taiwan"
      ]
     },
     "execution_count": 4,
     "metadata": {},
     "output_type": "execute_result"
    }
   ],
   "source": [
    "train=pd.read_csv(\"train.csv\",encoding='latin-1')\n",
    "datos =pd.read_csv(\"test.csv\",encoding='latin-1')\n",
    "datos.head()"
   ]
  },
  {
   "cell_type": "code",
   "execution_count": 5,
   "metadata": {},
   "outputs": [],
   "source": [
    "#Separo el target de los tweets\n",
    "target = train.iloc[:,-1]"
   ]
  },
  {
   "cell_type": "code",
   "execution_count": 6,
   "metadata": {},
   "outputs": [
    {
     "data": {
      "text/html": [
       "<div>\n",
       "<style scoped>\n",
       "    .dataframe tbody tr th:only-of-type {\n",
       "        vertical-align: middle;\n",
       "    }\n",
       "\n",
       "    .dataframe tbody tr th {\n",
       "        vertical-align: top;\n",
       "    }\n",
       "\n",
       "    .dataframe thead th {\n",
       "        text-align: right;\n",
       "    }\n",
       "</style>\n",
       "<table border=\"1\" class=\"dataframe\">\n",
       "  <thead>\n",
       "    <tr style=\"text-align: right;\">\n",
       "      <th></th>\n",
       "      <th>id</th>\n",
       "      <th>keyword</th>\n",
       "      <th>location</th>\n",
       "      <th>text</th>\n",
       "      <th>target</th>\n",
       "      <th>cantidad@</th>\n",
       "    </tr>\n",
       "  </thead>\n",
       "  <tbody>\n",
       "    <tr>\n",
       "      <th>0</th>\n",
       "      <td>1</td>\n",
       "      <td>NaN</td>\n",
       "      <td>NaN</td>\n",
       "      <td>Our Deeds are the Reason of this #earthquake M...</td>\n",
       "      <td>1</td>\n",
       "      <td>0</td>\n",
       "    </tr>\n",
       "    <tr>\n",
       "      <th>1</th>\n",
       "      <td>4</td>\n",
       "      <td>NaN</td>\n",
       "      <td>NaN</td>\n",
       "      <td>Forest fire near La Ronge Sask. Canada</td>\n",
       "      <td>1</td>\n",
       "      <td>0</td>\n",
       "    </tr>\n",
       "    <tr>\n",
       "      <th>2</th>\n",
       "      <td>5</td>\n",
       "      <td>NaN</td>\n",
       "      <td>NaN</td>\n",
       "      <td>All residents asked to 'shelter in place' are ...</td>\n",
       "      <td>1</td>\n",
       "      <td>0</td>\n",
       "    </tr>\n",
       "    <tr>\n",
       "      <th>3</th>\n",
       "      <td>6</td>\n",
       "      <td>NaN</td>\n",
       "      <td>NaN</td>\n",
       "      <td>13,000 people receive #wildfires evacuation or...</td>\n",
       "      <td>1</td>\n",
       "      <td>0</td>\n",
       "    </tr>\n",
       "    <tr>\n",
       "      <th>4</th>\n",
       "      <td>7</td>\n",
       "      <td>NaN</td>\n",
       "      <td>NaN</td>\n",
       "      <td>Just got sent this photo from Ruby #Alaska as ...</td>\n",
       "      <td>1</td>\n",
       "      <td>0</td>\n",
       "    </tr>\n",
       "  </tbody>\n",
       "</table>\n",
       "</div>"
      ],
      "text/plain": [
       "   id keyword location                                               text  \\\n",
       "0   1     NaN      NaN  Our Deeds are the Reason of this #earthquake M...   \n",
       "1   4     NaN      NaN             Forest fire near La Ronge Sask. Canada   \n",
       "2   5     NaN      NaN  All residents asked to 'shelter in place' are ...   \n",
       "3   6     NaN      NaN  13,000 people receive #wildfires evacuation or...   \n",
       "4   7     NaN      NaN  Just got sent this photo from Ruby #Alaska as ...   \n",
       "\n",
       "   target  cantidad@  \n",
       "0       1          0  \n",
       "1       1          0  \n",
       "2       1          0  \n",
       "3       1          0  \n",
       "4       1          0  "
      ]
     },
     "execution_count": 6,
     "metadata": {},
     "output_type": "execute_result"
    }
   ],
   "source": [
    "#Aplico operaciones sobre train que luego replicare en el set de datos, para obtener los indices que yo considero relevantes\n",
    "#y deshacerme de los que no lo son\n",
    "#Empiezo por las arroba\n",
    "train['cantidad@']=train['text'].str.count('@')\n",
    "datos['cantidad@']=datos['text'].str.count('@')\n",
    "train.head()"
   ]
  },
  {
   "cell_type": "code",
   "execution_count": 7,
   "metadata": {},
   "outputs": [],
   "source": [
    "#Aplico una funcion de hash sobre la location\n",
    "#Primero fijo los NaN como la cadena \"ninguna\"\n",
    "#Luego proceso eliminando mayusculas haciendo lemmatize\n",
    "def reemplazarTexto(x):\n",
    "  x=x.casefold()\n",
    "  return x\n",
    "\n",
    "def procesarLocation(df):\n",
    "  df['location']=df['location'].fillna(value='none')\n",
    "  return df['location'].apply(lambda x:reemplazarTexto(x))\n",
    "train['location']=procesarLocation(train)\n",
    "datos['location']=procesarLocation(datos)\n",
    "\n",
    "nlp = spacy.load(\"en_core_web_sm\")\n",
    "def proc(texts):\n",
    "  l=''\n",
    "  if (texts=='none'):\n",
    "    return 'none'\n",
    "  tokens=nltk.word_tokenize(texts)\n",
    "  for doc in nlp.pipe(tokens, disable=[\"tagger\"]):\n",
    "      for ent in doc.ents:\n",
    "        if ([(ent.text,ent.label_)]!=[]) & (ent.label_=='GPE'):\n",
    "            l+= ent.text+','\n",
    "  if l=='':\n",
    "    return 'no valida'\n",
    "  return l\n",
    "train['locationLimpia']=train['location'].apply(lambda x:proc(x))\n",
    "datos['locationLimpia']=datos['location'].apply(lambda x:proc(x))"
   ]
  },
  {
   "cell_type": "code",
   "execution_count": 8,
   "metadata": {},
   "outputs": [],
   "source": [
    "train['ubicacionValida']= ((train['locationLimpia']!='no valida') & (train['locationLimpia']!='none'))*1\n",
    "datos['ubicacionValida']= ((datos['locationLimpia']!='no valida') & (datos['locationLimpia']!='none'))*1"
   ]
  },
  {
   "cell_type": "code",
   "execution_count": 9,
   "metadata": {},
   "outputs": [],
   "source": [
    "def tokenizarTexto(x):\n",
    "  x=x.casefold()\n",
    "  d = enchant.Dict(\"en\")\n",
    "  x=re.sub(r'http\\S*', '',x)\n",
    "  x=re.sub(r'[^a-z\\s]', '',x)\n",
    "  lemma=WordNetLemmatizer()\n",
    "  x=lemma.lemmatize(x)\n",
    "  tokens=nltk.word_tokenize(x)\n",
    "  #tknzr = TweetTokenizer(strip_handles=True, reduce_len=True)\n",
    "  #tokens = tknzr.tokenize(x)\n",
    "  l=stopwords.words('english')+list(punctuation)\n",
    "  tokens = [word for word in tokens if word not in l]\n",
    "  tokens= [word for word in tokens if d.check(word)]\n",
    "  tokens= [word for word in tokens if wordnet.synsets(word)]\n",
    "  return tokens"
   ]
  },
  {
   "cell_type": "code",
   "execution_count": 10,
   "metadata": {},
   "outputs": [],
   "source": [
    "#Analizo longitud de los tweets\n",
    "train['longitudTweet']=train.text.str.len()\n",
    "datos['longitudTweet']=datos.text.str.len()"
   ]
  },
  {
   "cell_type": "code",
   "execution_count": 11,
   "metadata": {},
   "outputs": [],
   "source": [
    "#Analizo la cantidad de Hashtags en un tweet\n",
    "train['cantidad#']=train['text'].str.count('#')\n",
    "datos['cantidad#']=datos['text'].str.count('#')"
   ]
  },
  {
   "cell_type": "code",
   "execution_count": 12,
   "metadata": {},
   "outputs": [],
   "source": [
    "#Cuento si el texto contiene un http y cuantos tiene\n",
    "def analizarHttp(x):\n",
    "  tokens=nltk.word_tokenize(x)\n",
    "  resultado=0\n",
    "  for token in tokens:\n",
    "    resultado += ((token=='http') | (token=='https'))*1      \n",
    "  return resultado\n",
    "\n",
    "train['cantidadLinks']=train['text'].apply(lambda x:analizarHttp(x))\n",
    "datos['cantidadLinks']=datos['text'].apply(lambda x:analizarHttp(x))"
   ]
  },
  {
   "cell_type": "code",
   "execution_count": 13,
   "metadata": {},
   "outputs": [],
   "source": [
    "#Proceso cada hashtag\n",
    "def procesarHashtag(x):\n",
    "  tokens=nltk.word_tokenize(x)\n",
    "  listaHashtags=[]\n",
    "  for i in range(len(tokens)):\n",
    "    if ((tokens[i]=='#') & (i!=len(tokens)-1)):\n",
    "      listaHashtags.append(tokens[i+1])\n",
    "  return listaHashtags\n",
    "\n",
    "train['hashtagsVector']=train['text'].apply(lambda x:procesarHashtag(x))\n",
    "datos['hashtagsVector']=datos['text'].apply(lambda x:procesarHashtag(x))"
   ]
  },
  {
   "cell_type": "code",
   "execution_count": 14,
   "metadata": {},
   "outputs": [],
   "source": [
    "#Analizo si los hashtags contienen alguna keyword\n",
    "def analizarHashtag(x,keys):\n",
    "  tokens=nltk.word_tokenize(x)\n",
    "  lemma=WordNetLemmatizer()\n",
    "  resultado=False\n",
    "  for i in range(len(tokens)):\n",
    "    if ((tokens[i]=='#') & (i!=len(tokens)-1)):\n",
    "      resultado = lemma.lemmatize(tokens[i+1]) in keys\n",
    "  return resultado*1\n",
    "lTrainK=train['keyword'].unique().tolist()\n",
    "lDatosK=train['keyword'].unique().tolist()\n",
    "train['hashtagKey'] = train['text'].apply(lambda x:analizarHashtag(x,lTrainK))\n",
    "datos['hashtagKey'] = datos['text'].apply(lambda x:analizarHashtag(x,lDatosK))"
   ]
  },
  {
   "cell_type": "code",
   "execution_count": 15,
   "metadata": {},
   "outputs": [],
   "source": [
    "#Analizo si se menciona algun tipo de entretenimiento en el tweet\n",
    "#Puede ser juegos, musica, peliculas...\n",
    "listaEntretenimiento=['music','radio','tv','show','dj','game','gaming','videogame','history','movies','youtube','book','ebook','sports','esports']\n",
    "\n",
    "def analizarContenido(x):\n",
    "  tokens=nltk.word_tokenize(x)\n",
    "  resultado=0\n",
    "  for palabra in tokens:\n",
    "    if palabra in listaEntretenimiento:\n",
    "      resultado = 1\n",
    "  return resultado\n",
    "\n",
    "train['entretenimiento'] = train['text'].apply(lambda x:analizarContenido(x))\n",
    "datos['entretenimiento'] = datos['text'].apply(lambda x:analizarContenido(x))"
   ]
  },
  {
   "cell_type": "code",
   "execution_count": 16,
   "metadata": {},
   "outputs": [],
   "source": [
    "def orgHash(texts):\n",
    "  loc=0\n",
    "  for doc in nlp.pipe(texts, disable=[\"tagger\"]):\n",
    "      for ent in doc.ents:\n",
    "        if (ent.label_=='ORG'):\n",
    "          loc=1\n",
    "  return loc\n",
    "train['locationEnHashtag']=train['hashtagsVector'].apply(lambda x:orgHash(x))\n",
    "datos['locationEnHashtag']=datos['hashtagsVector'].apply(lambda x:orgHash(x))"
   ]
  },
  {
   "cell_type": "code",
   "execution_count": 17,
   "metadata": {},
   "outputs": [],
   "source": [
    "#Mean encoding por keyword\n",
    "mean=train['target'].mean()\n",
    "agg=train.groupby('keyword')['target'].agg(['count','mean'])\n",
    "counts=agg['count']\n",
    "means=agg['mean']\n",
    "weight=100\n",
    "smooth=(counts*means+weight*mean)/(counts+weight)\n",
    "train['SmoothKey']=train['keyword'].map(smooth)\n",
    "datos['SmoothKey']=datos['keyword'].map(smooth)"
   ]
  },
  {
   "cell_type": "code",
   "execution_count": 18,
   "metadata": {},
   "outputs": [],
   "source": [
    "datos['SmoothKey'].fillna(value=datos['SmoothKey'].mean(),inplace=True)\n",
    "train['SmoothKey'].fillna(value=train['SmoothKey'].mean(),inplace=True)"
   ]
  },
  {
   "cell_type": "code",
   "execution_count": 19,
   "metadata": {},
   "outputs": [],
   "source": [
    "#Mean encoding por location\n",
    "mean=train['target'].mean()\n",
    "agg=train.groupby('locationLimpia')['target'].agg(['count','mean'])\n",
    "counts=agg['count']\n",
    "means=agg['mean']\n",
    "weight=100\n",
    "smooth=(counts*means+weight*mean)/(counts+weight)\n",
    "train['SmoothLocation']=train['locationLimpia'].map(smooth)\n",
    "datos['SmoothLocation']=datos['locationLimpia'].map(smooth)"
   ]
  },
  {
   "cell_type": "code",
   "execution_count": 20,
   "metadata": {},
   "outputs": [],
   "source": [
    "datos['SmoothLocation'].fillna(value=datos['SmoothLocation'].mean(),inplace=True)\n",
    "train['SmoothLocation'].fillna(value=train['SmoothLocation'].mean(),inplace=True)"
   ]
  },
  {
   "cell_type": "code",
   "execution_count": 21,
   "metadata": {},
   "outputs": [],
   "source": [
    "#Freq encoding\n",
    "train['hashtag'] = train['hashtagsVector'].apply(lambda x: ' '.join(x))\n",
    "datos['hashtag'] = datos['hashtagsVector'].apply(lambda x: ' '.join(x))\n",
    "fe=train.groupby('hashtag').size()/len(train)\n",
    "train['hashtagFreqEnc']=train['hashtag'].map(fe)\n",
    "datos['hashtagFreqEnc']=datos['hashtag'].map(fe)\n",
    "train['hashtagFreqEnc'].fillna(value=train['hashtagFreqEnc'].median(),inplace=True)\n",
    "datos['hashtagFreqEnc'].fillna(value=datos['hashtagFreqEnc'].median(),inplace=True)"
   ]
  },
  {
   "cell_type": "code",
   "execution_count": 22,
   "metadata": {},
   "outputs": [],
   "source": [
    "#Analizo la relacion entre cantidad de # y la longitud del tweet\n",
    "train['relacion#longitud']=train['cantidad#']/train['longitudTweet']*100\n",
    "datos['relacion#longitud']=datos['cantidad#']/datos['longitudTweet']*100"
   ]
  },
  {
   "cell_type": "code",
   "execution_count": 23,
   "metadata": {},
   "outputs": [],
   "source": [
    "#Analizo la relacion entre cantidad de @ y la longitud del tweet\n",
    "train['relacion@longitud']=train['cantidad@']/train['longitudTweet']*100\n",
    "datos['relacion@longitud']=datos['cantidad@']/datos['longitudTweet']*100"
   ]
  },
  {
   "cell_type": "code",
   "execution_count": 24,
   "metadata": {},
   "outputs": [],
   "source": [
    "train['relacionTodoLongitud']=(train['cantidad@']+train['cantidad#']+train['cantidadLinks'])/train['longitudTweet']*100\n",
    "datos['relacionTodoLongitud']=(datos['cantidad@']+datos['cantidad#']+datos['cantidadLinks'])/datos['longitudTweet']*100"
   ]
  },
  {
   "cell_type": "code",
   "execution_count": 25,
   "metadata": {},
   "outputs": [],
   "source": [
    "#Analizo la relacion entre cantidad de @ y la cantidad de #\n",
    "train['suma@y#']=train['cantidad@']+train['cantidad#']\n",
    "datos['suma@y#']=datos['cantidad@']+datos['cantidad#']"
   ]
  },
  {
   "cell_type": "code",
   "execution_count": 26,
   "metadata": {},
   "outputs": [],
   "source": [
    "#Analizo cantidad de palabras\n",
    "train['cantidadPalabras']=train['text'].apply(lambda x: len(tokenizarTexto(x)))\n",
    "datos['cantidadPalabras']=datos['text'].apply(lambda x: len(tokenizarTexto(x)))"
   ]
  },
  {
   "cell_type": "code",
   "execution_count": 27,
   "metadata": {},
   "outputs": [],
   "source": [
    "#Mean encoding por catidad de palabras\n",
    "mean=train['target'].mean()\n",
    "agg=train.groupby('cantidadPalabras')['target'].agg(['count','mean'])\n",
    "counts=agg['count']\n",
    "means=agg['mean']\n",
    "weight=100\n",
    "smooth=(counts*means+weight*mean)/(counts+weight)\n",
    "train['SmoothCantPal']=train['cantidadPalabras'].map(smooth)\n",
    "datos['SmoothCantPal']=datos['cantidadPalabras'].map(smooth)"
   ]
  },
  {
   "cell_type": "code",
   "execution_count": 28,
   "metadata": {},
   "outputs": [],
   "source": [
    "train['SmoothCantPal'].fillna(value=train['SmoothCantPal'].median(),inplace=True)\n",
    "datos['SmoothCantPal'].fillna(value=datos['SmoothCantPal'].median(),inplace=True)"
   ]
  },
  {
   "cell_type": "code",
   "execution_count": 29,
   "metadata": {},
   "outputs": [],
   "source": [
    "#Mean encoding por catidad de @ y #\n",
    "mean=train['target'].mean()\n",
    "agg=train.groupby('suma@y#')['target'].agg(['count','mean'])\n",
    "counts=agg['count']\n",
    "means=agg['mean']\n",
    "weight=100\n",
    "smooth=(counts*means+weight*mean)/(counts+weight)\n",
    "train['Smooth@y#']=train['suma@y#'].map(smooth)\n",
    "datos['Smooth@y#']=datos['suma@y#'].map(smooth)"
   ]
  },
  {
   "cell_type": "code",
   "execution_count": 30,
   "metadata": {},
   "outputs": [],
   "source": [
    "datos['Smooth@y#'].fillna(value=datos['Smooth@y#'].median(),inplace=True)\n",
    "train['Smooth@y#'].fillna(value=train['Smooth@y#'].median(),inplace=True)"
   ]
  },
  {
   "cell_type": "code",
   "execution_count": 31,
   "metadata": {},
   "outputs": [],
   "source": [
    "import math\n",
    "train['longitudTweet']=train['longitudTweet'].apply(lambda x: round(x/10))\n",
    "datos['longitudTweet']=datos['longitudTweet'].apply(lambda x: round(x/10))"
   ]
  },
  {
   "cell_type": "code",
   "execution_count": 32,
   "metadata": {},
   "outputs": [],
   "source": [
    "#Mean por long\n",
    "mean=train['target'].mean()\n",
    "agg=train.groupby('longitudTweet')['target'].agg(['count','mean'])\n",
    "counts=agg['count']\n",
    "means=agg['mean']\n",
    "weight=120\n",
    "smooth=(counts*means+weight*mean)/(counts+weight)\n",
    "train['SmoothLongitud']=train['longitudTweet'].map(smooth)\n",
    "datos['SmoothLongitud']=datos['longitudTweet'].map(smooth)"
   ]
  },
  {
   "cell_type": "code",
   "execution_count": 33,
   "metadata": {},
   "outputs": [],
   "source": [
    "datos['SmoothLongitud'].fillna(value=datos['SmoothLongitud'].mean(),inplace=True)\n",
    "train['SmoothLongitud'].fillna(value=train['SmoothLongitud'].mean(),inplace=True)"
   ]
  },
  {
   "cell_type": "code",
   "execution_count": 34,
   "metadata": {},
   "outputs": [],
   "source": [
    "#Remuevo cosas que no hacen al analisis\n",
    "entrenar=train.drop(columns=['id','keyword','location','text','hashtagsVector','locationLimpia','hashtag','suma@y#','cantidad#','cantidad@','cantidadLinks'])\n",
    "test=datos.drop(columns=['id','keyword','location','text','hashtagsVector','locationLimpia','hashtag','suma@y#','cantidad#','cantidad@','cantidadLinks'])"
   ]
  },
  {
   "cell_type": "code",
   "execution_count": 35,
   "metadata": {},
   "outputs": [],
   "source": [
    "entrenar.to_csv('entrenar.csv',index=False)\n",
    "test.to_csv('testear.csv',index=False)"
   ]
  },
  {
   "cell_type": "code",
   "execution_count": null,
   "metadata": {},
   "outputs": [],
   "source": []
  }
 ],
 "metadata": {
  "kernelspec": {
   "display_name": "Python 3",
   "language": "python",
   "name": "python3"
  },
  "language_info": {
   "codemirror_mode": {
    "name": "ipython",
    "version": 3
   },
   "file_extension": ".py",
   "mimetype": "text/x-python",
   "name": "python",
   "nbconvert_exporter": "python",
   "pygments_lexer": "ipython3",
   "version": "3.7.6"
  }
 },
 "nbformat": 4,
 "nbformat_minor": 4
}
