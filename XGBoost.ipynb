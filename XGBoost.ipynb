{
  "nbformat": 4,
  "nbformat_minor": 0,
  "metadata": {
    "colab": {
      "name": "XGBoost.ipynb",
      "provenance": [],
      "collapsed_sections": []
    },
    "kernelspec": {
      "display_name": "Python 3",
      "language": "python",
      "name": "python3"
    },
    "language_info": {
      "codemirror_mode": {
        "name": "ipython",
        "version": 3
      },
      "file_extension": ".py",
      "mimetype": "text/x-python",
      "name": "python",
      "nbconvert_exporter": "python",
      "pygments_lexer": "ipython3",
      "version": "3.7.6"
    }
  },
  "cells": [
    {
      "cell_type": "markdown",
      "metadata": {
        "colab_type": "text",
        "id": "7BspM5y3MVct"
      },
      "source": [
        "Parallel tree boosting. XGBOOST"
      ]
    },
    {
      "cell_type": "code",
      "metadata": {
        "colab_type": "code",
        "id": "bvNYHf8bq5BK",
        "colab": {
          "base_uri": "https://localhost:8080/",
          "height": 34
        },
        "outputId": "a06f33f2-bdb8-4ff6-e9af-b4f053e4435c"
      },
      "source": [
        "from google.colab import drive\n",
        "drive.mount('/content/gdrive')"
      ],
      "execution_count": null,
      "outputs": [
        {
          "output_type": "stream",
          "text": [
            "Drive already mounted at /content/gdrive; to attempt to forcibly remount, call drive.mount(\"/content/gdrive\", force_remount=True).\n"
          ],
          "name": "stdout"
        }
      ]
    },
    {
      "cell_type": "code",
      "metadata": {
        "colab_type": "code",
        "id": "1uBSFc01secX",
        "colab": {
          "base_uri": "https://localhost:8080/",
          "height": 34
        },
        "outputId": "67a81cb7-2804-46b4-d3bd-b83fb72616be"
      },
      "source": [
        "%cd /content/gdrive/My Drive/Kaggle"
      ],
      "execution_count": null,
      "outputs": [
        {
          "output_type": "stream",
          "text": [
            "/content/gdrive/My Drive/Kaggle\n"
          ],
          "name": "stdout"
        }
      ]
    },
    {
      "cell_type": "code",
      "metadata": {
        "colab_type": "code",
        "id": "bSnC7GHFrJVw",
        "colab": {}
      },
      "source": [
        "import os\n",
        "os.environ['KAGGLE_CONFIG_DIR'] = \"/content/gdrive/My Drive/Kaggle\""
      ],
      "execution_count": null,
      "outputs": []
    },
    {
      "cell_type": "code",
      "metadata": {
        "colab_type": "code",
        "id": "iaW-ELSQ6ewH",
        "colab": {
          "base_uri": "https://localhost:8080/",
          "height": 187
        },
        "outputId": "d7bde402-a13c-47e9-c591-2bea3a73215f"
      },
      "source": [
        "import nltk\n",
        "nltk.download('stopwords')\n",
        "nltk.download('wordnet')\n",
        "nltk.download('punkt')\n",
        "nltk.download('averaged_perceptron_tagger') \n",
        "from nltk.stem import WordNetLemmatizer"
      ],
      "execution_count": null,
      "outputs": [
        {
          "output_type": "stream",
          "text": [
            "[nltk_data] Downloading package stopwords to /root/nltk_data...\n",
            "[nltk_data]   Package stopwords is already up-to-date!\n",
            "[nltk_data] Downloading package wordnet to /root/nltk_data...\n",
            "[nltk_data]   Package wordnet is already up-to-date!\n",
            "[nltk_data] Downloading package punkt to /root/nltk_data...\n",
            "[nltk_data]   Package punkt is already up-to-date!\n",
            "[nltk_data] Downloading package averaged_perceptron_tagger to\n",
            "[nltk_data]     /root/nltk_data...\n",
            "[nltk_data]   Package averaged_perceptron_tagger is already up-to-\n",
            "[nltk_data]       date!\n"
          ],
          "name": "stdout"
        }
      ]
    },
    {
      "cell_type": "code",
      "metadata": {
        "colab_type": "code",
        "id": "U571Bj9aaKnk",
        "colab": {}
      },
      "source": [
        "import xgboost as xgb\n",
        "from numpy import loadtxt\n",
        "from xgboost import XGBClassifier\n",
        "from sklearn.metrics import accuracy_score\n",
        "from sklearn.model_selection import train_test_split\n",
        "from sklearn.model_selection import GridSearchCV\n",
        "from sklearn.model_selection import StratifiedKFold\n",
        "from sklearn.metrics import accuracy_score\n",
        "from sklearn.ensemble import RandomForestRegressor\n",
        "from sklearn.metrics import mean_squared_error\n",
        "from sklearn.feature_extraction import FeatureHasher\n",
        "\n",
        "import pandas as pd\n",
        "import numpy as np\n",
        "import matplotlib.pyplot as plt\n",
        "from sklearn import tree\n",
        "from sklearn.metrics import f1_score\n",
        "from matplotlib import pyplot\n",
        "from sklearn.preprocessing import LabelEncoder"
      ],
      "execution_count": null,
      "outputs": []
    },
    {
      "cell_type": "code",
      "metadata": {
        "colab_type": "code",
        "id": "caU5q_PoaO1N",
        "colab": {
          "base_uri": "https://localhost:8080/",
          "height": 51
        },
        "outputId": "cc94acf9-4bb6-4c59-c8bd-95f21d390320"
      },
      "source": [
        "import pandas as pd\n",
        "import numpy as np\n",
        "import matplotlib.pyplot as plt\n",
        "import seaborn as sns\n",
        "import random\n",
        "import datetime"
      ],
      "execution_count": null,
      "outputs": [
        {
          "output_type": "stream",
          "text": [
            "/usr/local/lib/python3.6/dist-packages/statsmodels/tools/_testing.py:19: FutureWarning: pandas.util.testing is deprecated. Use the functions in the public API at pandas.testing instead.\n",
            "  import pandas.util.testing as tm\n"
          ],
          "name": "stderr"
        }
      ]
    },
    {
      "cell_type": "code",
      "metadata": {
        "colab_type": "code",
        "id": "El6KSFBojdtp",
        "colab": {
          "base_uri": "https://localhost:8080/",
          "height": 85
        },
        "outputId": "8a7178c1-c7e8-48a7-a9f2-87d4404b06a9"
      },
      "source": [
        "!kaggle competitions download -c nlp-getting-started"
      ],
      "execution_count": null,
      "outputs": [
        {
          "output_type": "stream",
          "text": [
            "Warning: Looks like you're using an outdated API Version, please consider updating (server 1.5.6 / client 1.5.4)\n",
            "sample_submission.csv: Skipping, found more recently modified local copy (use --force to force download)\n",
            "train.csv: Skipping, found more recently modified local copy (use --force to force download)\n",
            "test.csv: Skipping, found more recently modified local copy (use --force to force download)\n"
          ],
          "name": "stdout"
        }
      ]
    },
    {
      "cell_type": "code",
      "metadata": {
        "colab_type": "code",
        "id": "O0aqB9EerTjg",
        "colab": {
          "base_uri": "https://localhost:8080/",
          "height": 255
        },
        "outputId": "c6155d22-6d2e-47be-d83d-f942f02987f4"
      },
      "source": [
        "!ls"
      ],
      "execution_count": null,
      "outputs": [
        {
          "output_type": "stream",
          "text": [
            "'=1.6'\t\t\t Miniconda3-4.5.4-Linux-x86_64.sh\n",
            " catboost_info\t\t resultadosCNN.csv\n",
            " CatBoost.ipynb\t\t resultados.csv\n",
            " colsample_bylevel.png\t resultadosRF.csv\n",
            " dfdatos\t\t resultadosRoberta.csv\n",
            " dftrain\t\t rf_5trees.png\n",
            " do2vec.model\t\t rf_individualtree.png\n",
            " glove.6B.100d.txt\t sample_submission.csv\n",
            " glove.6B.200d.txt\t test.csv\n",
            " glove.6B.300d.txt\t train.csv\n",
            " glove.6B.50d.txt\t Untitled0.ipynb\n",
            " glove.6B.zip\t\t wandb\n",
            " glove.6B.zip.1\t\t XGBoost.ipynb\n",
            " kaggle.json\n"
          ],
          "name": "stdout"
        }
      ]
    },
    {
      "cell_type": "code",
      "metadata": {
        "colab_type": "code",
        "id": "KEtYB2Juremn",
        "colab": {
          "base_uri": "https://localhost:8080/",
          "height": 204
        },
        "outputId": "8c9684e0-c6f9-4252-85f7-8203d6918fcd"
      },
      "source": [
        "train=pd.read_csv(\"train.csv\",encoding='latin-1')\n",
        "datos =pd.read_csv(\"test.csv\",encoding='latin-1')\n",
        "datos.head()"
      ],
      "execution_count": null,
      "outputs": [
        {
          "output_type": "execute_result",
          "data": {
            "text/html": [
              "<div>\n",
              "<style scoped>\n",
              "    .dataframe tbody tr th:only-of-type {\n",
              "        vertical-align: middle;\n",
              "    }\n",
              "\n",
              "    .dataframe tbody tr th {\n",
              "        vertical-align: top;\n",
              "    }\n",
              "\n",
              "    .dataframe thead th {\n",
              "        text-align: right;\n",
              "    }\n",
              "</style>\n",
              "<table border=\"1\" class=\"dataframe\">\n",
              "  <thead>\n",
              "    <tr style=\"text-align: right;\">\n",
              "      <th></th>\n",
              "      <th>id</th>\n",
              "      <th>keyword</th>\n",
              "      <th>location</th>\n",
              "      <th>text</th>\n",
              "    </tr>\n",
              "  </thead>\n",
              "  <tbody>\n",
              "    <tr>\n",
              "      <th>0</th>\n",
              "      <td>0</td>\n",
              "      <td>NaN</td>\n",
              "      <td>NaN</td>\n",
              "      <td>Just happened a terrible car crash</td>\n",
              "    </tr>\n",
              "    <tr>\n",
              "      <th>1</th>\n",
              "      <td>2</td>\n",
              "      <td>NaN</td>\n",
              "      <td>NaN</td>\n",
              "      <td>Heard about #earthquake is different cities, s...</td>\n",
              "    </tr>\n",
              "    <tr>\n",
              "      <th>2</th>\n",
              "      <td>3</td>\n",
              "      <td>NaN</td>\n",
              "      <td>NaN</td>\n",
              "      <td>there is a forest fire at spot pond, geese are...</td>\n",
              "    </tr>\n",
              "    <tr>\n",
              "      <th>3</th>\n",
              "      <td>9</td>\n",
              "      <td>NaN</td>\n",
              "      <td>NaN</td>\n",
              "      <td>Apocalypse lighting. #Spokane #wildfires</td>\n",
              "    </tr>\n",
              "    <tr>\n",
              "      <th>4</th>\n",
              "      <td>11</td>\n",
              "      <td>NaN</td>\n",
              "      <td>NaN</td>\n",
              "      <td>Typhoon Soudelor kills 28 in China and Taiwan</td>\n",
              "    </tr>\n",
              "  </tbody>\n",
              "</table>\n",
              "</div>"
            ],
            "text/plain": [
              "   id keyword location                                               text\n",
              "0   0     NaN      NaN                 Just happened a terrible car crash\n",
              "1   2     NaN      NaN  Heard about #earthquake is different cities, s...\n",
              "2   3     NaN      NaN  there is a forest fire at spot pond, geese are...\n",
              "3   9     NaN      NaN           Apocalypse lighting. #Spokane #wildfires\n",
              "4  11     NaN      NaN      Typhoon Soudelor kills 28 in China and Taiwan"
            ]
          },
          "metadata": {
            "tags": []
          },
          "execution_count": 9
        }
      ]
    },
    {
      "cell_type": "code",
      "metadata": {
        "colab_type": "code",
        "id": "L6-ZQ5gyxVbf",
        "colab": {}
      },
      "source": [
        "#Separo el target de los tweets\n",
        "target = train.iloc[:,-1]"
      ],
      "execution_count": null,
      "outputs": []
    },
    {
      "cell_type": "code",
      "metadata": {
        "colab_type": "code",
        "id": "xM-jumC08FM-",
        "colab": {
          "base_uri": "https://localhost:8080/",
          "height": 204
        },
        "outputId": "b2df5062-1518-43d5-d050-368651f981cf"
      },
      "source": [
        "#Aplico operaciones sobre train que luego replicare en el set de datos, para obtener los indices que yo considero relevantes\n",
        "#y deshacerme de los que no lo son\n",
        "#Empiezo por las arroba\n",
        "train['cantidad@']=train['text'].str.count('@')\n",
        "datos['cantidad@']=datos['text'].str.count('@')\n",
        "train.head()"
      ],
      "execution_count": null,
      "outputs": [
        {
          "output_type": "execute_result",
          "data": {
            "text/html": [
              "<div>\n",
              "<style scoped>\n",
              "    .dataframe tbody tr th:only-of-type {\n",
              "        vertical-align: middle;\n",
              "    }\n",
              "\n",
              "    .dataframe tbody tr th {\n",
              "        vertical-align: top;\n",
              "    }\n",
              "\n",
              "    .dataframe thead th {\n",
              "        text-align: right;\n",
              "    }\n",
              "</style>\n",
              "<table border=\"1\" class=\"dataframe\">\n",
              "  <thead>\n",
              "    <tr style=\"text-align: right;\">\n",
              "      <th></th>\n",
              "      <th>id</th>\n",
              "      <th>keyword</th>\n",
              "      <th>location</th>\n",
              "      <th>text</th>\n",
              "      <th>target</th>\n",
              "      <th>cantidad@</th>\n",
              "    </tr>\n",
              "  </thead>\n",
              "  <tbody>\n",
              "    <tr>\n",
              "      <th>0</th>\n",
              "      <td>1</td>\n",
              "      <td>NaN</td>\n",
              "      <td>NaN</td>\n",
              "      <td>Our Deeds are the Reason of this #earthquake M...</td>\n",
              "      <td>1</td>\n",
              "      <td>0</td>\n",
              "    </tr>\n",
              "    <tr>\n",
              "      <th>1</th>\n",
              "      <td>4</td>\n",
              "      <td>NaN</td>\n",
              "      <td>NaN</td>\n",
              "      <td>Forest fire near La Ronge Sask. Canada</td>\n",
              "      <td>1</td>\n",
              "      <td>0</td>\n",
              "    </tr>\n",
              "    <tr>\n",
              "      <th>2</th>\n",
              "      <td>5</td>\n",
              "      <td>NaN</td>\n",
              "      <td>NaN</td>\n",
              "      <td>All residents asked to 'shelter in place' are ...</td>\n",
              "      <td>1</td>\n",
              "      <td>0</td>\n",
              "    </tr>\n",
              "    <tr>\n",
              "      <th>3</th>\n",
              "      <td>6</td>\n",
              "      <td>NaN</td>\n",
              "      <td>NaN</td>\n",
              "      <td>13,000 people receive #wildfires evacuation or...</td>\n",
              "      <td>1</td>\n",
              "      <td>0</td>\n",
              "    </tr>\n",
              "    <tr>\n",
              "      <th>4</th>\n",
              "      <td>7</td>\n",
              "      <td>NaN</td>\n",
              "      <td>NaN</td>\n",
              "      <td>Just got sent this photo from Ruby #Alaska as ...</td>\n",
              "      <td>1</td>\n",
              "      <td>0</td>\n",
              "    </tr>\n",
              "  </tbody>\n",
              "</table>\n",
              "</div>"
            ],
            "text/plain": [
              "   id keyword  ... target cantidad@\n",
              "0   1     NaN  ...      1         0\n",
              "1   4     NaN  ...      1         0\n",
              "2   5     NaN  ...      1         0\n",
              "3   6     NaN  ...      1         0\n",
              "4   7     NaN  ...      1         0\n",
              "\n",
              "[5 rows x 6 columns]"
            ]
          },
          "metadata": {
            "tags": []
          },
          "execution_count": 11
        }
      ]
    },
    {
      "cell_type": "code",
      "metadata": {
        "colab_type": "code",
        "id": "IamIJ8qy8Fu7",
        "colab": {}
      },
      "source": [
        "#Aplico una funcion de hash sobre la location\n",
        "#Primero fijo los NaN como la cadena \"ninguna\"\n",
        "#Luego proceso eliminando mayusculas haciendo lemmatize\n",
        "import spacy\n",
        "def reemplazarTexto(x):\n",
        "  x=x.casefold()\n",
        "  return x\n",
        "\n",
        "def procesarLocation(df):\n",
        "  df['location']=df['location'].fillna(value='none')\n",
        "  return df['location'].apply(lambda x:reemplazarTexto(x))\n",
        "train['location']=procesarLocation(train)\n",
        "datos['location']=procesarLocation(datos)\n",
        "\n",
        "nlp = spacy.load(\"en_core_web_sm\")\n",
        "def proc(texts):\n",
        "  l=''\n",
        "  if (texts=='none'):\n",
        "    return 'none'\n",
        "  tokens=nltk.word_tokenize(texts)\n",
        "  for doc in nlp.pipe(tokens, disable=[\"tagger\"]):\n",
        "      for ent in doc.ents:\n",
        "        if ([(ent.text,ent.label_)]!=[]) & (ent.label_=='GPE'):\n",
        "            l+= ent.text+','\n",
        "  if l=='':\n",
        "    return 'no valida'\n",
        "  return l\n",
        "train['locationLimpia']=train['location'].apply(lambda x:proc(x))\n",
        "datos['locationLimpia']=datos['location'].apply(lambda x:proc(x))"
      ],
      "execution_count": null,
      "outputs": []
    },
    {
      "cell_type": "code",
      "metadata": {
        "colab_type": "code",
        "id": "LVx6GPraxqRM",
        "colab": {
          "base_uri": "https://localhost:8080/",
          "height": 204
        },
        "outputId": "6b5fab01-3fdd-4a02-ccba-6b7d83984c50"
      },
      "source": [
        "def crearFeatureHasher(serie,ndf):\n",
        "  fh = FeatureHasher(n_features=6, input_type='string')\n",
        "  sp = fh.fit_transform(serie)\n",
        "  df = pd.DataFrame(sp.toarray(), columns=['fh1', 'fh2', 'fh3', 'fh4', 'fh5', 'fh6'])\n",
        "  ndf=pd.concat([ndf, df], axis=1)\n",
        "  return ndf\n",
        "train=crearFeatureHasher(train['locationLimpia'],train)\n",
        "datos=crearFeatureHasher(datos['locationLimpia'],datos)\n",
        "train.head()"
      ],
      "execution_count": null,
      "outputs": [
        {
          "output_type": "execute_result",
          "data": {
            "text/html": [
              "<div>\n",
              "<style scoped>\n",
              "    .dataframe tbody tr th:only-of-type {\n",
              "        vertical-align: middle;\n",
              "    }\n",
              "\n",
              "    .dataframe tbody tr th {\n",
              "        vertical-align: top;\n",
              "    }\n",
              "\n",
              "    .dataframe thead th {\n",
              "        text-align: right;\n",
              "    }\n",
              "</style>\n",
              "<table border=\"1\" class=\"dataframe\">\n",
              "  <thead>\n",
              "    <tr style=\"text-align: right;\">\n",
              "      <th></th>\n",
              "      <th>id</th>\n",
              "      <th>keyword</th>\n",
              "      <th>location</th>\n",
              "      <th>text</th>\n",
              "      <th>target</th>\n",
              "      <th>cantidad@</th>\n",
              "      <th>locationLimpia</th>\n",
              "      <th>fh1</th>\n",
              "      <th>fh2</th>\n",
              "      <th>fh3</th>\n",
              "      <th>fh4</th>\n",
              "      <th>fh5</th>\n",
              "      <th>fh6</th>\n",
              "    </tr>\n",
              "  </thead>\n",
              "  <tbody>\n",
              "    <tr>\n",
              "      <th>0</th>\n",
              "      <td>1</td>\n",
              "      <td>NaN</td>\n",
              "      <td>none</td>\n",
              "      <td>Our Deeds are the Reason of this #earthquake M...</td>\n",
              "      <td>1</td>\n",
              "      <td>0</td>\n",
              "      <td>none</td>\n",
              "      <td>-2.0</td>\n",
              "      <td>2.0</td>\n",
              "      <td>0.0</td>\n",
              "      <td>0.0</td>\n",
              "      <td>0.0</td>\n",
              "      <td>0.0</td>\n",
              "    </tr>\n",
              "    <tr>\n",
              "      <th>1</th>\n",
              "      <td>4</td>\n",
              "      <td>NaN</td>\n",
              "      <td>none</td>\n",
              "      <td>Forest fire near La Ronge Sask. Canada</td>\n",
              "      <td>1</td>\n",
              "      <td>0</td>\n",
              "      <td>none</td>\n",
              "      <td>-2.0</td>\n",
              "      <td>2.0</td>\n",
              "      <td>0.0</td>\n",
              "      <td>0.0</td>\n",
              "      <td>0.0</td>\n",
              "      <td>0.0</td>\n",
              "    </tr>\n",
              "    <tr>\n",
              "      <th>2</th>\n",
              "      <td>5</td>\n",
              "      <td>NaN</td>\n",
              "      <td>none</td>\n",
              "      <td>All residents asked to 'shelter in place' are ...</td>\n",
              "      <td>1</td>\n",
              "      <td>0</td>\n",
              "      <td>none</td>\n",
              "      <td>-2.0</td>\n",
              "      <td>2.0</td>\n",
              "      <td>0.0</td>\n",
              "      <td>0.0</td>\n",
              "      <td>0.0</td>\n",
              "      <td>0.0</td>\n",
              "    </tr>\n",
              "    <tr>\n",
              "      <th>3</th>\n",
              "      <td>6</td>\n",
              "      <td>NaN</td>\n",
              "      <td>none</td>\n",
              "      <td>13,000 people receive #wildfires evacuation or...</td>\n",
              "      <td>1</td>\n",
              "      <td>0</td>\n",
              "      <td>none</td>\n",
              "      <td>-2.0</td>\n",
              "      <td>2.0</td>\n",
              "      <td>0.0</td>\n",
              "      <td>0.0</td>\n",
              "      <td>0.0</td>\n",
              "      <td>0.0</td>\n",
              "    </tr>\n",
              "    <tr>\n",
              "      <th>4</th>\n",
              "      <td>7</td>\n",
              "      <td>NaN</td>\n",
              "      <td>none</td>\n",
              "      <td>Just got sent this photo from Ruby #Alaska as ...</td>\n",
              "      <td>1</td>\n",
              "      <td>0</td>\n",
              "      <td>none</td>\n",
              "      <td>-2.0</td>\n",
              "      <td>2.0</td>\n",
              "      <td>0.0</td>\n",
              "      <td>0.0</td>\n",
              "      <td>0.0</td>\n",
              "      <td>0.0</td>\n",
              "    </tr>\n",
              "  </tbody>\n",
              "</table>\n",
              "</div>"
            ],
            "text/plain": [
              "   id keyword location  ...  fh4  fh5  fh6\n",
              "0   1     NaN     none  ...  0.0  0.0  0.0\n",
              "1   4     NaN     none  ...  0.0  0.0  0.0\n",
              "2   5     NaN     none  ...  0.0  0.0  0.0\n",
              "3   6     NaN     none  ...  0.0  0.0  0.0\n",
              "4   7     NaN     none  ...  0.0  0.0  0.0\n",
              "\n",
              "[5 rows x 13 columns]"
            ]
          },
          "metadata": {
            "tags": []
          },
          "execution_count": 13
        }
      ]
    },
    {
      "cell_type": "code",
      "metadata": {
        "colab_type": "code",
        "id": "rmLZSbOW3mFu",
        "colab": {}
      },
      "source": [
        "#Analizo longitud de los tweets\n",
        "#Convertir lo categorico en binario usando one hot encoding\n",
        "train['longitudTweet']=train.text.str.len()\n",
        "datos['longitudTweet']=datos.text.str.len()\n",
        "\n",
        "bins =[-np.inf,20, 40, 60,80, 100, 120, 140, 160, 180, 200, np.inf]\n",
        "l=['0-20l','20-40l','40-60l','60-80l','80-100l','100-120l','120-140l','140-160l','160-180l','180-200l','200+l']\n",
        "trainCatLong=pd.cut(train['longitudTweet'], bins,labels=l)\n",
        "datosCatLong=pd.cut(datos['longitudTweet'], bins,labels=l)"
      ],
      "execution_count": null,
      "outputs": []
    },
    {
      "cell_type": "code",
      "metadata": {
        "colab_type": "code",
        "id": "9AcE5DaIglVS",
        "colab": {
          "base_uri": "https://localhost:8080/",
          "height": 114
        },
        "outputId": "a44e1b70-4908-4f3f-ed16-045ce697f84b"
      },
      "source": [
        "#One hot encoding\n",
        "train = pd.concat([train,pd.get_dummies(trainCatLong)],axis=1)\n",
        "datos = pd.concat([datos,pd.get_dummies(datosCatLong)],axis=1)\n",
        "datos.head(1)"
      ],
      "execution_count": null,
      "outputs": [
        {
          "output_type": "execute_result",
          "data": {
            "text/html": [
              "<div>\n",
              "<style scoped>\n",
              "    .dataframe tbody tr th:only-of-type {\n",
              "        vertical-align: middle;\n",
              "    }\n",
              "\n",
              "    .dataframe tbody tr th {\n",
              "        vertical-align: top;\n",
              "    }\n",
              "\n",
              "    .dataframe thead th {\n",
              "        text-align: right;\n",
              "    }\n",
              "</style>\n",
              "<table border=\"1\" class=\"dataframe\">\n",
              "  <thead>\n",
              "    <tr style=\"text-align: right;\">\n",
              "      <th></th>\n",
              "      <th>id</th>\n",
              "      <th>keyword</th>\n",
              "      <th>location</th>\n",
              "      <th>text</th>\n",
              "      <th>cantidad@</th>\n",
              "      <th>locationLimpia</th>\n",
              "      <th>fh1</th>\n",
              "      <th>fh2</th>\n",
              "      <th>fh3</th>\n",
              "      <th>fh4</th>\n",
              "      <th>fh5</th>\n",
              "      <th>fh6</th>\n",
              "      <th>longitudTweet</th>\n",
              "      <th>0-20l</th>\n",
              "      <th>20-40l</th>\n",
              "      <th>40-60l</th>\n",
              "      <th>60-80l</th>\n",
              "      <th>80-100l</th>\n",
              "      <th>100-120l</th>\n",
              "      <th>120-140l</th>\n",
              "      <th>140-160l</th>\n",
              "      <th>160-180l</th>\n",
              "      <th>180-200l</th>\n",
              "      <th>200+l</th>\n",
              "    </tr>\n",
              "  </thead>\n",
              "  <tbody>\n",
              "    <tr>\n",
              "      <th>0</th>\n",
              "      <td>0</td>\n",
              "      <td>NaN</td>\n",
              "      <td>none</td>\n",
              "      <td>Just happened a terrible car crash</td>\n",
              "      <td>0</td>\n",
              "      <td>none</td>\n",
              "      <td>-2.0</td>\n",
              "      <td>2.0</td>\n",
              "      <td>0.0</td>\n",
              "      <td>0.0</td>\n",
              "      <td>0.0</td>\n",
              "      <td>0.0</td>\n",
              "      <td>34</td>\n",
              "      <td>0</td>\n",
              "      <td>1</td>\n",
              "      <td>0</td>\n",
              "      <td>0</td>\n",
              "      <td>0</td>\n",
              "      <td>0</td>\n",
              "      <td>0</td>\n",
              "      <td>0</td>\n",
              "      <td>0</td>\n",
              "      <td>0</td>\n",
              "      <td>0</td>\n",
              "    </tr>\n",
              "  </tbody>\n",
              "</table>\n",
              "</div>"
            ],
            "text/plain": [
              "   id keyword location  ... 160-180l  180-200l 200+l\n",
              "0   0     NaN     none  ...        0         0     0\n",
              "\n",
              "[1 rows x 24 columns]"
            ]
          },
          "metadata": {
            "tags": []
          },
          "execution_count": 15
        }
      ]
    },
    {
      "cell_type": "code",
      "metadata": {
        "colab_type": "code",
        "id": "IJu6ioS24_LP",
        "colab": {}
      },
      "source": [
        "#Analizo la cantidad de Hashtags en un tweet\n",
        "train['cantidad#']=train['text'].str.count('#')\n",
        "datos['cantidad#']=datos['text'].str.count('#')"
      ],
      "execution_count": null,
      "outputs": []
    },
    {
      "cell_type": "code",
      "metadata": {
        "colab_type": "code",
        "id": "yxpTtaAG401N",
        "colab": {}
      },
      "source": [
        "#Hago binary encoding de la cantidad de hashtags en un tweet\n",
        "import math\n",
        "def convertBin(x,maximo):\n",
        "  lista=[]\n",
        "  binario=format(x,'02b')\n",
        "  while len(binario)<maximo:\n",
        "    binario='0'+binario\n",
        "  for i in binario:\n",
        "    lista.append(int(i))\n",
        "  return lista\n",
        "\n",
        "def binaryEncoding(serie,longMax):\n",
        "  longMax+=1\n",
        "  binaryHash=serie.apply(lambda x:convertBin(x,longMax))\n",
        "  ncol=[]\n",
        "  for i in range(longMax-1,-1,-1):\n",
        "    ncol.append(str(i)+'b'+serie.name)\n",
        "  return pd.DataFrame((item for item in binaryHash),columns=ncol)"
      ],
      "execution_count": null,
      "outputs": []
    },
    {
      "cell_type": "code",
      "metadata": {
        "colab_type": "code",
        "id": "IuFI5Nk2yCLn",
        "colab": {}
      },
      "source": [
        "longMax=max(math.floor(math.log(train['cantidad#'].max(),2)),math.floor(math.log(datos['cantidad#'].max(),2)))\n",
        "#Calculo asi long max porque el train y test tienen que tener la misma cant de col\n",
        "train = pd.concat([train,binaryEncoding(train['cantidad#'],longMax)],axis=1)\n",
        "datos = pd.concat([datos,binaryEncoding(datos['cantidad#'],longMax)],axis=1)"
      ],
      "execution_count": null,
      "outputs": []
    },
    {
      "cell_type": "code",
      "metadata": {
        "colab_type": "code",
        "id": "A2awrmTYIFn1",
        "colab": {
          "base_uri": "https://localhost:8080/",
          "height": 202
        },
        "outputId": "4fd77d55-c90b-4f01-c3ab-cd87e0a390b7"
      },
      "source": [
        "#Hago binary encoding de la cantidad de @ en los tweets\n",
        "longMax=max(math.floor(math.log(train['cantidad@'].max(),2)),math.floor(math.log(datos['cantidad@'].max(),2)))\n",
        "#Calculo asi long max porque el train y test tienen que tener la misma cant de col\n",
        "train = pd.concat([train,binaryEncoding(train['cantidad@'],longMax)],axis=1)\n",
        "datos = pd.concat([datos,binaryEncoding(datos['cantidad@'],longMax)],axis=1)\n",
        "train.head(1)"
      ],
      "execution_count": null,
      "outputs": [
        {
          "output_type": "execute_result",
          "data": {
            "text/html": [
              "<div>\n",
              "<style scoped>\n",
              "    .dataframe tbody tr th:only-of-type {\n",
              "        vertical-align: middle;\n",
              "    }\n",
              "\n",
              "    .dataframe tbody tr th {\n",
              "        vertical-align: top;\n",
              "    }\n",
              "\n",
              "    .dataframe thead th {\n",
              "        text-align: right;\n",
              "    }\n",
              "</style>\n",
              "<table border=\"1\" class=\"dataframe\">\n",
              "  <thead>\n",
              "    <tr style=\"text-align: right;\">\n",
              "      <th></th>\n",
              "      <th>id</th>\n",
              "      <th>keyword</th>\n",
              "      <th>location</th>\n",
              "      <th>text</th>\n",
              "      <th>target</th>\n",
              "      <th>cantidad@</th>\n",
              "      <th>locationLimpia</th>\n",
              "      <th>fh1</th>\n",
              "      <th>fh2</th>\n",
              "      <th>fh3</th>\n",
              "      <th>fh4</th>\n",
              "      <th>fh5</th>\n",
              "      <th>fh6</th>\n",
              "      <th>longitudTweet</th>\n",
              "      <th>0-20l</th>\n",
              "      <th>20-40l</th>\n",
              "      <th>40-60l</th>\n",
              "      <th>60-80l</th>\n",
              "      <th>80-100l</th>\n",
              "      <th>100-120l</th>\n",
              "      <th>120-140l</th>\n",
              "      <th>140-160l</th>\n",
              "      <th>160-180l</th>\n",
              "      <th>180-200l</th>\n",
              "      <th>200+l</th>\n",
              "      <th>cantidad#</th>\n",
              "      <th>3bcantidad#</th>\n",
              "      <th>2bcantidad#</th>\n",
              "      <th>1bcantidad#</th>\n",
              "      <th>0bcantidad#</th>\n",
              "      <th>3bcantidad@</th>\n",
              "      <th>2bcantidad@</th>\n",
              "      <th>1bcantidad@</th>\n",
              "      <th>0bcantidad@</th>\n",
              "    </tr>\n",
              "  </thead>\n",
              "  <tbody>\n",
              "    <tr>\n",
              "      <th>0</th>\n",
              "      <td>1</td>\n",
              "      <td>NaN</td>\n",
              "      <td>none</td>\n",
              "      <td>Our Deeds are the Reason of this #earthquake M...</td>\n",
              "      <td>1</td>\n",
              "      <td>0</td>\n",
              "      <td>none</td>\n",
              "      <td>-2.0</td>\n",
              "      <td>2.0</td>\n",
              "      <td>0.0</td>\n",
              "      <td>0.0</td>\n",
              "      <td>0.0</td>\n",
              "      <td>0.0</td>\n",
              "      <td>69</td>\n",
              "      <td>0</td>\n",
              "      <td>0</td>\n",
              "      <td>0</td>\n",
              "      <td>1</td>\n",
              "      <td>0</td>\n",
              "      <td>0</td>\n",
              "      <td>0</td>\n",
              "      <td>0</td>\n",
              "      <td>0</td>\n",
              "      <td>0</td>\n",
              "      <td>0</td>\n",
              "      <td>1</td>\n",
              "      <td>0</td>\n",
              "      <td>0</td>\n",
              "      <td>0</td>\n",
              "      <td>1</td>\n",
              "      <td>0</td>\n",
              "      <td>0</td>\n",
              "      <td>0</td>\n",
              "      <td>0</td>\n",
              "    </tr>\n",
              "  </tbody>\n",
              "</table>\n",
              "</div>"
            ],
            "text/plain": [
              "   id keyword location  ... 2bcantidad@  1bcantidad@  0bcantidad@\n",
              "0   1     NaN     none  ...           0            0            0\n",
              "\n",
              "[1 rows x 34 columns]"
            ]
          },
          "metadata": {
            "tags": []
          },
          "execution_count": 19
        }
      ]
    },
    {
      "cell_type": "code",
      "metadata": {
        "colab_type": "code",
        "id": "_CnaEO3wmFun",
        "colab": {}
      },
      "source": [
        "#Cuento si el texto contiene un http y cuantos tiene\n",
        "def analizarHttp(x):\n",
        "  tokens=nltk.word_tokenize(x)\n",
        "  resultado=0\n",
        "  for token in tokens:\n",
        "    resultado += (token=='http')*1      \n",
        "  return resultado\n",
        "\n",
        "train['cantidadLinks']=train['text'].apply(lambda x:analizarHttp(x))\n",
        "datos['cantidadLinks']=datos['text'].apply(lambda x:analizarHttp(x))"
      ],
      "execution_count": null,
      "outputs": []
    },
    {
      "cell_type": "code",
      "metadata": {
        "colab_type": "code",
        "id": "-KY-Vft8umQA",
        "colab": {
          "base_uri": "https://localhost:8080/",
          "height": 202
        },
        "outputId": "73f2f66a-5110-4c2e-e0a3-dd8a64149255"
      },
      "source": [
        "#Hago binary encoding de https\n",
        "longMax=max(math.floor(math.log(train['cantidadLinks'].max(),2)),math.floor(math.log(datos['cantidadLinks'].max(),2)))\n",
        "#Calculo asi long max porque el train y test tienen que tener la misma cant de col\n",
        "train = pd.concat([train,binaryEncoding(train['cantidadLinks'],longMax)],axis=1)\n",
        "datos = pd.concat([datos,binaryEncoding(datos['cantidadLinks'],longMax)],axis=1)\n",
        "train.head(1)"
      ],
      "execution_count": null,
      "outputs": [
        {
          "output_type": "execute_result",
          "data": {
            "text/html": [
              "<div>\n",
              "<style scoped>\n",
              "    .dataframe tbody tr th:only-of-type {\n",
              "        vertical-align: middle;\n",
              "    }\n",
              "\n",
              "    .dataframe tbody tr th {\n",
              "        vertical-align: top;\n",
              "    }\n",
              "\n",
              "    .dataframe thead th {\n",
              "        text-align: right;\n",
              "    }\n",
              "</style>\n",
              "<table border=\"1\" class=\"dataframe\">\n",
              "  <thead>\n",
              "    <tr style=\"text-align: right;\">\n",
              "      <th></th>\n",
              "      <th>id</th>\n",
              "      <th>keyword</th>\n",
              "      <th>location</th>\n",
              "      <th>text</th>\n",
              "      <th>target</th>\n",
              "      <th>cantidad@</th>\n",
              "      <th>locationLimpia</th>\n",
              "      <th>fh1</th>\n",
              "      <th>fh2</th>\n",
              "      <th>fh3</th>\n",
              "      <th>fh4</th>\n",
              "      <th>fh5</th>\n",
              "      <th>fh6</th>\n",
              "      <th>longitudTweet</th>\n",
              "      <th>0-20l</th>\n",
              "      <th>20-40l</th>\n",
              "      <th>40-60l</th>\n",
              "      <th>60-80l</th>\n",
              "      <th>80-100l</th>\n",
              "      <th>100-120l</th>\n",
              "      <th>120-140l</th>\n",
              "      <th>140-160l</th>\n",
              "      <th>160-180l</th>\n",
              "      <th>180-200l</th>\n",
              "      <th>200+l</th>\n",
              "      <th>cantidad#</th>\n",
              "      <th>3bcantidad#</th>\n",
              "      <th>2bcantidad#</th>\n",
              "      <th>1bcantidad#</th>\n",
              "      <th>0bcantidad#</th>\n",
              "      <th>3bcantidad@</th>\n",
              "      <th>2bcantidad@</th>\n",
              "      <th>1bcantidad@</th>\n",
              "      <th>0bcantidad@</th>\n",
              "      <th>cantidadLinks</th>\n",
              "      <th>2bcantidadLinks</th>\n",
              "      <th>1bcantidadLinks</th>\n",
              "      <th>0bcantidadLinks</th>\n",
              "    </tr>\n",
              "  </thead>\n",
              "  <tbody>\n",
              "    <tr>\n",
              "      <th>0</th>\n",
              "      <td>1</td>\n",
              "      <td>NaN</td>\n",
              "      <td>none</td>\n",
              "      <td>Our Deeds are the Reason of this #earthquake M...</td>\n",
              "      <td>1</td>\n",
              "      <td>0</td>\n",
              "      <td>none</td>\n",
              "      <td>-2.0</td>\n",
              "      <td>2.0</td>\n",
              "      <td>0.0</td>\n",
              "      <td>0.0</td>\n",
              "      <td>0.0</td>\n",
              "      <td>0.0</td>\n",
              "      <td>69</td>\n",
              "      <td>0</td>\n",
              "      <td>0</td>\n",
              "      <td>0</td>\n",
              "      <td>1</td>\n",
              "      <td>0</td>\n",
              "      <td>0</td>\n",
              "      <td>0</td>\n",
              "      <td>0</td>\n",
              "      <td>0</td>\n",
              "      <td>0</td>\n",
              "      <td>0</td>\n",
              "      <td>1</td>\n",
              "      <td>0</td>\n",
              "      <td>0</td>\n",
              "      <td>0</td>\n",
              "      <td>1</td>\n",
              "      <td>0</td>\n",
              "      <td>0</td>\n",
              "      <td>0</td>\n",
              "      <td>0</td>\n",
              "      <td>0</td>\n",
              "      <td>0</td>\n",
              "      <td>0</td>\n",
              "      <td>0</td>\n",
              "    </tr>\n",
              "  </tbody>\n",
              "</table>\n",
              "</div>"
            ],
            "text/plain": [
              "   id keyword location  ... 2bcantidadLinks  1bcantidadLinks  0bcantidadLinks\n",
              "0   1     NaN     none  ...               0                0                0\n",
              "\n",
              "[1 rows x 38 columns]"
            ]
          },
          "metadata": {
            "tags": []
          },
          "execution_count": 21
        }
      ]
    },
    {
      "cell_type": "code",
      "metadata": {
        "colab_type": "code",
        "id": "V6sHytRqZrtY",
        "colab": {}
      },
      "source": [
        "def reemplazarTexto(x):\n",
        "    x=x.casefold()\n",
        "    lemma=WordNetLemmatizer()\n",
        "    x=lemma.lemmatize(x)\n",
        "    return x\n",
        "train['textoProcesado']=train['text'].apply(lambda x:reemplazarTexto(x))\n",
        "datos['textoProcesado']=datos['text'].apply(lambda x:reemplazarTexto(x))"
      ],
      "execution_count": null,
      "outputs": []
    },
    {
      "cell_type": "code",
      "metadata": {
        "colab_type": "code",
        "id": "DK-AlK8n_Gnm",
        "colab": {}
      },
      "source": [
        "#Primero preproceso eliminando mayusculas haciendo lemmatize\n",
        "train['keyword'].fillna(value='ninguna',inplace=True)\n",
        "datos['keyword'].fillna(value='ninguna',inplace=True)\n",
        "lemma=WordNetLemmatizer()\n",
        "train['keyword']=train['keyword'].apply(lambda x:reemplazarTexto(x))\n",
        "datos['keyword']=datos['keyword'].apply(lambda x:reemplazarTexto(x))"
      ],
      "execution_count": null,
      "outputs": []
    },
    {
      "cell_type": "code",
      "metadata": {
        "colab_type": "code",
        "id": "ZwOSL4bluK9x",
        "colab": {}
      },
      "source": [
        "#Analizo si los hashtags contienen alguna keyword\n",
        "def analizarHashtag(x,keys):\n",
        "  tokens=nltk.word_tokenize(x)\n",
        "  resultado=False\n",
        "  for i in range(len(tokens)):\n",
        "    if ((tokens[i]=='#') & (i!=len(tokens)-1)):\n",
        "      resultado = lemma.lemmatize(tokens[i+1]) in keys\n",
        "  return resultado*1\n",
        "lTrainK=train['keyword'].unique().tolist()\n",
        "lDatosK=train['keyword'].unique().tolist()\n",
        "train['hashtagKey'] = train['textoProcesado'].apply(lambda x:analizarHashtag(x,lTrainK))\n",
        "datos['hashtagKey'] = datos['textoProcesado'].apply(lambda x:analizarHashtag(x,lDatosK))"
      ],
      "execution_count": null,
      "outputs": []
    },
    {
      "cell_type": "code",
      "metadata": {
        "colab_type": "code",
        "id": "yhLTZmgx6Ai8",
        "colab": {}
      },
      "source": [
        "#Analizo si se menciona algun tipo de entretenimiento en el tweet\n",
        "#Puede ser juegos, musica, peliculas...\n",
        "listaEntretenimiento=['music','radio','tv','show','dj','game','gaming','videogame','history','movies','youtube','book','ebook','sports','esports']\n",
        "\n",
        "def analizarContenido(x):\n",
        "  tokens=nltk.word_tokenize(x)\n",
        "  resultado=0\n",
        "  for palabra in tokens:\n",
        "    if palabra in listaEntretenimiento:\n",
        "      resultado = 1\n",
        "  return resultado\n",
        "\n",
        "train['entretenimiento'] = train['textoProcesado'].apply(lambda x:analizarContenido(x))\n",
        "datos['entretenimiento'] = datos['textoProcesado'].apply(lambda x:analizarContenido(x))"
      ],
      "execution_count": null,
      "outputs": []
    },
    {
      "cell_type": "code",
      "metadata": {
        "colab_type": "code",
        "id": "0YuKha9oIhBi",
        "colab": {}
      },
      "source": [
        "#Analizo cantidad de palabras en los tweets\n",
        "def contarPalabras (d):\n",
        "  return (len(str.split(d,' ')))\n",
        "train['cantidadPalabras']=train['text'].apply(lambda x: contarPalabras(x))\n",
        "datos['cantidadPalabras']=datos['text'].apply(lambda x: contarPalabras (x))"
      ],
      "execution_count": null,
      "outputs": []
    },
    {
      "cell_type": "code",
      "metadata": {
        "colab_type": "code",
        "id": "1fKSNgTf-0HT",
        "colab": {
          "base_uri": "https://localhost:8080/",
          "height": 202
        },
        "outputId": "b9d600b7-e852-430f-9f74-eabb52c6dcc6"
      },
      "source": [
        "#Hago hashing trick para keywords\n",
        "def crearFeatureHasher(serie,ndf):\n",
        "  fh = FeatureHasher(n_features=6, input_type='string')\n",
        "  sp = fh.fit_transform(serie)\n",
        "  df = pd.DataFrame(sp.toarray(), columns=['kh1', 'kh2', 'kh3', 'kh4', 'kh5', 'kh6'])\n",
        "  ndf=pd.concat([ndf, df], axis=1)\n",
        "  return ndf\n",
        "train=crearFeatureHasher(train['keyword'],train)\n",
        "datos=crearFeatureHasher(datos['keyword'],datos)\n",
        "train.head(1)"
      ],
      "execution_count": null,
      "outputs": [
        {
          "output_type": "execute_result",
          "data": {
            "text/html": [
              "<div>\n",
              "<style scoped>\n",
              "    .dataframe tbody tr th:only-of-type {\n",
              "        vertical-align: middle;\n",
              "    }\n",
              "\n",
              "    .dataframe tbody tr th {\n",
              "        vertical-align: top;\n",
              "    }\n",
              "\n",
              "    .dataframe thead th {\n",
              "        text-align: right;\n",
              "    }\n",
              "</style>\n",
              "<table border=\"1\" class=\"dataframe\">\n",
              "  <thead>\n",
              "    <tr style=\"text-align: right;\">\n",
              "      <th></th>\n",
              "      <th>id</th>\n",
              "      <th>keyword</th>\n",
              "      <th>location</th>\n",
              "      <th>text</th>\n",
              "      <th>target</th>\n",
              "      <th>cantidad@</th>\n",
              "      <th>locationLimpia</th>\n",
              "      <th>fh1</th>\n",
              "      <th>fh2</th>\n",
              "      <th>fh3</th>\n",
              "      <th>fh4</th>\n",
              "      <th>fh5</th>\n",
              "      <th>fh6</th>\n",
              "      <th>longitudTweet</th>\n",
              "      <th>0-20l</th>\n",
              "      <th>20-40l</th>\n",
              "      <th>40-60l</th>\n",
              "      <th>60-80l</th>\n",
              "      <th>80-100l</th>\n",
              "      <th>100-120l</th>\n",
              "      <th>120-140l</th>\n",
              "      <th>140-160l</th>\n",
              "      <th>160-180l</th>\n",
              "      <th>180-200l</th>\n",
              "      <th>200+l</th>\n",
              "      <th>cantidad#</th>\n",
              "      <th>3bcantidad#</th>\n",
              "      <th>2bcantidad#</th>\n",
              "      <th>1bcantidad#</th>\n",
              "      <th>0bcantidad#</th>\n",
              "      <th>3bcantidad@</th>\n",
              "      <th>2bcantidad@</th>\n",
              "      <th>1bcantidad@</th>\n",
              "      <th>0bcantidad@</th>\n",
              "      <th>cantidadLinks</th>\n",
              "      <th>2bcantidadLinks</th>\n",
              "      <th>1bcantidadLinks</th>\n",
              "      <th>0bcantidadLinks</th>\n",
              "      <th>textoProcesado</th>\n",
              "      <th>hashtagKey</th>\n",
              "      <th>entretenimiento</th>\n",
              "      <th>cantidadPalabras</th>\n",
              "      <th>kh1</th>\n",
              "      <th>kh2</th>\n",
              "      <th>kh3</th>\n",
              "      <th>kh4</th>\n",
              "      <th>kh5</th>\n",
              "      <th>kh6</th>\n",
              "    </tr>\n",
              "  </thead>\n",
              "  <tbody>\n",
              "    <tr>\n",
              "      <th>0</th>\n",
              "      <td>1</td>\n",
              "      <td>ninguna</td>\n",
              "      <td>none</td>\n",
              "      <td>Our Deeds are the Reason of this #earthquake M...</td>\n",
              "      <td>1</td>\n",
              "      <td>0</td>\n",
              "      <td>none</td>\n",
              "      <td>-2.0</td>\n",
              "      <td>2.0</td>\n",
              "      <td>0.0</td>\n",
              "      <td>0.0</td>\n",
              "      <td>0.0</td>\n",
              "      <td>0.0</td>\n",
              "      <td>69</td>\n",
              "      <td>0</td>\n",
              "      <td>0</td>\n",
              "      <td>0</td>\n",
              "      <td>1</td>\n",
              "      <td>0</td>\n",
              "      <td>0</td>\n",
              "      <td>0</td>\n",
              "      <td>0</td>\n",
              "      <td>0</td>\n",
              "      <td>0</td>\n",
              "      <td>0</td>\n",
              "      <td>1</td>\n",
              "      <td>0</td>\n",
              "      <td>0</td>\n",
              "      <td>0</td>\n",
              "      <td>1</td>\n",
              "      <td>0</td>\n",
              "      <td>0</td>\n",
              "      <td>0</td>\n",
              "      <td>0</td>\n",
              "      <td>0</td>\n",
              "      <td>0</td>\n",
              "      <td>0</td>\n",
              "      <td>0</td>\n",
              "      <td>our deeds are the reason of this #earthquake m...</td>\n",
              "      <td>1</td>\n",
              "      <td>0</td>\n",
              "      <td>13</td>\n",
              "      <td>-3.0</td>\n",
              "      <td>0.0</td>\n",
              "      <td>0.0</td>\n",
              "      <td>-1.0</td>\n",
              "      <td>1.0</td>\n",
              "      <td>0.0</td>\n",
              "    </tr>\n",
              "  </tbody>\n",
              "</table>\n",
              "</div>"
            ],
            "text/plain": [
              "   id  keyword location  ...  kh4  kh5  kh6\n",
              "0   1  ninguna     none  ... -1.0  1.0  0.0\n",
              "\n",
              "[1 rows x 48 columns]"
            ]
          },
          "metadata": {
            "tags": []
          },
          "execution_count": 27
        }
      ]
    },
    {
      "cell_type": "code",
      "metadata": {
        "colab_type": "code",
        "id": "EgajeiQgmCPU",
        "colab": {}
      },
      "source": [
        "#Analizo la relacion entre cantidad de # y la longitud del tweet\n",
        "#Hacer esto categorico\n",
        "train['relacion#longitud']=train['cantidad#']/train['cantidadPalabras']*100\n",
        "datos['relacion#longitud']=datos['cantidad#']/datos['cantidadPalabras']*100\n",
        "l=['pocos#','medio#','muchos#']\n",
        "trainCatLong=pd.cut(train['relacion#longitud'], 3,labels=l)\n",
        "datosCatLong=pd.cut(datos['relacion#longitud'], 3,labels=l)\n",
        "#One hot encoding\n",
        "train = pd.concat([train,pd.get_dummies(trainCatLong)],axis=1)\n",
        "datos = pd.concat([datos,pd.get_dummies(datosCatLong)],axis=1)"
      ],
      "execution_count": null,
      "outputs": []
    },
    {
      "cell_type": "code",
      "metadata": {
        "colab_type": "code",
        "id": "m76PIzsznTVd",
        "colab": {
          "base_uri": "https://localhost:8080/",
          "height": 168
        },
        "outputId": "84718c2b-3c38-49e3-e384-eb1274efb525"
      },
      "source": [
        "#Analizo la relacion entre cantidad de @ y la longitud del tweet\n",
        "#Hacer esto categorico\n",
        "train['relacion@longitud']=train['cantidad@']/train['cantidadPalabras']*100\n",
        "datos['relacion@longitud']=datos['cantidad@']/datos['cantidadPalabras']*100\n",
        "l=['pocos@','medio@','muchos@']\n",
        "trainCatLong=pd.cut(train['relacion@longitud'], 3,duplicates='drop',labels=l)\n",
        "datosCatLong=pd.cut(datos['relacion@longitud'], 3,duplicates='drop',labels=l)\n",
        "#One hot encoding\n",
        "train = pd.concat([train,pd.get_dummies(trainCatLong)],axis=1)\n",
        "datos = pd.concat([datos,pd.get_dummies(datosCatLong)],axis=1)\n",
        "datos.head(1)"
      ],
      "execution_count": null,
      "outputs": [
        {
          "output_type": "execute_result",
          "data": {
            "text/html": [
              "<div>\n",
              "<style scoped>\n",
              "    .dataframe tbody tr th:only-of-type {\n",
              "        vertical-align: middle;\n",
              "    }\n",
              "\n",
              "    .dataframe tbody tr th {\n",
              "        vertical-align: top;\n",
              "    }\n",
              "\n",
              "    .dataframe thead th {\n",
              "        text-align: right;\n",
              "    }\n",
              "</style>\n",
              "<table border=\"1\" class=\"dataframe\">\n",
              "  <thead>\n",
              "    <tr style=\"text-align: right;\">\n",
              "      <th></th>\n",
              "      <th>id</th>\n",
              "      <th>keyword</th>\n",
              "      <th>location</th>\n",
              "      <th>text</th>\n",
              "      <th>cantidad@</th>\n",
              "      <th>locationLimpia</th>\n",
              "      <th>fh1</th>\n",
              "      <th>fh2</th>\n",
              "      <th>fh3</th>\n",
              "      <th>fh4</th>\n",
              "      <th>fh5</th>\n",
              "      <th>fh6</th>\n",
              "      <th>longitudTweet</th>\n",
              "      <th>0-20l</th>\n",
              "      <th>20-40l</th>\n",
              "      <th>40-60l</th>\n",
              "      <th>60-80l</th>\n",
              "      <th>80-100l</th>\n",
              "      <th>100-120l</th>\n",
              "      <th>120-140l</th>\n",
              "      <th>140-160l</th>\n",
              "      <th>160-180l</th>\n",
              "      <th>180-200l</th>\n",
              "      <th>200+l</th>\n",
              "      <th>cantidad#</th>\n",
              "      <th>3bcantidad#</th>\n",
              "      <th>2bcantidad#</th>\n",
              "      <th>1bcantidad#</th>\n",
              "      <th>0bcantidad#</th>\n",
              "      <th>3bcantidad@</th>\n",
              "      <th>2bcantidad@</th>\n",
              "      <th>1bcantidad@</th>\n",
              "      <th>0bcantidad@</th>\n",
              "      <th>cantidadLinks</th>\n",
              "      <th>2bcantidadLinks</th>\n",
              "      <th>1bcantidadLinks</th>\n",
              "      <th>0bcantidadLinks</th>\n",
              "      <th>textoProcesado</th>\n",
              "      <th>hashtagKey</th>\n",
              "      <th>entretenimiento</th>\n",
              "      <th>cantidadPalabras</th>\n",
              "      <th>kh1</th>\n",
              "      <th>kh2</th>\n",
              "      <th>kh3</th>\n",
              "      <th>kh4</th>\n",
              "      <th>kh5</th>\n",
              "      <th>kh6</th>\n",
              "      <th>relacion#longitud</th>\n",
              "      <th>pocos#</th>\n",
              "      <th>medio#</th>\n",
              "      <th>muchos#</th>\n",
              "      <th>relacion@longitud</th>\n",
              "      <th>pocos@</th>\n",
              "      <th>medio@</th>\n",
              "      <th>muchos@</th>\n",
              "    </tr>\n",
              "  </thead>\n",
              "  <tbody>\n",
              "    <tr>\n",
              "      <th>0</th>\n",
              "      <td>0</td>\n",
              "      <td>ninguna</td>\n",
              "      <td>none</td>\n",
              "      <td>Just happened a terrible car crash</td>\n",
              "      <td>0</td>\n",
              "      <td>none</td>\n",
              "      <td>-2.0</td>\n",
              "      <td>2.0</td>\n",
              "      <td>0.0</td>\n",
              "      <td>0.0</td>\n",
              "      <td>0.0</td>\n",
              "      <td>0.0</td>\n",
              "      <td>34</td>\n",
              "      <td>0</td>\n",
              "      <td>1</td>\n",
              "      <td>0</td>\n",
              "      <td>0</td>\n",
              "      <td>0</td>\n",
              "      <td>0</td>\n",
              "      <td>0</td>\n",
              "      <td>0</td>\n",
              "      <td>0</td>\n",
              "      <td>0</td>\n",
              "      <td>0</td>\n",
              "      <td>0</td>\n",
              "      <td>0</td>\n",
              "      <td>0</td>\n",
              "      <td>0</td>\n",
              "      <td>0</td>\n",
              "      <td>0</td>\n",
              "      <td>0</td>\n",
              "      <td>0</td>\n",
              "      <td>0</td>\n",
              "      <td>0</td>\n",
              "      <td>0</td>\n",
              "      <td>0</td>\n",
              "      <td>0</td>\n",
              "      <td>just happened a terrible car crash</td>\n",
              "      <td>0</td>\n",
              "      <td>0</td>\n",
              "      <td>6</td>\n",
              "      <td>-3.0</td>\n",
              "      <td>0.0</td>\n",
              "      <td>0.0</td>\n",
              "      <td>-1.0</td>\n",
              "      <td>1.0</td>\n",
              "      <td>0.0</td>\n",
              "      <td>0.0</td>\n",
              "      <td>1</td>\n",
              "      <td>0</td>\n",
              "      <td>0</td>\n",
              "      <td>0.0</td>\n",
              "      <td>1</td>\n",
              "      <td>0</td>\n",
              "      <td>0</td>\n",
              "    </tr>\n",
              "  </tbody>\n",
              "</table>\n",
              "</div>"
            ],
            "text/plain": [
              "   id  keyword location  ... pocos@  medio@ muchos@\n",
              "0   0  ninguna     none  ...      1       0       0\n",
              "\n",
              "[1 rows x 55 columns]"
            ]
          },
          "metadata": {
            "tags": []
          },
          "execution_count": 29
        }
      ]
    },
    {
      "cell_type": "code",
      "metadata": {
        "colab_type": "code",
        "id": "IZIMK4mcpFQV",
        "colab": {}
      },
      "source": [
        "#Calculo la cantidad de stopwords por texto\n",
        "from nltk.corpus import stopwords\n",
        "def longitudSinStopword(x):\n",
        "  tokens=nltk.word_tokenize(x)\n",
        "  filtered_words = [word for word in tokens if word in stopwords.words('english')]\n",
        "  return len(filtered_words)\n",
        "datos['stopWordsXTexto']=pd.qcut(datos['textoProcesado'].apply(lambda x: longitudSinStopword(x))/datos['textoProcesado'].str.len(),q=5)\n",
        "train['stopWordsXTexto']=pd.qcut((train['textoProcesado'].apply(lambda x: longitudSinStopword(x)))/train['textoProcesado'].str.len(),q=5)"
      ],
      "execution_count": null,
      "outputs": []
    },
    {
      "cell_type": "code",
      "metadata": {
        "colab_type": "code",
        "id": "oAffCAe6Hfy8",
        "colab": {}
      },
      "source": [
        "#Remuevo cosas que no hacen al analisis\n",
        "entrenar=train.drop(columns=['target','id','keyword','location','text','textoProcesado','stopWordsXTexto','relacion#longitud','relacion@longitud','longitudTweet','cantidad@','cantidad#','cantidadPalabras','locationLimpia'])\n",
        "test=datos.drop(columns=['id','keyword','location','text','textoProcesado','stopWordsXTexto','relacion#longitud','relacion@longitud','longitudTweet','cantidad@','cantidad#','cantidadPalabras','locationLimpia'])"
      ],
      "execution_count": null,
      "outputs": []
    },
    {
      "cell_type": "code",
      "metadata": {
        "colab_type": "code",
        "id": "4dY2-0wayohY",
        "colab": {
          "base_uri": "https://localhost:8080/",
          "height": 241
        },
        "outputId": "55139ce1-332f-4db0-891e-33042934558e"
      },
      "source": [
        "entrenar.head()"
      ],
      "execution_count": null,
      "outputs": [
        {
          "output_type": "execute_result",
          "data": {
            "text/html": [
              "<div>\n",
              "<style scoped>\n",
              "    .dataframe tbody tr th:only-of-type {\n",
              "        vertical-align: middle;\n",
              "    }\n",
              "\n",
              "    .dataframe tbody tr th {\n",
              "        vertical-align: top;\n",
              "    }\n",
              "\n",
              "    .dataframe thead th {\n",
              "        text-align: right;\n",
              "    }\n",
              "</style>\n",
              "<table border=\"1\" class=\"dataframe\">\n",
              "  <thead>\n",
              "    <tr style=\"text-align: right;\">\n",
              "      <th></th>\n",
              "      <th>fh1</th>\n",
              "      <th>fh2</th>\n",
              "      <th>fh3</th>\n",
              "      <th>fh4</th>\n",
              "      <th>fh5</th>\n",
              "      <th>fh6</th>\n",
              "      <th>0-20l</th>\n",
              "      <th>20-40l</th>\n",
              "      <th>40-60l</th>\n",
              "      <th>60-80l</th>\n",
              "      <th>80-100l</th>\n",
              "      <th>100-120l</th>\n",
              "      <th>120-140l</th>\n",
              "      <th>140-160l</th>\n",
              "      <th>160-180l</th>\n",
              "      <th>180-200l</th>\n",
              "      <th>200+l</th>\n",
              "      <th>3bcantidad#</th>\n",
              "      <th>2bcantidad#</th>\n",
              "      <th>1bcantidad#</th>\n",
              "      <th>0bcantidad#</th>\n",
              "      <th>3bcantidad@</th>\n",
              "      <th>2bcantidad@</th>\n",
              "      <th>1bcantidad@</th>\n",
              "      <th>0bcantidad@</th>\n",
              "      <th>cantidadLinks</th>\n",
              "      <th>2bcantidadLinks</th>\n",
              "      <th>1bcantidadLinks</th>\n",
              "      <th>0bcantidadLinks</th>\n",
              "      <th>hashtagKey</th>\n",
              "      <th>entretenimiento</th>\n",
              "      <th>kh1</th>\n",
              "      <th>kh2</th>\n",
              "      <th>kh3</th>\n",
              "      <th>kh4</th>\n",
              "      <th>kh5</th>\n",
              "      <th>kh6</th>\n",
              "      <th>pocos#</th>\n",
              "      <th>medio#</th>\n",
              "      <th>muchos#</th>\n",
              "      <th>pocos@</th>\n",
              "      <th>medio@</th>\n",
              "      <th>muchos@</th>\n",
              "    </tr>\n",
              "  </thead>\n",
              "  <tbody>\n",
              "    <tr>\n",
              "      <th>0</th>\n",
              "      <td>-2.0</td>\n",
              "      <td>2.0</td>\n",
              "      <td>0.0</td>\n",
              "      <td>0.0</td>\n",
              "      <td>0.0</td>\n",
              "      <td>0.0</td>\n",
              "      <td>0</td>\n",
              "      <td>0</td>\n",
              "      <td>0</td>\n",
              "      <td>1</td>\n",
              "      <td>0</td>\n",
              "      <td>0</td>\n",
              "      <td>0</td>\n",
              "      <td>0</td>\n",
              "      <td>0</td>\n",
              "      <td>0</td>\n",
              "      <td>0</td>\n",
              "      <td>0</td>\n",
              "      <td>0</td>\n",
              "      <td>0</td>\n",
              "      <td>1</td>\n",
              "      <td>0</td>\n",
              "      <td>0</td>\n",
              "      <td>0</td>\n",
              "      <td>0</td>\n",
              "      <td>0</td>\n",
              "      <td>0</td>\n",
              "      <td>0</td>\n",
              "      <td>0</td>\n",
              "      <td>1</td>\n",
              "      <td>0</td>\n",
              "      <td>-3.0</td>\n",
              "      <td>0.0</td>\n",
              "      <td>0.0</td>\n",
              "      <td>-1.0</td>\n",
              "      <td>1.0</td>\n",
              "      <td>0.0</td>\n",
              "      <td>1</td>\n",
              "      <td>0</td>\n",
              "      <td>0</td>\n",
              "      <td>1</td>\n",
              "      <td>0</td>\n",
              "      <td>0</td>\n",
              "    </tr>\n",
              "    <tr>\n",
              "      <th>1</th>\n",
              "      <td>-2.0</td>\n",
              "      <td>2.0</td>\n",
              "      <td>0.0</td>\n",
              "      <td>0.0</td>\n",
              "      <td>0.0</td>\n",
              "      <td>0.0</td>\n",
              "      <td>0</td>\n",
              "      <td>1</td>\n",
              "      <td>0</td>\n",
              "      <td>0</td>\n",
              "      <td>0</td>\n",
              "      <td>0</td>\n",
              "      <td>0</td>\n",
              "      <td>0</td>\n",
              "      <td>0</td>\n",
              "      <td>0</td>\n",
              "      <td>0</td>\n",
              "      <td>0</td>\n",
              "      <td>0</td>\n",
              "      <td>0</td>\n",
              "      <td>0</td>\n",
              "      <td>0</td>\n",
              "      <td>0</td>\n",
              "      <td>0</td>\n",
              "      <td>0</td>\n",
              "      <td>0</td>\n",
              "      <td>0</td>\n",
              "      <td>0</td>\n",
              "      <td>0</td>\n",
              "      <td>0</td>\n",
              "      <td>0</td>\n",
              "      <td>-3.0</td>\n",
              "      <td>0.0</td>\n",
              "      <td>0.0</td>\n",
              "      <td>-1.0</td>\n",
              "      <td>1.0</td>\n",
              "      <td>0.0</td>\n",
              "      <td>1</td>\n",
              "      <td>0</td>\n",
              "      <td>0</td>\n",
              "      <td>1</td>\n",
              "      <td>0</td>\n",
              "      <td>0</td>\n",
              "    </tr>\n",
              "    <tr>\n",
              "      <th>2</th>\n",
              "      <td>-2.0</td>\n",
              "      <td>2.0</td>\n",
              "      <td>0.0</td>\n",
              "      <td>0.0</td>\n",
              "      <td>0.0</td>\n",
              "      <td>0.0</td>\n",
              "      <td>0</td>\n",
              "      <td>0</td>\n",
              "      <td>0</td>\n",
              "      <td>0</td>\n",
              "      <td>0</td>\n",
              "      <td>0</td>\n",
              "      <td>1</td>\n",
              "      <td>0</td>\n",
              "      <td>0</td>\n",
              "      <td>0</td>\n",
              "      <td>0</td>\n",
              "      <td>0</td>\n",
              "      <td>0</td>\n",
              "      <td>0</td>\n",
              "      <td>0</td>\n",
              "      <td>0</td>\n",
              "      <td>0</td>\n",
              "      <td>0</td>\n",
              "      <td>0</td>\n",
              "      <td>0</td>\n",
              "      <td>0</td>\n",
              "      <td>0</td>\n",
              "      <td>0</td>\n",
              "      <td>0</td>\n",
              "      <td>0</td>\n",
              "      <td>-3.0</td>\n",
              "      <td>0.0</td>\n",
              "      <td>0.0</td>\n",
              "      <td>-1.0</td>\n",
              "      <td>1.0</td>\n",
              "      <td>0.0</td>\n",
              "      <td>1</td>\n",
              "      <td>0</td>\n",
              "      <td>0</td>\n",
              "      <td>1</td>\n",
              "      <td>0</td>\n",
              "      <td>0</td>\n",
              "    </tr>\n",
              "    <tr>\n",
              "      <th>3</th>\n",
              "      <td>-2.0</td>\n",
              "      <td>2.0</td>\n",
              "      <td>0.0</td>\n",
              "      <td>0.0</td>\n",
              "      <td>0.0</td>\n",
              "      <td>0.0</td>\n",
              "      <td>0</td>\n",
              "      <td>0</td>\n",
              "      <td>0</td>\n",
              "      <td>1</td>\n",
              "      <td>0</td>\n",
              "      <td>0</td>\n",
              "      <td>0</td>\n",
              "      <td>0</td>\n",
              "      <td>0</td>\n",
              "      <td>0</td>\n",
              "      <td>0</td>\n",
              "      <td>0</td>\n",
              "      <td>0</td>\n",
              "      <td>0</td>\n",
              "      <td>1</td>\n",
              "      <td>0</td>\n",
              "      <td>0</td>\n",
              "      <td>0</td>\n",
              "      <td>0</td>\n",
              "      <td>0</td>\n",
              "      <td>0</td>\n",
              "      <td>0</td>\n",
              "      <td>0</td>\n",
              "      <td>1</td>\n",
              "      <td>0</td>\n",
              "      <td>-3.0</td>\n",
              "      <td>0.0</td>\n",
              "      <td>0.0</td>\n",
              "      <td>-1.0</td>\n",
              "      <td>1.0</td>\n",
              "      <td>0.0</td>\n",
              "      <td>1</td>\n",
              "      <td>0</td>\n",
              "      <td>0</td>\n",
              "      <td>1</td>\n",
              "      <td>0</td>\n",
              "      <td>0</td>\n",
              "    </tr>\n",
              "    <tr>\n",
              "      <th>4</th>\n",
              "      <td>-2.0</td>\n",
              "      <td>2.0</td>\n",
              "      <td>0.0</td>\n",
              "      <td>0.0</td>\n",
              "      <td>0.0</td>\n",
              "      <td>0.0</td>\n",
              "      <td>0</td>\n",
              "      <td>0</td>\n",
              "      <td>0</td>\n",
              "      <td>0</td>\n",
              "      <td>1</td>\n",
              "      <td>0</td>\n",
              "      <td>0</td>\n",
              "      <td>0</td>\n",
              "      <td>0</td>\n",
              "      <td>0</td>\n",
              "      <td>0</td>\n",
              "      <td>0</td>\n",
              "      <td>0</td>\n",
              "      <td>1</td>\n",
              "      <td>0</td>\n",
              "      <td>0</td>\n",
              "      <td>0</td>\n",
              "      <td>0</td>\n",
              "      <td>0</td>\n",
              "      <td>0</td>\n",
              "      <td>0</td>\n",
              "      <td>0</td>\n",
              "      <td>0</td>\n",
              "      <td>1</td>\n",
              "      <td>0</td>\n",
              "      <td>-3.0</td>\n",
              "      <td>0.0</td>\n",
              "      <td>0.0</td>\n",
              "      <td>-1.0</td>\n",
              "      <td>1.0</td>\n",
              "      <td>0.0</td>\n",
              "      <td>1</td>\n",
              "      <td>0</td>\n",
              "      <td>0</td>\n",
              "      <td>1</td>\n",
              "      <td>0</td>\n",
              "      <td>0</td>\n",
              "    </tr>\n",
              "  </tbody>\n",
              "</table>\n",
              "</div>"
            ],
            "text/plain": [
              "   fh1  fh2  fh3  fh4  fh5  ...  medio#  muchos#  pocos@  medio@  muchos@\n",
              "0 -2.0  2.0  0.0  0.0  0.0  ...       0        0       1       0        0\n",
              "1 -2.0  2.0  0.0  0.0  0.0  ...       0        0       1       0        0\n",
              "2 -2.0  2.0  0.0  0.0  0.0  ...       0        0       1       0        0\n",
              "3 -2.0  2.0  0.0  0.0  0.0  ...       0        0       1       0        0\n",
              "4 -2.0  2.0  0.0  0.0  0.0  ...       0        0       1       0        0\n",
              "\n",
              "[5 rows x 43 columns]"
            ]
          },
          "metadata": {
            "tags": []
          },
          "execution_count": 32
        }
      ]
    },
    {
      "cell_type": "code",
      "metadata": {
        "colab_type": "code",
        "id": "MG8QmUTRISuL",
        "colab": {}
      },
      "source": [
        "#from sklearn.model_selection import train_test_split\n",
        "#entrenar.info()\n",
        "#X_train, X_test, y_train, y_test =  train_test_split(entrenar, target, test_size=0.2, random_state=123)"
      ],
      "execution_count": null,
      "outputs": []
    },
    {
      "cell_type": "code",
      "metadata": {
        "colab_type": "code",
        "id": "7haa4xCWx4s9",
        "colab": {}
      },
      "source": [
        "xg_reg = xgb.XGBRegressor(objective ='reg:squarederror', \n",
        "                colsample_bytree = 0.4, learning_rate = 0.2,\n",
        "                max_depth = 6, alpha = 10, n_estimators = 60)"
      ],
      "execution_count": null,
      "outputs": []
    },
    {
      "cell_type": "code",
      "metadata": {
        "colab_type": "code",
        "id": "ovG65_arE-0R",
        "colab": {
          "base_uri": "https://localhost:8080/",
          "height": 34
        },
        "outputId": "e03c55a0-6cd4-4219-8e3b-37767c81c789"
      },
      "source": [
        "# split data into X and y\n",
        "X = entrenar\n",
        "Y = target\n",
        "# split data into train and test sets\n",
        "X_train, X_test, y_train, y_test = train_test_split(X, Y, test_size=0.2, random_state=7)\n",
        "# fit model no training data\n",
        "model = xg_reg\n",
        "eval_set = [(X_test, y_test)]\n",
        "model.fit(X_train, y_train, eval_metric=\"error\")\n",
        "# make predictions for test data\n",
        "y_pred = model.predict(X_test)\n",
        "predictions = [round(value) for value in y_pred]\n",
        "# evaluate predictions\n",
        "accuracy = accuracy_score(y_test, predictions)\n",
        "print(\"Accuracy: %.2f%%\" % (accuracy * 100.0))"
      ],
      "execution_count": null,
      "outputs": [
        {
          "output_type": "stream",
          "text": [
            "Accuracy: 71.18%\n"
          ],
          "name": "stdout"
        }
      ]
    },
    {
      "cell_type": "code",
      "metadata": {
        "colab_type": "code",
        "id": "CXODAHHda4gh",
        "colab": {
          "base_uri": "https://localhost:8080/",
          "height": 34
        },
        "outputId": "be23dad5-27e3-4276-b52a-f0435003d85b"
      },
      "source": [
        "rmse = np.sqrt(mean_squared_error(y_test, y_pred))\n",
        "print(\"RMSE: %f\" % (rmse))"
      ],
      "execution_count": null,
      "outputs": [
        {
          "output_type": "stream",
          "text": [
            "RMSE: 0.441294\n"
          ],
          "name": "stdout"
        }
      ]
    },
    {
      "cell_type": "code",
      "metadata": {
        "colab_type": "code",
        "id": "zJSAeeuBqzpt",
        "colab": {
          "base_uri": "https://localhost:8080/",
          "height": 458
        },
        "outputId": "cc9ee8f6-f9e2-4598-e144-1c2f48184aea"
      },
      "source": [
        "from xgboost import plot_importance\n",
        "plt.rcParams['figure.figsize'] = [12, 7]\n",
        "plot_importance(model)\n",
        "pyplot.savefig('xgboost.png')\n",
        "pyplot.show()"
      ],
      "execution_count": null,
      "outputs": [
        {
          "output_type": "display_data",
          "data": {
            "image/png": "[encoded data removed]",
            "text/plain": [
              "<Figure size 864x504 with 1 Axes>"
            ]
          },
          "metadata": {
            "tags": [],
            "needs_background": "light"
          }
        }
      ]
    },
    {
      "cell_type": "code",
      "metadata": {
        "colab_type": "code",
        "id": "9RsZq1lzgLVB",
        "colab": {
          "base_uri": "https://localhost:8080/",
          "height": 125
        },
        "outputId": "8dbee60c-a2f1-44c7-b34f-82757231adfa"
      },
      "source": [
        "plt.rcParams['figure.figsize'] = [24,24]\n",
        "xgb.plot_tree(xg_reg,num_trees=0)\n",
        "xgb.to_graphviz(xg_reg,num_trees=0)\n",
        "plt.show()"
      ],
      "execution_count": 48,
      "outputs": [
        {
          "output_type": "display_data",
          "data": {
            "image/png": "[encoded data removed]",
            "text/plain": [
              "<Figure size 1728x1728 with 1 Axes>"
            ]
          },
          "metadata": {
            "tags": [],
            "needs_background": "light"
          }
        }
      ]
    },
    {
      "cell_type": "code",
      "metadata": {
        "colab_type": "code",
        "id": "gZsQJ4u38nzF",
        "colab": {
          "base_uri": "https://localhost:8080/",
          "height": 1000
        },
        "outputId": "86c2641c-641c-4b33-c9ee-a80c5a0658d5"
      },
      "source": [
        "eval_set = [(X_train, y_train), (X_test, y_test)]\n",
        "model.fit(X_train, y_train, eval_metric=[\"error\", \"logloss\"], eval_set=eval_set, verbose=True)\n",
        "# make predictions for test data\n",
        "y_pred = model.predict(X_test)\n",
        "predictions = [round(value) for value in y_pred]\n",
        "# evaluate predictions\n",
        "accuracy = accuracy_score(y_test, predictions)\n",
        "print(\"Accuracy: %.2f%%\" % (accuracy * 100.0))\n",
        "# retrieve performance metrics\n",
        "results = model.evals_result()\n",
        "epochs = len(results['validation_0']['error'])\n",
        "x_axis = range(0, epochs)\n",
        "# plot log loss\n",
        "fig, ax = pyplot.subplots()\n",
        "ax.plot(x_axis, results['validation_0']['logloss'], label='Train')\n",
        "ax.plot(x_axis, results['validation_1']['logloss'], label='Test')\n",
        "ax.legend()\n",
        "pyplot.ylabel('Log Loss')\n",
        "pyplot.title('XGBoost Log Loss')\n",
        "pyplot.savefig('logloss.png')\n",
        "pyplot.show()\n",
        "# plot classification error\n",
        "fig, ax = pyplot.subplots()\n",
        "ax.plot(x_axis, results['validation_0']['error'], label='Train')\n",
        "ax.plot(x_axis, results['validation_1']['error'], label='Test')\n",
        "ax.legend()\n",
        "pyplot.ylabel('Classification Error')\n",
        "pyplot.title('XGBoost Classification Error')\n",
        "pyplot.show()\n",
        "pyplot.savefig('classerr.png')"
      ],
      "execution_count": 50,
      "outputs": [
        {
          "output_type": "stream",
          "text": [
            "[0]\tvalidation_0-error:0.338095\tvalidation_0-logloss:0.681168\tvalidation_1-error:0.346684\tvalidation_1-logloss:0.682189\n",
            "[1]\tvalidation_0-error:0.338095\tvalidation_0-logloss:0.671472\tvalidation_1-error:0.346684\tvalidation_1-logloss:0.673382\n",
            "[2]\tvalidation_0-error:0.33087\tvalidation_0-logloss:0.663548\tvalidation_1-error:0.335522\tvalidation_1-logloss:0.666158\n",
            "[3]\tvalidation_0-error:0.329392\tvalidation_0-logloss:0.656878\tvalidation_1-error:0.331582\tvalidation_1-logloss:0.659739\n",
            "[4]\tvalidation_0-error:0.327915\tvalidation_0-logloss:0.650942\tvalidation_1-error:0.334209\tvalidation_1-logloss:0.654705\n",
            "[5]\tvalidation_0-error:0.32775\tvalidation_0-logloss:0.646196\tvalidation_1-error:0.329613\tvalidation_1-logloss:0.649915\n",
            "[6]\tvalidation_0-error:0.327258\tvalidation_0-logloss:0.641413\tvalidation_1-error:0.330269\tvalidation_1-logloss:0.645581\n",
            "[7]\tvalidation_0-error:0.326765\tvalidation_0-logloss:0.637945\tvalidation_1-error:0.326986\tvalidation_1-logloss:0.643012\n",
            "[8]\tvalidation_0-error:0.328736\tvalidation_0-logloss:0.6348\tvalidation_1-error:0.328956\tvalidation_1-logloss:0.640239\n",
            "[9]\tvalidation_0-error:0.328079\tvalidation_0-logloss:0.632115\tvalidation_1-error:0.32436\tvalidation_1-logloss:0.638103\n",
            "[10]\tvalidation_0-error:0.328243\tvalidation_0-logloss:0.629368\tvalidation_1-error:0.323703\tvalidation_1-logloss:0.635712\n",
            "[11]\tvalidation_0-error:0.326108\tvalidation_0-logloss:0.627058\tvalidation_1-error:0.325016\tvalidation_1-logloss:0.634101\n",
            "[12]\tvalidation_0-error:0.328079\tvalidation_0-logloss:0.62519\tvalidation_1-error:0.323703\tvalidation_1-logloss:0.632808\n",
            "[13]\tvalidation_0-error:0.326273\tvalidation_0-logloss:0.623615\tvalidation_1-error:0.32436\tvalidation_1-logloss:0.631795\n",
            "[14]\tvalidation_0-error:0.326108\tvalidation_0-logloss:0.621886\tvalidation_1-error:0.325016\tvalidation_1-logloss:0.630951\n",
            "[15]\tvalidation_0-error:0.322824\tvalidation_0-logloss:0.620532\tvalidation_1-error:0.327643\tvalidation_1-logloss:0.630304\n",
            "[16]\tvalidation_0-error:0.323481\tvalidation_0-logloss:0.61871\tvalidation_1-error:0.32436\tvalidation_1-logloss:0.629178\n",
            "[17]\tvalidation_0-error:0.322989\tvalidation_0-logloss:0.6172\tvalidation_1-error:0.323703\tvalidation_1-logloss:0.62789\n",
            "[18]\tvalidation_0-error:0.321511\tvalidation_0-logloss:0.615837\tvalidation_1-error:0.32436\tvalidation_1-logloss:0.626709\n",
            "[19]\tvalidation_0-error:0.321839\tvalidation_0-logloss:0.613631\tvalidation_1-error:0.321733\tvalidation_1-logloss:0.624647\n",
            "[20]\tvalidation_0-error:0.321511\tvalidation_0-logloss:0.612652\tvalidation_1-error:0.323047\tvalidation_1-logloss:0.624368\n",
            "[21]\tvalidation_0-error:0.321511\tvalidation_0-logloss:0.610811\tvalidation_1-error:0.323703\tvalidation_1-logloss:0.622482\n",
            "[22]\tvalidation_0-error:0.320361\tvalidation_0-logloss:0.609808\tvalidation_1-error:0.32436\tvalidation_1-logloss:0.62198\n",
            "[23]\tvalidation_0-error:0.320525\tvalidation_0-logloss:0.609017\tvalidation_1-error:0.323047\tvalidation_1-logloss:0.62176\n",
            "[24]\tvalidation_0-error:0.322824\tvalidation_0-logloss:0.607624\tvalidation_1-error:0.321733\tvalidation_1-logloss:0.620698\n",
            "[25]\tvalidation_0-error:0.322989\tvalidation_0-logloss:0.607022\tvalidation_1-error:0.321077\tvalidation_1-logloss:0.620498\n",
            "[26]\tvalidation_0-error:0.321346\tvalidation_0-logloss:0.605562\tvalidation_1-error:0.32042\tvalidation_1-logloss:0.619137\n",
            "[27]\tvalidation_0-error:0.320361\tvalidation_0-logloss:0.604986\tvalidation_1-error:0.319764\tvalidation_1-logloss:0.61884\n",
            "[28]\tvalidation_0-error:0.320854\tvalidation_0-logloss:0.604037\tvalidation_1-error:0.317794\tvalidation_1-logloss:0.618135\n",
            "[29]\tvalidation_0-error:0.318555\tvalidation_0-logloss:0.602649\tvalidation_1-error:0.319107\tvalidation_1-logloss:0.616718\n",
            "[30]\tvalidation_0-error:0.317898\tvalidation_0-logloss:0.601669\tvalidation_1-error:0.31845\tvalidation_1-logloss:0.615984\n",
            "[31]\tvalidation_0-error:0.318227\tvalidation_0-logloss:0.601114\tvalidation_1-error:0.317794\tvalidation_1-logloss:0.615971\n",
            "[32]\tvalidation_0-error:0.317241\tvalidation_0-logloss:0.600025\tvalidation_1-error:0.317794\tvalidation_1-logloss:0.615252\n",
            "[33]\tvalidation_0-error:0.317241\tvalidation_0-logloss:0.598375\tvalidation_1-error:0.313854\tvalidation_1-logloss:0.613568\n",
            "[34]\tvalidation_0-error:0.317406\tvalidation_0-logloss:0.597957\tvalidation_1-error:0.314511\tvalidation_1-logloss:0.613451\n",
            "[35]\tvalidation_0-error:0.31757\tvalidation_0-logloss:0.59703\tvalidation_1-error:0.315167\tvalidation_1-logloss:0.612671\n",
            "[36]\tvalidation_0-error:0.31757\tvalidation_0-logloss:0.596658\tvalidation_1-error:0.315167\tvalidation_1-logloss:0.612715\n",
            "[37]\tvalidation_0-error:0.315764\tvalidation_0-logloss:0.595276\tvalidation_1-error:0.311884\tvalidation_1-logloss:0.61113\n",
            "[38]\tvalidation_0-error:0.315435\tvalidation_0-logloss:0.594492\tvalidation_1-error:0.313854\tvalidation_1-logloss:0.610631\n",
            "[39]\tvalidation_0-error:0.312972\tvalidation_0-logloss:0.593862\tvalidation_1-error:0.313854\tvalidation_1-logloss:0.610063\n",
            "[40]\tvalidation_0-error:0.311987\tvalidation_0-logloss:0.593107\tvalidation_1-error:0.313854\tvalidation_1-logloss:0.609796\n",
            "[41]\tvalidation_0-error:0.312479\tvalidation_0-logloss:0.592575\tvalidation_1-error:0.313198\tvalidation_1-logloss:0.609321\n",
            "[42]\tvalidation_0-error:0.312315\tvalidation_0-logloss:0.592113\tvalidation_1-error:0.314511\tvalidation_1-logloss:0.608882\n",
            "[43]\tvalidation_0-error:0.310016\tvalidation_0-logloss:0.590937\tvalidation_1-error:0.311884\tvalidation_1-logloss:0.608066\n",
            "[44]\tvalidation_0-error:0.309524\tvalidation_0-logloss:0.589755\tvalidation_1-error:0.312541\tvalidation_1-logloss:0.60685\n",
            "[45]\tvalidation_0-error:0.30936\tvalidation_0-logloss:0.589153\tvalidation_1-error:0.312541\tvalidation_1-logloss:0.606743\n",
            "[46]\tvalidation_0-error:0.309031\tvalidation_0-logloss:0.588459\tvalidation_1-error:0.312541\tvalidation_1-logloss:0.606503\n",
            "[47]\tvalidation_0-error:0.311823\tvalidation_0-logloss:0.587702\tvalidation_1-error:0.315824\tvalidation_1-logloss:0.606337\n",
            "[48]\tvalidation_0-error:0.311494\tvalidation_0-logloss:0.586887\tvalidation_1-error:0.317137\tvalidation_1-logloss:0.605686\n",
            "[49]\tvalidation_0-error:0.31133\tvalidation_0-logloss:0.586612\tvalidation_1-error:0.316481\tvalidation_1-logloss:0.605752\n",
            "[50]\tvalidation_0-error:0.309688\tvalidation_0-logloss:0.585687\tvalidation_1-error:0.313854\tvalidation_1-logloss:0.604507\n",
            "[51]\tvalidation_0-error:0.310016\tvalidation_0-logloss:0.585208\tvalidation_1-error:0.310571\tvalidation_1-logloss:0.604032\n",
            "[52]\tvalidation_0-error:0.308046\tvalidation_0-logloss:0.584652\tvalidation_1-error:0.312541\tvalidation_1-logloss:0.603673\n",
            "[53]\tvalidation_0-error:0.30821\tvalidation_0-logloss:0.584415\tvalidation_1-error:0.312541\tvalidation_1-logloss:0.603831\n",
            "[54]\tvalidation_0-error:0.307389\tvalidation_0-logloss:0.583301\tvalidation_1-error:0.314511\tvalidation_1-logloss:0.603074\n",
            "[55]\tvalidation_0-error:0.305911\tvalidation_0-logloss:0.582594\tvalidation_1-error:0.313198\tvalidation_1-logloss:0.602546\n",
            "[56]\tvalidation_0-error:0.30509\tvalidation_0-logloss:0.581768\tvalidation_1-error:0.313198\tvalidation_1-logloss:0.601934\n",
            "[57]\tvalidation_0-error:0.305419\tvalidation_0-logloss:0.580958\tvalidation_1-error:0.311228\tvalidation_1-logloss:0.60118\n",
            "[58]\tvalidation_0-error:0.304269\tvalidation_0-logloss:0.58073\tvalidation_1-error:0.311228\tvalidation_1-logloss:0.601207\n",
            "[59]\tvalidation_0-error:0.302627\tvalidation_0-logloss:0.57993\tvalidation_1-error:0.311228\tvalidation_1-logloss:0.600837\n",
            "[60]\tvalidation_0-error:0.30197\tvalidation_0-logloss:0.579025\tvalidation_1-error:0.310571\tvalidation_1-logloss:0.599933\n",
            "[61]\tvalidation_0-error:0.301642\tvalidation_0-logloss:0.578439\tvalidation_1-error:0.313854\tvalidation_1-logloss:0.599604\n",
            "[62]\tvalidation_0-error:0.301806\tvalidation_0-logloss:0.578239\tvalidation_1-error:0.313854\tvalidation_1-logloss:0.599697\n",
            "[63]\tvalidation_0-error:0.300493\tvalidation_0-logloss:0.577816\tvalidation_1-error:0.313854\tvalidation_1-logloss:0.599584\n",
            "[64]\tvalidation_0-error:0.3\tvalidation_0-logloss:0.576957\tvalidation_1-error:0.311228\tvalidation_1-logloss:0.598891\n",
            "[65]\tvalidation_0-error:0.300985\tvalidation_0-logloss:0.576521\tvalidation_1-error:0.312541\tvalidation_1-logloss:0.5985\n",
            "[66]\tvalidation_0-error:0.300328\tvalidation_0-logloss:0.576221\tvalidation_1-error:0.311884\tvalidation_1-logloss:0.598476\n",
            "[67]\tvalidation_0-error:0.298358\tvalidation_0-logloss:0.575414\tvalidation_1-error:0.307945\tvalidation_1-logloss:0.597825\n",
            "[68]\tvalidation_0-error:0.297701\tvalidation_0-logloss:0.575128\tvalidation_1-error:0.307945\tvalidation_1-logloss:0.597805\n",
            "[69]\tvalidation_0-error:0.299179\tvalidation_0-logloss:0.574445\tvalidation_1-error:0.304005\tvalidation_1-logloss:0.597144\n",
            "[70]\tvalidation_0-error:0.298686\tvalidation_0-logloss:0.574261\tvalidation_1-error:0.304662\tvalidation_1-logloss:0.596942\n",
            "[71]\tvalidation_0-error:0.298522\tvalidation_0-logloss:0.573969\tvalidation_1-error:0.304005\tvalidation_1-logloss:0.596631\n",
            "[72]\tvalidation_0-error:0.297865\tvalidation_0-logloss:0.573676\tvalidation_1-error:0.304005\tvalidation_1-logloss:0.596762\n",
            "[73]\tvalidation_0-error:0.296716\tvalidation_0-logloss:0.573417\tvalidation_1-error:0.305975\tvalidation_1-logloss:0.596704\n",
            "[74]\tvalidation_0-error:0.297044\tvalidation_0-logloss:0.572721\tvalidation_1-error:0.304662\tvalidation_1-logloss:0.5964\n",
            "[75]\tvalidation_0-error:0.29688\tvalidation_0-logloss:0.572232\tvalidation_1-error:0.306632\tvalidation_1-logloss:0.596103\n",
            "[76]\tvalidation_0-error:0.292939\tvalidation_0-logloss:0.571074\tvalidation_1-error:0.304662\tvalidation_1-logloss:0.595267\n",
            "[77]\tvalidation_0-error:0.293268\tvalidation_0-logloss:0.570893\tvalidation_1-error:0.304662\tvalidation_1-logloss:0.595234\n",
            "[78]\tvalidation_0-error:0.293596\tvalidation_0-logloss:0.57023\tvalidation_1-error:0.302035\tvalidation_1-logloss:0.594388\n",
            "[79]\tvalidation_0-error:0.292447\tvalidation_0-logloss:0.569791\tvalidation_1-error:0.303349\tvalidation_1-logloss:0.594142\n",
            "[80]\tvalidation_0-error:0.292447\tvalidation_0-logloss:0.569639\tvalidation_1-error:0.302692\tvalidation_1-logloss:0.594336\n",
            "[81]\tvalidation_0-error:0.292611\tvalidation_0-logloss:0.568916\tvalidation_1-error:0.302035\tvalidation_1-logloss:0.593503\n",
            "[82]\tvalidation_0-error:0.291626\tvalidation_0-logloss:0.56874\tvalidation_1-error:0.303349\tvalidation_1-logloss:0.593312\n",
            "[83]\tvalidation_0-error:0.292118\tvalidation_0-logloss:0.568394\tvalidation_1-error:0.303349\tvalidation_1-logloss:0.59313\n",
            "[84]\tvalidation_0-error:0.291954\tvalidation_0-logloss:0.568073\tvalidation_1-error:0.302035\tvalidation_1-logloss:0.593182\n",
            "[85]\tvalidation_0-error:0.292118\tvalidation_0-logloss:0.567511\tvalidation_1-error:0.302692\tvalidation_1-logloss:0.593108\n",
            "[86]\tvalidation_0-error:0.291626\tvalidation_0-logloss:0.567191\tvalidation_1-error:0.302035\tvalidation_1-logloss:0.593073\n",
            "[87]\tvalidation_0-error:0.29179\tvalidation_0-logloss:0.567038\tvalidation_1-error:0.302035\tvalidation_1-logloss:0.59306\n",
            "[88]\tvalidation_0-error:0.292118\tvalidation_0-logloss:0.566938\tvalidation_1-error:0.302692\tvalidation_1-logloss:0.593007\n",
            "[89]\tvalidation_0-error:0.292118\tvalidation_0-logloss:0.566647\tvalidation_1-error:0.303349\tvalidation_1-logloss:0.593047\n",
            "[90]\tvalidation_0-error:0.291133\tvalidation_0-logloss:0.566375\tvalidation_1-error:0.303349\tvalidation_1-logloss:0.593105\n",
            "[91]\tvalidation_0-error:0.289984\tvalidation_0-logloss:0.566095\tvalidation_1-error:0.302692\tvalidation_1-logloss:0.593202\n",
            "[92]\tvalidation_0-error:0.289655\tvalidation_0-logloss:0.566\tvalidation_1-error:0.302035\tvalidation_1-logloss:0.593187\n",
            "[93]\tvalidation_0-error:0.289163\tvalidation_0-logloss:0.565469\tvalidation_1-error:0.304005\tvalidation_1-logloss:0.592457\n",
            "[94]\tvalidation_0-error:0.289655\tvalidation_0-logloss:0.56512\tvalidation_1-error:0.302035\tvalidation_1-logloss:0.592191\n",
            "[95]\tvalidation_0-error:0.288506\tvalidation_0-logloss:0.564815\tvalidation_1-error:0.304005\tvalidation_1-logloss:0.591947\n",
            "[96]\tvalidation_0-error:0.287192\tvalidation_0-logloss:0.564576\tvalidation_1-error:0.303349\tvalidation_1-logloss:0.592049\n",
            "[97]\tvalidation_0-error:0.286535\tvalidation_0-logloss:0.564466\tvalidation_1-error:0.302035\tvalidation_1-logloss:0.592007\n",
            "[98]\tvalidation_0-error:0.286207\tvalidation_0-logloss:0.564228\tvalidation_1-error:0.303349\tvalidation_1-logloss:0.591959\n",
            "[99]\tvalidation_0-error:0.285386\tvalidation_0-logloss:0.563945\tvalidation_1-error:0.303349\tvalidation_1-logloss:0.591789\n",
            "Accuracy: 69.67%\n"
          ],
          "name": "stdout"
        },
        {
          "output_type": "display_data",
          "data": {
            "image/png": "[encoded data removed]",
            "text/plain": [
              "<Figure size 1728x1728 with 1 Axes>"
            ]
          },
          "metadata": {
            "tags": [],
            "needs_background": "light"
          }
        },
        {
          "output_type": "display_data",
          "data": {
            "image/png": "[encoded data removed]",
            "text/plain": [
              "<Figure size 1728x1728 with 1 Axes>"
            ]
          },
          "metadata": {
            "tags": [],
            "needs_background": "light"
          }
        },
        {
          "output_type": "display_data",
          "data": {
            "text/plain": [
              "<Figure size 1728x1728 with 0 Axes>"
            ]
          },
          "metadata": {
            "tags": []
          }
        }
      ]
    },
    {
      "cell_type": "code",
      "metadata": {
        "colab_type": "code",
        "id": "o5r-fjANksoH",
        "colab": {}
      },
      "source": [
        "label_encoded_y = LabelEncoder().fit_transform(target)\n",
        "model = XGBClassifier()\n",
        "colsample_bylevel = [0.1, 0.2, 0.3, 0.4, 0.5, 0.6, 0.7, 0.8, 1.0]\n",
        "param_grid = dict(colsample_bylevel=colsample_bylevel)\n",
        "kfold = StratifiedKFold(n_splits=10, shuffle=True, random_state=7)\n",
        "grid_search = GridSearchCV(model, param_grid, scoring=\"neg_log_loss\", n_jobs=-1, cv=kfold)\n",
        "grid_result = grid_search.fit(X, label_encoded_y)\n",
        "# summarize results\n",
        "print(\"Best: %f using %s\" % (grid_result.best_score_, grid_result.best_params_))\n",
        "means = grid_result.cv_results_['mean_test_score']\n",
        "stds = grid_result.cv_results_['std_test_score']\n",
        "params = grid_result.cv_results_['params']\n",
        "for mean, stdev, param in zip(means, stds, params):\n",
        "\tprint(\"%f (%f) with: %r\" % (mean, stdev, param))\n",
        "# plot\n",
        "pyplot.errorbar(colsample_bylevel, means, yerr=stds)\n",
        "pyplot.title(\"XGBoost colsample_bylevel vs Log Loss\")\n",
        "pyplot.xlabel('colsample_bylevel')\n",
        "pyplot.ylabel('Log Loss')\n",
        "pyplot.savefig('colsample_bylevel.png')"
      ],
      "execution_count": null,
      "outputs": []
    },
    {
      "cell_type": "code",
      "metadata": {
        "colab_type": "code",
        "id": "_mJCGix9x-1l",
        "colab": {
          "base_uri": "https://localhost:8080/",
          "height": 136
        },
        "outputId": "b9f28d3a-cb41-4c1d-b8e7-acbed2f791ea"
      },
      "source": [
        "xg_reg.fit(entrenar,target)"
      ],
      "execution_count": null,
      "outputs": [
        {
          "output_type": "execute_result",
          "data": {
            "text/plain": [
              "XGBRegressor(alpha=10, base_score=0.5, booster='gbtree', colsample_bylevel=1,\n",
              "             colsample_bynode=1, colsample_bytree=0.4, gamma=0,\n",
              "             importance_type='gain', learning_rate=0.2, max_delta_step=0,\n",
              "             max_depth=6, min_child_weight=1, missing=None, n_estimators=60,\n",
              "             n_jobs=1, nthread=None, objective='reg:squarederror',\n",
              "             random_state=0, reg_alpha=0, reg_lambda=1, scale_pos_weight=1,\n",
              "             seed=None, silent=None, subsample=1, verbosity=1)"
            ]
          },
          "metadata": {
            "tags": []
          },
          "execution_count": 41
        }
      ]
    },
    {
      "cell_type": "code",
      "metadata": {
        "colab_type": "code",
        "id": "nmSoXon1FAo3",
        "colab": {}
      },
      "source": [
        "preds = xg_reg.predict(test)\n",
        "preds = (preds>=0.5)*1\n",
        "predictions = pd.DataFrame()\n",
        "predictions['id']=datos['id']\n",
        "predictions['target']=preds\n",
        "predictions.head()\n",
        "predictions.to_csv('resultados.csv',index=False)"
      ],
      "execution_count": null,
      "outputs": []
    },
    {
      "cell_type": "code",
      "metadata": {
        "colab_type": "code",
        "id": "D6E0NLliIw1Q",
        "colab": {}
      },
      "source": [
        "#!kaggle competitions submit -c nlp-getting-started -f resultados.csv -m \"Nuevo intento\""
      ],
      "execution_count": null,
      "outputs": []
    }
  ]
}