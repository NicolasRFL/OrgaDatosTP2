{
 "cells": [
  {
   "cell_type": "code",
   "execution_count": 1,
   "metadata": {
    "scrolled": true
   },
   "outputs": [],
   "source": [
    "import numpy as np\n",
    "import pandas as pd\n",
    "from sklearn.model_selection import train_test_split\n",
    "import torch\n",
    "import transformers as ppb\n",
    "import warnings\n",
    "warnings.filterwarnings('ignore')\n",
    "import wandb\n",
    "import simpletransformers\n",
    "import logging\n",
    "from simpletransformers.classification import (ClassificationArgs,ClassificationModel)\n",
    "from sklearn.metrics import accuracy_score"
   ]
  },
  {
   "cell_type": "code",
   "execution_count": 2,
   "metadata": {},
   "outputs": [
    {
     "data": {
      "text/html": [
       "<div>\n",
       "<style scoped>\n",
       "    .dataframe tbody tr th:only-of-type {\n",
       "        vertical-align: middle;\n",
       "    }\n",
       "\n",
       "    .dataframe tbody tr th {\n",
       "        vertical-align: top;\n",
       "    }\n",
       "\n",
       "    .dataframe thead th {\n",
       "        text-align: right;\n",
       "    }\n",
       "</style>\n",
       "<table border=\"1\" class=\"dataframe\">\n",
       "  <thead>\n",
       "    <tr style=\"text-align: right;\">\n",
       "      <th></th>\n",
       "      <th>id</th>\n",
       "      <th>keyword</th>\n",
       "      <th>location</th>\n",
       "      <th>text</th>\n",
       "    </tr>\n",
       "  </thead>\n",
       "  <tbody>\n",
       "    <tr>\n",
       "      <th>0</th>\n",
       "      <td>0</td>\n",
       "      <td>NaN</td>\n",
       "      <td>NaN</td>\n",
       "      <td>Just happened a terrible car crash</td>\n",
       "    </tr>\n",
       "    <tr>\n",
       "      <th>1</th>\n",
       "      <td>2</td>\n",
       "      <td>NaN</td>\n",
       "      <td>NaN</td>\n",
       "      <td>Heard about #earthquake is different cities, s...</td>\n",
       "    </tr>\n",
       "    <tr>\n",
       "      <th>2</th>\n",
       "      <td>3</td>\n",
       "      <td>NaN</td>\n",
       "      <td>NaN</td>\n",
       "      <td>there is a forest fire at spot pond, geese are...</td>\n",
       "    </tr>\n",
       "    <tr>\n",
       "      <th>3</th>\n",
       "      <td>9</td>\n",
       "      <td>NaN</td>\n",
       "      <td>NaN</td>\n",
       "      <td>Apocalypse lighting. #Spokane #wildfires</td>\n",
       "    </tr>\n",
       "    <tr>\n",
       "      <th>4</th>\n",
       "      <td>11</td>\n",
       "      <td>NaN</td>\n",
       "      <td>NaN</td>\n",
       "      <td>Typhoon Soudelor kills 28 in China and Taiwan</td>\n",
       "    </tr>\n",
       "  </tbody>\n",
       "</table>\n",
       "</div>"
      ],
      "text/plain": [
       "   id keyword location                                               text\n",
       "0   0     NaN      NaN                 Just happened a terrible car crash\n",
       "1   2     NaN      NaN  Heard about #earthquake is different cities, s...\n",
       "2   3     NaN      NaN  there is a forest fire at spot pond, geese are...\n",
       "3   9     NaN      NaN           Apocalypse lighting. #Spokane #wildfires\n",
       "4  11     NaN      NaN      Typhoon Soudelor kills 28 in China and Taiwan"
      ]
     },
     "execution_count": 2,
     "metadata": {},
     "output_type": "execute_result"
    }
   ],
   "source": [
    "train=pd.read_csv(\"train.csv\",encoding='latin-1')\n",
    "datos =pd.read_csv(\"test.csv\",encoding='latin-1')\n",
    "datos.head()"
   ]
  },
  {
   "cell_type": "code",
   "execution_count": 3,
   "metadata": {},
   "outputs": [],
   "source": [
    "train_df=pd.DataFrame()\n",
    "train_df['text']=train['text']\n",
    "train_df['label']=train['target']\n",
    "test_df=pd.DataFrame()\n",
    "test_df['text']=datos['text']"
   ]
  },
  {
   "cell_type": "code",
   "execution_count": 4,
   "metadata": {},
   "outputs": [
    {
     "name": "stderr",
     "output_type": "stream",
     "text": [
      "WARNING:transformers.modeling_utils:Some weights of the model checkpoint at roberta-base were not used when initializing RobertaForSequenceClassification: ['lm_head.bias', 'lm_head.dense.weight', 'lm_head.dense.bias', 'lm_head.layer_norm.weight', 'lm_head.layer_norm.bias', 'lm_head.decoder.weight']\n",
      "- This IS expected if you are initializing RobertaForSequenceClassification from the checkpoint of a model trained on another task or with another architecture (e.g. initializing a BertForSequenceClassification model from a BertForPretraining model).\n",
      "- This IS NOT expected if you are initializing RobertaForSequenceClassification from the checkpoint of a model that you expect to be exactly identical (initializing a BertForSequenceClassification model from a BertForSequenceClassification model).\n",
      "WARNING:transformers.modeling_utils:Some weights of RobertaForSequenceClassification were not initialized from the model checkpoint at roberta-base and are newly initialized: ['classifier.dense.weight', 'classifier.dense.bias', 'classifier.out_proj.weight', 'classifier.out_proj.bias']\n",
      "You should probably TRAIN this model on a down-stream task to be able to use it for predictions and inference.\n"
     ]
    },
    {
     "data": {
      "text/plain": [
       "'train_vectors = model.encode_sentences(train_df[\"text\"].to_list(), combine_strategy=\"mean\")\\neval_vectors = model.encode_sentences(eval_df[\"text\"].to_list(), combine_strategy=\"mean\")'"
      ]
     },
     "execution_count": 4,
     "metadata": {},
     "output_type": "execute_result"
    }
   ],
   "source": [
    "\n",
    "\n",
    "logging.basicConfig(level=logging.INFO)\n",
    "transformers_logger = logging.getLogger(\"transformers\")\n",
    "transformers_logger.setLevel(logging.WARNING)\n",
    "\n",
    "# Create a ClassificationModel\n",
    "model = ClassificationModel(\n",
    "    model_type=\"roberta\",\n",
    "    model_name=\"roberta-base\",\n",
    "    use_cuda=True,\n",
    "    args={'overwrite_output_dir': True}\n",
    ")\n",
    "# Train the model\n",
    "\n",
    "\"\"\"train_vectors = model.encode_sentences(train_df[\"text\"].to_list(), combine_strategy=\"mean\")\n",
    "eval_vectors = model.encode_sentences(eval_df[\"text\"].to_list(), combine_strategy=\"mean\")\"\"\"\n"
   ]
  },
  {
   "cell_type": "code",
   "execution_count": 5,
   "metadata": {},
   "outputs": [
    {
     "data": {
      "text/plain": [
       "'newdf=pd.DataFrame(train_vectors)\\ndatosdf=pd.DataFrame(eval_vectors)'"
      ]
     },
     "execution_count": 5,
     "metadata": {},
     "output_type": "execute_result"
    }
   ],
   "source": [
    "\"\"\"newdf=pd.DataFrame(train_vectors)\n",
    "datosdf=pd.DataFrame(eval_vectors)\"\"\""
   ]
  },
  {
   "cell_type": "code",
   "execution_count": 6,
   "metadata": {},
   "outputs": [
    {
     "data": {
      "text/plain": [
       "\"newdf.to_csv('robertaTrain.csv',index=False)\\ndatosdf.to_csv('robertaDatos.csv',index=False)\""
      ]
     },
     "execution_count": 6,
     "metadata": {},
     "output_type": "execute_result"
    }
   ],
   "source": [
    "\"\"\"newdf.to_csv('robertaTrain.csv',index=False)\n",
    "datosdf.to_csv('robertaDatos.csv',index=False)\"\"\""
   ]
  },
  {
   "cell_type": "code",
   "execution_count": 7,
   "metadata": {},
   "outputs": [],
   "source": [
    "entren, evalu = train_test_split(train_df, test_size=0.2)"
   ]
  },
  {
   "cell_type": "code",
   "execution_count": 8,
   "metadata": {
    "scrolled": true
   },
   "outputs": [
    {
     "name": "stderr",
     "output_type": "stream",
     "text": [
      "INFO:simpletransformers.classification.classification_model: Converting to features started. Cache is not used.\n"
     ]
    },
    {
     "data": {
      "application/vnd.jupyter.widget-view+json": {
       "model_id": "132b93832017483d9ec3a72d84076ca6",
       "version_major": 2,
       "version_minor": 0
      },
      "text/plain": [
       "HBox(children=(FloatProgress(value=0.0, max=6090.0), HTML(value='')))"
      ]
     },
     "metadata": {},
     "output_type": "display_data"
    },
    {
     "name": "stdout",
     "output_type": "stream",
     "text": [
      "\n"
     ]
    },
    {
     "data": {
      "application/vnd.jupyter.widget-view+json": {
       "model_id": "ac74b0a27d304f2492b247003f176c3a",
       "version_major": 2,
       "version_minor": 0
      },
      "text/plain": [
       "HBox(children=(FloatProgress(value=0.0, description='Epoch', max=1.0, style=ProgressStyle(description_width='i…"
      ]
     },
     "metadata": {},
     "output_type": "display_data"
    },
    {
     "data": {
      "application/vnd.jupyter.widget-view+json": {
       "model_id": "ee9bd98f2c124290856b40a7ed614376",
       "version_major": 2,
       "version_minor": 0
      },
      "text/plain": [
       "HBox(children=(FloatProgress(value=0.0, description='Running Epoch 0 of 1', max=762.0, style=ProgressStyle(des…"
      ]
     },
     "metadata": {},
     "output_type": "display_data"
    },
    {
     "name": "stdout",
     "output_type": "stream",
     "text": [
      "\n",
      "\n"
     ]
    },
    {
     "name": "stderr",
     "output_type": "stream",
     "text": [
      "INFO:simpletransformers.classification.classification_model: Training of roberta model complete. Saved to outputs/.\n"
     ]
    }
   ],
   "source": [
    "model.train_model(entren,eval_df=evalu,acc=accuracy_score)"
   ]
  },
  {
   "cell_type": "code",
   "execution_count": 9,
   "metadata": {},
   "outputs": [
    {
     "name": "stderr",
     "output_type": "stream",
     "text": [
      "INFO:simpletransformers.classification.classification_model: Converting to features started. Cache is not used.\n"
     ]
    },
    {
     "data": {
      "application/vnd.jupyter.widget-view+json": {
       "model_id": "1dbeb49f86264e77bf5a3d808a04c409",
       "version_major": 2,
       "version_minor": 0
      },
      "text/plain": [
       "HBox(children=(FloatProgress(value=0.0, max=1523.0), HTML(value='')))"
      ]
     },
     "metadata": {},
     "output_type": "display_data"
    },
    {
     "name": "stdout",
     "output_type": "stream",
     "text": [
      "\n"
     ]
    },
    {
     "data": {
      "application/vnd.jupyter.widget-view+json": {
       "model_id": "fb7b695dbd5e4dbabcbbb21843fe869f",
       "version_major": 2,
       "version_minor": 0
      },
      "text/plain": [
       "HBox(children=(FloatProgress(value=0.0, description='Running Evaluation', max=191.0, style=ProgressStyle(descr…"
      ]
     },
     "metadata": {},
     "output_type": "display_data"
    },
    {
     "name": "stderr",
     "output_type": "stream",
     "text": [
      "INFO:simpletransformers.classification.classification_model:{'mcc': 0.6740089786676383, 'tp': 518, 'tn': 763, 'fp': 112, 'fn': 130, 'acc': 0.8411030860144452, 'eval_loss': 0.39844234849457966}\n"
     ]
    },
    {
     "name": "stdout",
     "output_type": "stream",
     "text": [
      "\n"
     ]
    },
    {
     "data": {
      "text/plain": [
       "({'mcc': 0.6740089786676383,\n",
       "  'tp': 518,\n",
       "  'tn': 763,\n",
       "  'fp': 112,\n",
       "  'fn': 130,\n",
       "  'acc': 0.8411030860144452,\n",
       "  'eval_loss': 0.39844234849457966},\n",
       " array([[ 1.1570374 , -1.1581693 ],\n",
       "        [-1.8400849 ,  1.7791535 ],\n",
       "        [ 1.1235777 , -1.1496764 ],\n",
       "        ...,\n",
       "        [ 0.72168815, -0.78466666],\n",
       "        [ 1.0019737 , -0.96024084],\n",
       "        [-1.8311958 ,  1.796806  ]], dtype=float32),\n",
       " [<simpletransformers.classification.classification_utils.InputExample at 0x21e27bc5a48>,\n",
       "  <simpletransformers.classification.classification_utils.InputExample at 0x21e27bc5a88>,\n",
       "  <simpletransformers.classification.classification_utils.InputExample at 0x21e4be1e3c8>,\n",
       "  <simpletransformers.classification.classification_utils.InputExample at 0x21e4be1e588>,\n",
       "  <simpletransformers.classification.classification_utils.InputExample at 0x21e4be1e448>,\n",
       "  <simpletransformers.classification.classification_utils.InputExample at 0x21e4be1ed88>,\n",
       "  <simpletransformers.classification.classification_utils.InputExample at 0x21e4b809688>,\n",
       "  <simpletransformers.classification.classification_utils.InputExample at 0x21e4b809288>,\n",
       "  <simpletransformers.classification.classification_utils.InputExample at 0x21e4b809908>,\n",
       "  <simpletransformers.classification.classification_utils.InputExample at 0x21e4b809b08>,\n",
       "  <simpletransformers.classification.classification_utils.InputExample at 0x21e4b809948>,\n",
       "  <simpletransformers.classification.classification_utils.InputExample at 0x21e4b809fc8>,\n",
       "  <simpletransformers.classification.classification_utils.InputExample at 0x21e4b809d48>,\n",
       "  <simpletransformers.classification.classification_utils.InputExample at 0x21e47a91fc8>,\n",
       "  <simpletransformers.classification.classification_utils.InputExample at 0x21e47a919c8>,\n",
       "  <simpletransformers.classification.classification_utils.InputExample at 0x21e47a91188>,\n",
       "  <simpletransformers.classification.classification_utils.InputExample at 0x21e47a91208>,\n",
       "  <simpletransformers.classification.classification_utils.InputExample at 0x21e47a91f08>,\n",
       "  <simpletransformers.classification.classification_utils.InputExample at 0x21e47a91a48>,\n",
       "  <simpletransformers.classification.classification_utils.InputExample at 0x21e47a91848>,\n",
       "  <simpletransformers.classification.classification_utils.InputExample at 0x21e47a91c88>,\n",
       "  <simpletransformers.classification.classification_utils.InputExample at 0x21e47a91048>,\n",
       "  <simpletransformers.classification.classification_utils.InputExample at 0x21e47a91548>,\n",
       "  <simpletransformers.classification.classification_utils.InputExample at 0x21e47a91088>,\n",
       "  <simpletransformers.classification.classification_utils.InputExample at 0x21e47a91308>,\n",
       "  <simpletransformers.classification.classification_utils.InputExample at 0x21e47a91888>,\n",
       "  <simpletransformers.classification.classification_utils.InputExample at 0x21e47a91c48>,\n",
       "  <simpletransformers.classification.classification_utils.InputExample at 0x21e0ddcef88>,\n",
       "  <simpletransformers.classification.classification_utils.InputExample at 0x21e47992fc8>,\n",
       "  <simpletransformers.classification.classification_utils.InputExample at 0x21e479927c8>,\n",
       "  <simpletransformers.classification.classification_utils.InputExample at 0x21e47992588>,\n",
       "  <simpletransformers.classification.classification_utils.InputExample at 0x21e479924c8>,\n",
       "  <simpletransformers.classification.classification_utils.InputExample at 0x21e47992488>,\n",
       "  <simpletransformers.classification.classification_utils.InputExample at 0x21e47992e48>,\n",
       "  <simpletransformers.classification.classification_utils.InputExample at 0x21e47992848>,\n",
       "  <simpletransformers.classification.classification_utils.InputExample at 0x21e47992708>,\n",
       "  <simpletransformers.classification.classification_utils.InputExample at 0x21e479925c8>,\n",
       "  <simpletransformers.classification.classification_utils.InputExample at 0x21e47992308>,\n",
       "  <simpletransformers.classification.classification_utils.InputExample at 0x21e2e04c548>,\n",
       "  <simpletransformers.classification.classification_utils.InputExample at 0x21e357ab908>,\n",
       "  <simpletransformers.classification.classification_utils.InputExample at 0x21e357ab748>,\n",
       "  <simpletransformers.classification.classification_utils.InputExample at 0x21e2e8666c8>,\n",
       "  <simpletransformers.classification.classification_utils.InputExample at 0x21e2e866948>,\n",
       "  <simpletransformers.classification.classification_utils.InputExample at 0x21e2e866288>,\n",
       "  <simpletransformers.classification.classification_utils.InputExample at 0x21e2e866dc8>,\n",
       "  <simpletransformers.classification.classification_utils.InputExample at 0x21e2e866e08>,\n",
       "  <simpletransformers.classification.classification_utils.InputExample at 0x21e2e866488>,\n",
       "  <simpletransformers.classification.classification_utils.InputExample at 0x21e2e866a48>,\n",
       "  <simpletransformers.classification.classification_utils.InputExample at 0x21e2e866b88>,\n",
       "  <simpletransformers.classification.classification_utils.InputExample at 0x21e2e866348>,\n",
       "  <simpletransformers.classification.classification_utils.InputExample at 0x21e2e866048>,\n",
       "  <simpletransformers.classification.classification_utils.InputExample at 0x21e2e866888>,\n",
       "  <simpletransformers.classification.classification_utils.InputExample at 0x21e260c1d48>,\n",
       "  <simpletransformers.classification.classification_utils.InputExample at 0x21e357a5708>,\n",
       "  <simpletransformers.classification.classification_utils.InputExample at 0x21e357a56c8>,\n",
       "  <simpletransformers.classification.classification_utils.InputExample at 0x21e26b558c8>,\n",
       "  <simpletransformers.classification.classification_utils.InputExample at 0x21e26b557c8>,\n",
       "  <simpletransformers.classification.classification_utils.InputExample at 0x21e26b55288>,\n",
       "  <simpletransformers.classification.classification_utils.InputExample at 0x21e26b55808>,\n",
       "  <simpletransformers.classification.classification_utils.InputExample at 0x21e4775ad48>,\n",
       "  <simpletransformers.classification.classification_utils.InputExample at 0x21e4775a088>,\n",
       "  <simpletransformers.classification.classification_utils.InputExample at 0x21e4775a3c8>,\n",
       "  <simpletransformers.classification.classification_utils.InputExample at 0x21e4775a4c8>,\n",
       "  <simpletransformers.classification.classification_utils.InputExample at 0x21e4775aa48>,\n",
       "  <simpletransformers.classification.classification_utils.InputExample at 0x21e4775a608>,\n",
       "  <simpletransformers.classification.classification_utils.InputExample at 0x21e4775a0c8>,\n",
       "  <simpletransformers.classification.classification_utils.InputExample at 0x21e4775a6c8>,\n",
       "  <simpletransformers.classification.classification_utils.InputExample at 0x21e47753d88>,\n",
       "  <simpletransformers.classification.classification_utils.InputExample at 0x21e47753648>,\n",
       "  <simpletransformers.classification.classification_utils.InputExample at 0x21e47753308>,\n",
       "  <simpletransformers.classification.classification_utils.InputExample at 0x21e47753608>,\n",
       "  <simpletransformers.classification.classification_utils.InputExample at 0x21e47753c48>,\n",
       "  <simpletransformers.classification.classification_utils.InputExample at 0x21e47753988>,\n",
       "  <simpletransformers.classification.classification_utils.InputExample at 0x21e477535c8>,\n",
       "  <simpletransformers.classification.classification_utils.InputExample at 0x21e47753688>,\n",
       "  <simpletransformers.classification.classification_utils.InputExample at 0x21e47753ec8>,\n",
       "  <simpletransformers.classification.classification_utils.InputExample at 0x21e47aa2f08>,\n",
       "  <simpletransformers.classification.classification_utils.InputExample at 0x21e47aa2b88>,\n",
       "  <simpletransformers.classification.classification_utils.InputExample at 0x21e47aa2188>,\n",
       "  <simpletransformers.classification.classification_utils.InputExample at 0x21e47aa21c8>,\n",
       "  <simpletransformers.classification.classification_utils.InputExample at 0x21e47aa2248>,\n",
       "  <simpletransformers.classification.classification_utils.InputExample at 0x21e47aa2648>,\n",
       "  <simpletransformers.classification.classification_utils.InputExample at 0x21e47aa2108>,\n",
       "  <simpletransformers.classification.classification_utils.InputExample at 0x21e47aa2148>,\n",
       "  <simpletransformers.classification.classification_utils.InputExample at 0x21e47aa2ec8>,\n",
       "  <simpletransformers.classification.classification_utils.InputExample at 0x21e47b81fc8>,\n",
       "  <simpletransformers.classification.classification_utils.InputExample at 0x21e0de81388>,\n",
       "  <simpletransformers.classification.classification_utils.InputExample at 0x21e6b04d148>,\n",
       "  <simpletransformers.classification.classification_utils.InputExample at 0x21e6b04d708>,\n",
       "  <simpletransformers.classification.classification_utils.InputExample at 0x21e6b04d588>,\n",
       "  <simpletransformers.classification.classification_utils.InputExample at 0x21e6b04d748>,\n",
       "  <simpletransformers.classification.classification_utils.InputExample at 0x21e47a24348>,\n",
       "  <simpletransformers.classification.classification_utils.InputExample at 0x21e47a24d88>,\n",
       "  <simpletransformers.classification.classification_utils.InputExample at 0x21e47a24488>,\n",
       "  <simpletransformers.classification.classification_utils.InputExample at 0x21e47a24588>,\n",
       "  <simpletransformers.classification.classification_utils.InputExample at 0x21e47a24148>,\n",
       "  <simpletransformers.classification.classification_utils.InputExample at 0x21e47a24e88>,\n",
       "  <simpletransformers.classification.classification_utils.InputExample at 0x21e47a249c8>,\n",
       "  <simpletransformers.classification.classification_utils.InputExample at 0x21e47a24cc8>,\n",
       "  <simpletransformers.classification.classification_utils.InputExample at 0x21e47a24c48>,\n",
       "  <simpletransformers.classification.classification_utils.InputExample at 0x21e47a245c8>,\n",
       "  <simpletransformers.classification.classification_utils.InputExample at 0x21e357a0d08>,\n",
       "  <simpletransformers.classification.classification_utils.InputExample at 0x21e357a0988>,\n",
       "  <simpletransformers.classification.classification_utils.InputExample at 0x21e47aaba48>,\n",
       "  <simpletransformers.classification.classification_utils.InputExample at 0x21e47aab8c8>,\n",
       "  <simpletransformers.classification.classification_utils.InputExample at 0x21e47aab9c8>,\n",
       "  <simpletransformers.classification.classification_utils.InputExample at 0x21e47aab0c8>,\n",
       "  <simpletransformers.classification.classification_utils.InputExample at 0x21e47aab788>,\n",
       "  <simpletransformers.classification.classification_utils.InputExample at 0x21e47aab188>,\n",
       "  <simpletransformers.classification.classification_utils.InputExample at 0x21e47aab3c8>,\n",
       "  <simpletransformers.classification.classification_utils.InputExample at 0x21e47aabfc8>,\n",
       "  <simpletransformers.classification.classification_utils.InputExample at 0x21e47aabb48>,\n",
       "  <simpletransformers.classification.classification_utils.InputExample at 0x21e47aab1c8>,\n",
       "  <simpletransformers.classification.classification_utils.InputExample at 0x21e357b6bc8>,\n",
       "  <simpletransformers.classification.classification_utils.InputExample at 0x21e357b6cc8>,\n",
       "  <simpletransformers.classification.classification_utils.InputExample at 0x21e357b6788>,\n",
       "  <simpletransformers.classification.classification_utils.InputExample at 0x21e357b6f48>,\n",
       "  <simpletransformers.classification.classification_utils.InputExample at 0x21e357b6348>,\n",
       "  <simpletransformers.classification.classification_utils.InputExample at 0x21e357bc688>,\n",
       "  <simpletransformers.classification.classification_utils.InputExample at 0x21e357bc908>,\n",
       "  <simpletransformers.classification.classification_utils.InputExample at 0x21e357bc408>,\n",
       "  <simpletransformers.classification.classification_utils.InputExample at 0x21e357bc3c8>,\n",
       "  <simpletransformers.classification.classification_utils.InputExample at 0x21e357bccc8>,\n",
       "  <simpletransformers.classification.classification_utils.InputExample at 0x21e08bdc408>,\n",
       "  <simpletransformers.classification.classification_utils.InputExample at 0x21e08bdc588>,\n",
       "  <simpletransformers.classification.classification_utils.InputExample at 0x21e08bdcd08>,\n",
       "  <simpletransformers.classification.classification_utils.InputExample at 0x21e08bdccc8>,\n",
       "  <simpletransformers.classification.classification_utils.InputExample at 0x21e08bdcbc8>,\n",
       "  <simpletransformers.classification.classification_utils.InputExample at 0x21e0de77788>,\n",
       "  <simpletransformers.classification.classification_utils.InputExample at 0x21e2e864848>,\n",
       "  <simpletransformers.classification.classification_utils.InputExample at 0x21e2e864e88>,\n",
       "  <simpletransformers.classification.classification_utils.InputExample at 0x21e2e8647c8>,\n",
       "  <simpletransformers.classification.classification_utils.InputExample at 0x21e2e8646c8>,\n",
       "  <simpletransformers.classification.classification_utils.InputExample at 0x21e2e864148>,\n",
       "  <simpletransformers.classification.classification_utils.InputExample at 0x21e2e864ec8>,\n",
       "  <simpletransformers.classification.classification_utils.InputExample at 0x21e2e864748>,\n",
       "  <simpletransformers.classification.classification_utils.InputExample at 0x21e2e8641c8>,\n",
       "  <simpletransformers.classification.classification_utils.InputExample at 0x21e2e864908>,\n",
       "  <simpletransformers.classification.classification_utils.InputExample at 0x21e2e864048>,\n",
       "  <simpletransformers.classification.classification_utils.InputExample at 0x21e2e864d48>,\n",
       "  <simpletransformers.classification.classification_utils.InputExample at 0x21e6a60be08>,\n",
       "  <simpletransformers.classification.classification_utils.InputExample at 0x21e6a60bc08>,\n",
       "  <simpletransformers.classification.classification_utils.InputExample at 0x21e6a60b488>,\n",
       "  <simpletransformers.classification.classification_utils.InputExample at 0x21e6a60b888>,\n",
       "  <simpletransformers.classification.classification_utils.InputExample at 0x21e6a60b408>,\n",
       "  <simpletransformers.classification.classification_utils.InputExample at 0x21e6a60b788>,\n",
       "  <simpletransformers.classification.classification_utils.InputExample at 0x21e6a60bf08>,\n",
       "  <simpletransformers.classification.classification_utils.InputExample at 0x21e6a60b708>,\n",
       "  <simpletransformers.classification.classification_utils.InputExample at 0x21e6a60b688>,\n",
       "  <simpletransformers.classification.classification_utils.InputExample at 0x21e37055cc8>,\n",
       "  <simpletransformers.classification.classification_utils.InputExample at 0x21e37055348>,\n",
       "  <simpletransformers.classification.classification_utils.InputExample at 0x21e37055bc8>,\n",
       "  <simpletransformers.classification.classification_utils.InputExample at 0x21e36cfb708>,\n",
       "  <simpletransformers.classification.classification_utils.InputExample at 0x21e0490b088>,\n",
       "  <simpletransformers.classification.classification_utils.InputExample at 0x21e0490b208>,\n",
       "  <simpletransformers.classification.classification_utils.InputExample at 0x21e0490b408>,\n",
       "  <simpletransformers.classification.classification_utils.InputExample at 0x21e0490b448>,\n",
       "  <simpletransformers.classification.classification_utils.InputExample at 0x21e0490b5c8>,\n",
       "  <simpletransformers.classification.classification_utils.InputExample at 0x21e0490b908>,\n",
       "  <simpletransformers.classification.classification_utils.InputExample at 0x21e0490b848>,\n",
       "  <simpletransformers.classification.classification_utils.InputExample at 0x21e0490b708>,\n",
       "  <simpletransformers.classification.classification_utils.InputExample at 0x21e0490b648>,\n",
       "  <simpletransformers.classification.classification_utils.InputExample at 0x21e0490b808>,\n",
       "  <simpletransformers.classification.classification_utils.InputExample at 0x21e0490be48>,\n",
       "  <simpletransformers.classification.classification_utils.InputExample at 0x21e477fac08>,\n",
       "  <simpletransformers.classification.classification_utils.InputExample at 0x21e477fa488>,\n",
       "  <simpletransformers.classification.classification_utils.InputExample at 0x21e477fa548>,\n",
       "  <simpletransformers.classification.classification_utils.InputExample at 0x21e477fac88>,\n",
       "  <simpletransformers.classification.classification_utils.InputExample at 0x21e477faf88>,\n",
       "  <simpletransformers.classification.classification_utils.InputExample at 0x21e477fa208>,\n",
       "  <simpletransformers.classification.classification_utils.InputExample at 0x21e477fa2c8>,\n",
       "  <simpletransformers.classification.classification_utils.InputExample at 0x21e477fa588>,\n",
       "  <simpletransformers.classification.classification_utils.InputExample at 0x21e477fa288>,\n",
       "  <simpletransformers.classification.classification_utils.InputExample at 0x21e477fa4c8>,\n",
       "  <simpletransformers.classification.classification_utils.InputExample at 0x21e47b8af48>,\n",
       "  <simpletransformers.classification.classification_utils.InputExample at 0x21e47b36088>,\n",
       "  <simpletransformers.classification.classification_utils.InputExample at 0x21e47b36248>,\n",
       "  <simpletransformers.classification.classification_utils.InputExample at 0x21e47b36208>,\n",
       "  <simpletransformers.classification.classification_utils.InputExample at 0x21e47b36448>,\n",
       "  <simpletransformers.classification.classification_utils.InputExample at 0x21e47b364c8>,\n",
       "  <simpletransformers.classification.classification_utils.InputExample at 0x21e2e952208>,\n",
       "  <simpletransformers.classification.classification_utils.InputExample at 0x21e2e952d48>,\n",
       "  <simpletransformers.classification.classification_utils.InputExample at 0x21e2e952748>,\n",
       "  <simpletransformers.classification.classification_utils.InputExample at 0x21e2e952108>,\n",
       "  <simpletransformers.classification.classification_utils.InputExample at 0x21e2e952a48>,\n",
       "  <simpletransformers.classification.classification_utils.InputExample at 0x21e2e952188>,\n",
       "  <simpletransformers.classification.classification_utils.InputExample at 0x21e2e9521c8>,\n",
       "  <simpletransformers.classification.classification_utils.InputExample at 0x21e2e952ac8>,\n",
       "  <simpletransformers.classification.classification_utils.InputExample at 0x21e2e952648>,\n",
       "  <simpletransformers.classification.classification_utils.InputExample at 0x21e2e952a08>,\n",
       "  <simpletransformers.classification.classification_utils.InputExample at 0x21e2e952cc8>,\n",
       "  <simpletransformers.classification.classification_utils.InputExample at 0x21e2e952ec8>,\n",
       "  <simpletransformers.classification.classification_utils.InputExample at 0x21e2e06a108>,\n",
       "  <simpletransformers.classification.classification_utils.InputExample at 0x21e2e06a308>,\n",
       "  <simpletransformers.classification.classification_utils.InputExample at 0x21e2e06a3c8>,\n",
       "  <simpletransformers.classification.classification_utils.InputExample at 0x21e2e06a648>,\n",
       "  <simpletransformers.classification.classification_utils.InputExample at 0x21e2e06a808>,\n",
       "  <simpletransformers.classification.classification_utils.InputExample at 0x21e2e06a848>,\n",
       "  <simpletransformers.classification.classification_utils.InputExample at 0x21e2e06a8c8>,\n",
       "  <simpletransformers.classification.classification_utils.InputExample at 0x21e2e06aa08>,\n",
       "  <simpletransformers.classification.classification_utils.InputExample at 0x21e2e06ab48>,\n",
       "  <simpletransformers.classification.classification_utils.InputExample at 0x21e2e06ae08>,\n",
       "  <simpletransformers.classification.classification_utils.InputExample at 0x21e2e07e0c8>,\n",
       "  <simpletransformers.classification.classification_utils.InputExample at 0x21e2e07e188>,\n",
       "  <simpletransformers.classification.classification_utils.InputExample at 0x21e2e07e2c8>,\n",
       "  <simpletransformers.classification.classification_utils.InputExample at 0x21e2e07ec88>,\n",
       "  <simpletransformers.classification.classification_utils.InputExample at 0x21e2e073048>,\n",
       "  <simpletransformers.classification.classification_utils.InputExample at 0x21e2e073308>,\n",
       "  <simpletransformers.classification.classification_utils.InputExample at 0x21e2e073348>,\n",
       "  <simpletransformers.classification.classification_utils.InputExample at 0x21e2e0734c8>,\n",
       "  <simpletransformers.classification.classification_utils.InputExample at 0x21e2e073508>,\n",
       "  <simpletransformers.classification.classification_utils.InputExample at 0x21e2e073608>,\n",
       "  <simpletransformers.classification.classification_utils.InputExample at 0x21e2e073688>,\n",
       "  <simpletransformers.classification.classification_utils.InputExample at 0x21e2e0736c8>,\n",
       "  <simpletransformers.classification.classification_utils.InputExample at 0x21e2e073788>,\n",
       "  <simpletransformers.classification.classification_utils.InputExample at 0x21e2e073948>,\n",
       "  <simpletransformers.classification.classification_utils.InputExample at 0x21e2e073988>,\n",
       "  <simpletransformers.classification.classification_utils.InputExample at 0x21e2e073a88>,\n",
       "  <simpletransformers.classification.classification_utils.InputExample at 0x21e2e073d88>,\n",
       "  <simpletransformers.classification.classification_utils.InputExample at 0x21e2e073f48>,\n",
       "  <simpletransformers.classification.classification_utils.InputExample at 0x21e2e069348>,\n",
       "  <simpletransformers.classification.classification_utils.InputExample at 0x21e2e069488>,\n",
       "  <simpletransformers.classification.classification_utils.InputExample at 0x21e2e0694c8>,\n",
       "  <simpletransformers.classification.classification_utils.InputExample at 0x21e2e069708>,\n",
       "  <simpletransformers.classification.classification_utils.InputExample at 0x21e2e069788>,\n",
       "  <simpletransformers.classification.classification_utils.InputExample at 0x21e2e069848>,\n",
       "  <simpletransformers.classification.classification_utils.InputExample at 0x21e2e0699c8>,\n",
       "  <simpletransformers.classification.classification_utils.InputExample at 0x21e2e069ac8>,\n",
       "  <simpletransformers.classification.classification_utils.InputExample at 0x21e2e069c48>,\n",
       "  <simpletransformers.classification.classification_utils.InputExample at 0x21e2e069cc8>,\n",
       "  <simpletransformers.classification.classification_utils.InputExample at 0x21e2e069d08>,\n",
       "  <simpletransformers.classification.classification_utils.InputExample at 0x21e2e069e48>,\n",
       "  <simpletransformers.classification.classification_utils.InputExample at 0x21e2e069fc8>,\n",
       "  <simpletransformers.classification.classification_utils.InputExample at 0x21e2e07f088>,\n",
       "  <simpletransformers.classification.classification_utils.InputExample at 0x21e2e07f1c8>,\n",
       "  <simpletransformers.classification.classification_utils.InputExample at 0x21e2e07f248>,\n",
       "  <simpletransformers.classification.classification_utils.InputExample at 0x21e2e07f348>,\n",
       "  <simpletransformers.classification.classification_utils.InputExample at 0x21e2e07f388>,\n",
       "  <simpletransformers.classification.classification_utils.InputExample at 0x21e2e07f608>,\n",
       "  <simpletransformers.classification.classification_utils.InputExample at 0x21e2e07f888>,\n",
       "  <simpletransformers.classification.classification_utils.InputExample at 0x21e2e07f9c8>,\n",
       "  <simpletransformers.classification.classification_utils.InputExample at 0x21e2e07fb88>])"
      ]
     },
     "execution_count": 9,
     "metadata": {},
     "output_type": "execute_result"
    }
   ],
   "source": [
    "model.eval_model(evalu, acc=accuracy_score)"
   ]
  },
  {
   "cell_type": "code",
   "execution_count": 10,
   "metadata": {},
   "outputs": [
    {
     "name": "stderr",
     "output_type": "stream",
     "text": [
      "INFO:simpletransformers.classification.classification_model: Converting to features started. Cache is not used.\n"
     ]
    },
    {
     "data": {
      "application/vnd.jupyter.widget-view+json": {
       "model_id": "dc54f203bb0e41fbb37d90bdc3267836",
       "version_major": 2,
       "version_minor": 0
      },
      "text/plain": [
       "HBox(children=(FloatProgress(value=0.0, max=3263.0), HTML(value='')))"
      ]
     },
     "metadata": {},
     "output_type": "display_data"
    },
    {
     "name": "stdout",
     "output_type": "stream",
     "text": [
      "\n"
     ]
    },
    {
     "data": {
      "application/vnd.jupyter.widget-view+json": {
       "model_id": "d12cae6a11e9433e8b80aed35511b4f1",
       "version_major": 2,
       "version_minor": 0
      },
      "text/plain": [
       "HBox(children=(FloatProgress(value=0.0, max=408.0), HTML(value='')))"
      ]
     },
     "metadata": {},
     "output_type": "display_data"
    },
    {
     "name": "stdout",
     "output_type": "stream",
     "text": [
      "\n"
     ]
    }
   ],
   "source": [
    "predictions, raw_outputs = model.predict(test_df['text'].values.tolist())"
   ]
  },
  {
   "cell_type": "code",
   "execution_count": 11,
   "metadata": {},
   "outputs": [],
   "source": [
    "res=pd.DataFrame()\n",
    "res['target']=predictions\n",
    "res['id']=datos['id']\n",
    "res.to_csv('simpleTransformers.csv',index=False)"
   ]
  },
  {
   "cell_type": "code",
   "execution_count": 12,
   "metadata": {},
   "outputs": [
    {
     "name": "stdout",
     "output_type": "stream",
     "text": [
      "Create sweep with ID: qj4m4387\n",
      "Sweep URL: https://app.wandb.ai/farfanatico/Simple%20Sweep/sweeps/qj4m4387\n"
     ]
    }
   ],
   "source": [
    "\"\"\"sweep_config = {\n",
    "    \"method\": \"bayes\",  # grid, random\n",
    "    \"metric\": {\"name\": \"train_loss\", \"goal\": \"minimize\"},\n",
    "    \"parameters\": {\n",
    "        \"num_train_epochs\": {\"values\": [2, 3, 5]},\n",
    "        \"learning_rate\": {\"min\": 5e-5, \"max\": 4e-4},\n",
    "    },\n",
    "}\n",
    "\n",
    "sweep_id = wandb.sweep(sweep_config, project=\"Simple Sweep\")\"\"\""
   ]
  },
  {
   "cell_type": "code",
   "execution_count": 13,
   "metadata": {},
   "outputs": [],
   "source": [
    "\"\"\"model_args = ClassificationArgs()\n",
    "model_args.reprocess_input_data = True\n",
    "model_args.overwrite_output_dir = True\n",
    "model_args.evaluate_during_training = True\n",
    "model_args.manual_seed = 4\n",
    "model_args.use_multiprocessing = True\n",
    "model_args.train_batch_size = 16\n",
    "model_args.eval_batch_size = 8\n",
    "model_args.labels_list = [0,1]\n",
    "model_args.wandb_project = \"Simple Sweep\"\"\"\""
   ]
  },
  {
   "cell_type": "code",
   "execution_count": 14,
   "metadata": {},
   "outputs": [
    {
     "name": "stderr",
     "output_type": "stream",
     "text": [
      "INFO:wandb.wandb_agent:Running runs: []\n",
      "INFO:wandb.wandb_agent:Agent received command: run\n",
      "INFO:wandb.wandb_agent:Agent starting run with config:\n",
      "\tlearning_rate: 0.0003698527417325339\n",
      "\tnum_train_epochs: 5\n"
     ]
    },
    {
     "name": "stdout",
     "output_type": "stream",
     "text": [
      "wandb: Agent Starting Run: k148k0fy with config:\n",
      "\tlearning_rate: 0.0003698527417325339\n",
      "\tnum_train_epochs: 5\n"
     ]
    },
    {
     "name": "stderr",
     "output_type": "stream",
     "text": [
      "INFO:wandb.wandb_agent:Running runs: ['k148k0fy']\n",
      "wandb: Ctrl-c pressed. Waiting for runs to end. Press ctrl-c again to terminate them.\n"
     ]
    }
   ],
   "source": [
    "\"\"\"def train():\n",
    "    # Initialize a new wandb run\n",
    "    wandb.init()\n",
    "\n",
    "    # Create a TransformerModel\n",
    "    model = ClassificationModel(\n",
    "        \"roberta\",\n",
    "        \"roberta-base\",\n",
    "        use_cuda=True,\n",
    "        args=model_args,\n",
    "        sweep_config=wandb.config,\n",
    "    )\n",
    "\n",
    "    # Train the model\n",
    "    model.train_model(entren, eval_df=evalu)\n",
    "\n",
    "    # Evaluate the model\n",
    "    model.eval_model(evalu)\n",
    "\n",
    "    # Sync wandb\n",
    "    wandb.join()\n",
    "\n",
    "\n",
    "wandb.agent(sweep_id, train)\"\"\""
   ]
  },
  {
   "cell_type": "code",
   "execution_count": null,
   "metadata": {},
   "outputs": [],
   "source": []
  }
 ],
 "metadata": {
  "kernelspec": {
   "display_name": "Python 3",
   "language": "python",
   "name": "python3"
  },
  "language_info": {
   "codemirror_mode": {
    "name": "ipython",
    "version": 3
   },
   "file_extension": ".py",
   "mimetype": "text/x-python",
   "name": "python",
   "nbconvert_exporter": "python",
   "pygments_lexer": "ipython3",
   "version": "3.7.6"
  }
 },
 "nbformat": 4,
 "nbformat_minor": 4
}
