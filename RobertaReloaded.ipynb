{
 "cells": [
  {
   "cell_type": "code",
   "execution_count": 1,
   "metadata": {
    "colab": {
     "base_uri": "https://localhost:8080/",
     "height": 34
    },
    "colab_type": "code",
    "executionInfo": {
     "elapsed": 1575,
     "status": "ok",
     "timestamp": 1597298793177,
     "user": {
      "displayName": "Niko Farfan",
      "photoUrl": "",
      "userId": "18312784935668397664"
     },
     "user_tz": 180
    },
    "id": "VS5_PCaoIuM3",
    "outputId": "adba7384-cc7e-462f-a946-1a5bf195c76a"
   },
   "outputs": [
    {
     "name": "stdout",
     "output_type": "stream",
     "text": [
      "Drive already mounted at /content/gdrive; to attempt to forcibly remount, call drive.mount(\"/content/gdrive\", force_remount=True).\n"
     ]
    }
   ],
   "source": [
    "from google.colab import drive\n",
    "drive.mount('/content/gdrive')"
   ]
  },
  {
   "cell_type": "code",
   "execution_count": 2,
   "metadata": {
    "colab": {
     "base_uri": "https://localhost:8080/",
     "height": 34
    },
    "colab_type": "code",
    "executionInfo": {
     "elapsed": 1565,
     "status": "ok",
     "timestamp": 1597298793178,
     "user": {
      "displayName": "Niko Farfan",
      "photoUrl": "",
      "userId": "18312784935668397664"
     },
     "user_tz": 180
    },
    "id": "QiZjHxCiI1Xd",
    "outputId": "140c861b-5d24-45ea-c475-c30be09bd4fa"
   },
   "outputs": [
    {
     "name": "stdout",
     "output_type": "stream",
     "text": [
      "/content/gdrive/My Drive/Kaggle\n"
     ]
    }
   ],
   "source": [
    "%cd /content/gdrive/My Drive/Kaggle"
   ]
  },
  {
   "cell_type": "code",
   "execution_count": 3,
   "metadata": {
    "colab": {},
    "colab_type": "code",
    "executionInfo": {
     "elapsed": 1561,
     "status": "ok",
     "timestamp": 1597298793179,
     "user": {
      "displayName": "Niko Farfan",
      "photoUrl": "",
      "userId": "18312784935668397664"
     },
     "user_tz": 180
    },
    "id": "9RyHHdsRI1Pt"
   },
   "outputs": [],
   "source": [
    "import os\n",
    "os.environ['KAGGLE_CONFIG_DIR'] = \"/content/gdrive/My Drive/Kaggle\""
   ]
  },
  {
   "cell_type": "code",
   "execution_count": 4,
   "metadata": {
    "colab": {
     "base_uri": "https://localhost:8080/",
     "height": 683
    },
    "colab_type": "code",
    "executionInfo": {
     "elapsed": 646956,
     "status": "ok",
     "timestamp": 1597299438578,
     "user": {
      "displayName": "Niko Farfan",
      "photoUrl": "",
      "userId": "18312784935668397664"
     },
     "user_tz": 180
    },
    "id": "308o1i6HIdUH",
    "outputId": "61f20fcf-e8f3-4844-83fd-23e4c10d4436"
   },
   "outputs": [
    {
     "name": "stdout",
     "output_type": "stream",
     "text": [
      "Requirement already satisfied: transformers in /usr/local/lib/python3.6/dist-packages (3.0.2)\n",
      "Requirement already satisfied: tqdm>=4.27 in /usr/local/lib/python3.6/dist-packages (from transformers) (4.41.1)\n",
      "Requirement already satisfied: regex!=2019.12.17 in /usr/local/lib/python3.6/dist-packages (from transformers) (2019.12.20)\n",
      "Requirement already satisfied: packaging in /usr/local/lib/python3.6/dist-packages (from transformers) (20.4)\n",
      "Requirement already satisfied: sentencepiece!=0.1.92 in /usr/local/lib/python3.6/dist-packages (from transformers) (0.1.91)\n",
      "Requirement already satisfied: numpy in /usr/local/lib/python3.6/dist-packages (from transformers) (1.18.5)\n",
      "Requirement already satisfied: dataclasses; python_version < \"3.7\" in /usr/local/lib/python3.6/dist-packages (from transformers) (0.7)\n",
      "Requirement already satisfied: filelock in /usr/local/lib/python3.6/dist-packages (from transformers) (3.0.12)\n",
      "Requirement already satisfied: requests in /usr/local/lib/python3.6/dist-packages (from transformers) (2.23.0)\n",
      "Requirement already satisfied: tokenizers==0.8.1.rc1 in /usr/local/lib/python3.6/dist-packages (from transformers) (0.8.1rc1)\n",
      "Requirement already satisfied: sacremoses in /usr/local/lib/python3.6/dist-packages (from transformers) (0.0.43)\n",
      "Requirement already satisfied: pyparsing>=2.0.2 in /usr/local/lib/python3.6/dist-packages (from packaging->transformers) (2.4.7)\n",
      "Requirement already satisfied: six in /usr/local/lib/python3.6/dist-packages (from packaging->transformers) (1.15.0)\n",
      "Requirement already satisfied: chardet<4,>=3.0.2 in /usr/local/lib/python3.6/dist-packages (from requests->transformers) (3.0.4)\n",
      "Requirement already satisfied: urllib3!=1.25.0,!=1.25.1,<1.26,>=1.21.1 in /usr/local/lib/python3.6/dist-packages (from requests->transformers) (1.24.3)\n",
      "Requirement already satisfied: idna<3,>=2.5 in /usr/local/lib/python3.6/dist-packages (from requests->transformers) (2.10)\n",
      "Requirement already satisfied: certifi>=2017.4.17 in /usr/local/lib/python3.6/dist-packages (from requests->transformers) (2020.6.20)\n",
      "Requirement already satisfied: click in /usr/local/lib/python3.6/dist-packages (from sacremoses->transformers) (7.1.2)\n",
      "Requirement already satisfied: joblib in /usr/local/lib/python3.6/dist-packages (from sacremoses->transformers) (0.16.0)\n"
     ]
    },
    {
     "name": "stderr",
     "output_type": "stream",
     "text": [
      "Some weights of the model checkpoint at roberta-base were not used when initializing TFRobertaForSequenceClassification: ['lm_head']\n",
      "- This IS expected if you are initializing TFRobertaForSequenceClassification from the checkpoint of a model trained on another task or with another architecture (e.g. initializing a BertForSequenceClassification model from a BertForPretraining model).\n",
      "- This IS NOT expected if you are initializing TFRobertaForSequenceClassification from the checkpoint of a model that you expect to be exactly identical (initializing a BertForSequenceClassification model from a BertForSequenceClassification model).\n",
      "Some weights of TFRobertaForSequenceClassification were not initialized from the model checkpoint at roberta-base and are newly initialized: ['classifier']\n",
      "You should probably TRAIN this model on a down-stream task to be able to use it for predictions and inference.\n"
     ]
    },
    {
     "name": "stdout",
     "output_type": "stream",
     "text": [
      "Epoch 1/5\n",
      "WARNING:tensorflow:Gradients do not exist for variables ['tf_roberta_for_sequence_classification/roberta/pooler/dense/kernel:0', 'tf_roberta_for_sequence_classification/roberta/pooler/dense/bias:0'] when minimizing the loss.\n",
      "WARNING:tensorflow:Gradients do not exist for variables ['tf_roberta_for_sequence_classification/roberta/pooler/dense/kernel:0', 'tf_roberta_for_sequence_classification/roberta/pooler/dense/bias:0'] when minimizing the loss.\n",
      "WARNING:tensorflow:Gradients do not exist for variables ['tf_roberta_for_sequence_classification/roberta/pooler/dense/kernel:0', 'tf_roberta_for_sequence_classification/roberta/pooler/dense/bias:0'] when minimizing the loss.\n",
      "WARNING:tensorflow:Gradients do not exist for variables ['tf_roberta_for_sequence_classification/roberta/pooler/dense/kernel:0', 'tf_roberta_for_sequence_classification/roberta/pooler/dense/bias:0'] when minimizing the loss.\n",
      "191/191 [==============================] - 123s 644ms/step - loss: 0.5086 - accuracy: 0.7606 - val_loss: 0.4347 - val_accuracy: 0.8227\n",
      "Epoch 2/5\n",
      "191/191 [==============================] - 121s 631ms/step - loss: 0.4216 - accuracy: 0.8269 - val_loss: 0.4215 - val_accuracy: 0.8273\n",
      "Epoch 3/5\n",
      "191/191 [==============================] - 121s 631ms/step - loss: 0.3617 - accuracy: 0.8571 - val_loss: 0.5516 - val_accuracy: 0.8129\n",
      "Epoch 4/5\n",
      "191/191 [==============================] - 120s 631ms/step - loss: 0.3157 - accuracy: 0.8796 - val_loss: 0.4866 - val_accuracy: 0.8372\n",
      "Epoch 5/5\n",
      "191/191 [==============================] - 121s 631ms/step - loss: 0.2730 - accuracy: 0.8977 - val_loss: 0.4559 - val_accuracy: 0.8234\n"
     ]
    }
   ],
   "source": [
    "!pip install transformers\n",
    "import pandas as pd\n",
    "# Recommended tensorflow version is <= 2.1.0, otherwise F1 score function breaks\n",
    "import tensorflow as tf\n",
    "from sklearn.metrics import f1_score\n",
    "from sklearn.model_selection import train_test_split\n",
    "import tensorflow_datasets as tfds\n",
    "from transformers import TFRobertaForSequenceClassification\n",
    "from transformers import RobertaTokenizer\n",
    "import os\n",
    "import re\n",
    "\n",
    "def remTexto(x):\n",
    "  x=x.casefold()\n",
    "  x=re.sub(r'http\\S*', 'http:',x)\n",
    "  x=re.sub(r'[^a-z\\s]', '',x)\n",
    "  return x\n",
    "\n",
    "# Load your Dataset\n",
    "train_tweets = pd.read_csv('train.csv')\n",
    "test_tweets = pd.read_csv('test.csv')\n",
    "\n",
    "train_tweets['text']=train_tweets['text'].apply(lambda x:remTexto(x))\n",
    "test_tweets['text']=test_tweets['text'].apply(lambda x:remTexto(x))\n",
    "\n",
    "training_sentences, testing_sentences = train_test_split(train_tweets[['text', 'target']],\n",
    "                                                         test_size=0.2)\n",
    "\n",
    "roberta_tokenizer = RobertaTokenizer.from_pretrained(\"roberta-base\")\n",
    "\n",
    "# can be up to 512 for BERT\n",
    "max_length = 150\n",
    "\n",
    "# the recommended batches size for BERT are 32,64 ... however on this dataset we are overfitting quite fast\n",
    "# and smaller batches work like a regularization.\n",
    "\n",
    "batch_size = 32\n",
    "\n",
    "def convert_example_to_feature(text):\n",
    "    return roberta_tokenizer.encode_plus(text,\n",
    "                                 add_special_tokens=True,  # add [CLS], [SEP]\n",
    "                                 max_length=max_length,  # max length of the text that can go to RoBERTa\n",
    "                                 pad_to_max_length=True,  # add [PAD] tokens at the end of sentence\n",
    "                                 return_attention_mask=True,  # add attention mask to not focus on pad tokens\n",
    "                                 truncation=True)\n",
    "\n",
    "# map to the expected input to TFRobertaForSequenceClassification, see here\n",
    "def map_example_to_dict(input_ids, attention_masks, label):\n",
    "    return {\n",
    "      \"input_ids\": input_ids,\n",
    "      \"attention_mask\": attention_masks,\n",
    "           }, label\n",
    "\n",
    "def encode_examples(ds, limit=-1):\n",
    "    # Prepare Input list\n",
    "    input_ids_list = []\n",
    "    attention_mask_list = []\n",
    "    label_list = []\n",
    "\n",
    "    if (limit > 0):\n",
    "        ds = ds.take(limit)\n",
    "\n",
    "    for review, label in tfds.as_numpy(ds):\n",
    "        bert_input = convert_example_to_feature(review.decode())\n",
    "        input_ids_list.append(bert_input['input_ids'])\n",
    "        attention_mask_list.append(bert_input['attention_mask'])\n",
    "        label_list.append([label])\n",
    "\n",
    "    return tf.data.Dataset.from_tensor_slices((input_ids_list,\n",
    "                                               attention_mask_list,\n",
    "                                               label_list)).map(map_example_to_dict)\n",
    "\n",
    "training_sentences_modified = tf.data.Dataset.from_tensor_slices((training_sentences['text'],\n",
    "                                                                  training_sentences['target']))\n",
    "\n",
    "testing_sentences_modified = tf.data.Dataset.from_tensor_slices((testing_sentences['text'],\n",
    "                                                                 testing_sentences['target']))\n",
    "\n",
    "ds_train_encoded = encode_examples(training_sentences_modified).shuffle(10000).batch(batch_size)\n",
    "ds_test_encoded = encode_examples(testing_sentences_modified).batch(batch_size)\n",
    "\n",
    "\n",
    "\n",
    "learning_rate = 7e-5\n",
    "number_of_epochs = 5\n",
    "\n",
    "\n",
    "# model initialization\n",
    "model = TFRobertaForSequenceClassification.from_pretrained(\"roberta-base\")\n",
    "optimizer = tf.keras.optimizers.Adam(learning_rate=learning_rate, epsilon=1e-08)\n",
    "\n",
    "# we do not have one-hot vectors, we can use sparce categorical cross entropy and accuracy\n",
    "loss = tf.keras.losses.SparseCategoricalCrossentropy(from_logits=True)\n",
    "metric = tf.keras.metrics.SparseCategoricalAccuracy('accuracy')\n",
    "model.compile(optimizer=optimizer, loss=loss, metrics=[metric])\n",
    "history=model.fit(ds_train_encoded, epochs=number_of_epochs,\n",
    "          validation_data=ds_test_encoded)\n"
   ]
  },
  {
   "cell_type": "code",
   "execution_count": 5,
   "metadata": {
    "colab": {
     "base_uri": "https://localhost:8080/",
     "height": 295
    },
    "colab_type": "code",
    "executionInfo": {
     "elapsed": 646954,
     "status": "ok",
     "timestamp": 1597299438581,
     "user": {
      "displayName": "Niko Farfan",
      "photoUrl": "",
      "userId": "18312784935668397664"
     },
     "user_tz": 180
    },
    "id": "RdT7zWRnUV5f",
    "outputId": "b9397cb5-adc5-4aa4-c1f0-b115a6284322"
   },
   "outputs": [
    {
     "data": {
      "image/png": "[encoded data removed]",
      "text/plain": [
       "<Figure size 432x288 with 1 Axes>"
      ]
     },
     "metadata": {
      "needs_background": "light",
      "tags": []
     },
     "output_type": "display_data"
    }
   ],
   "source": [
    "import matplotlib.pyplot as plt\n",
    "\n",
    "\n",
    "plt.plot(history.history['loss'])\n",
    "plt.plot(history.history['val_loss'])\n",
    "\n",
    "plt.title('model loss')\n",
    "plt.ylabel('loss')\n",
    "plt.xlabel('epoch')\n",
    "plt.legend(['train','test'], loc = 'upper left')\n",
    "plt.show()"
   ]
  },
  {
   "cell_type": "code",
   "execution_count": 6,
   "metadata": {
    "colab": {},
    "colab_type": "code",
    "executionInfo": {
     "elapsed": 674903,
     "status": "ok",
     "timestamp": 1597299466536,
     "user": {
      "displayName": "Niko Farfan",
      "photoUrl": "",
      "userId": "18312784935668397664"
     },
     "user_tz": 180
    },
    "id": "L331c52eKJ2_"
   },
   "outputs": [],
   "source": [
    "#Tengo que agregar esto por como esta definido tensor slices del dataset original\n",
    "#Luego sera ignorado por el modelo\n",
    "test_tweets['tar']=0\n",
    "submission_sentences_modified = tf.data.Dataset.from_tensor_slices((test_tweets['text'],test_tweets['tar']))\n",
    "test_encoded = encode_examples(submission_sentences_modified).batch(batch_size)\n",
    "x=model.predict(test_encoded)\n"
   ]
  },
  {
   "cell_type": "code",
   "execution_count": 7,
   "metadata": {
    "colab": {
     "base_uri": "https://localhost:8080/",
     "height": 34
    },
    "colab_type": "code",
    "executionInfo": {
     "elapsed": 674901,
     "status": "ok",
     "timestamp": 1597299466536,
     "user": {
      "displayName": "Niko Farfan",
      "photoUrl": "",
      "userId": "18312784935668397664"
     },
     "user_tz": 180
    },
    "id": "1e7pZvpqN96f",
    "outputId": "11faaa78-e71d-4cab-ba87-cacb1f05746b"
   },
   "outputs": [
    {
     "data": {
      "text/plain": [
       "<tf.Tensor: shape=(3263,), dtype=int64, numpy=array([1, 1, 1, ..., 1, 1, 1])>"
      ]
     },
     "execution_count": 7,
     "metadata": {
      "tags": []
     },
     "output_type": "execute_result"
    }
   ],
   "source": [
    "submission_pre = tf.nn.softmax(x[0])\n",
    "submission_pre_argmax = tf.math.argmax(submission_pre, axis=1)\n",
    "submission_pre_argmax"
   ]
  },
  {
   "cell_type": "code",
   "execution_count": 8,
   "metadata": {
    "colab": {},
    "colab_type": "code",
    "executionInfo": {
     "elapsed": 674896,
     "status": "ok",
     "timestamp": 1597299466537,
     "user": {
      "displayName": "Niko Farfan",
      "photoUrl": "",
      "userId": "18312784935668397664"
     },
     "user_tz": 180
    },
    "id": "Y7bhjk0fLhxO"
   },
   "outputs": [],
   "source": [
    "res=pd.DataFrame()\n",
    "res['target']=submission_pre_argmax.numpy()\n",
    "res['id']=test_tweets['id']"
   ]
  },
  {
   "cell_type": "code",
   "execution_count": 9,
   "metadata": {
    "colab": {},
    "colab_type": "code",
    "executionInfo": {
     "elapsed": 674892,
     "status": "ok",
     "timestamp": 1597299466538,
     "user": {
      "displayName": "Niko Farfan",
      "photoUrl": "",
      "userId": "18312784935668397664"
     },
     "user_tz": 180
    },
    "id": "6oft7xcBPJjX"
   },
   "outputs": [],
   "source": [
    "res.to_csv('resultadosRoberta.csv',index=False)"
   ]
  },
  {
   "cell_type": "code",
   "execution_count": 10,
   "metadata": {
    "colab": {
     "base_uri": "https://localhost:8080/",
     "height": 68
    },
    "colab_type": "code",
    "executionInfo": {
     "elapsed": 681676,
     "status": "ok",
     "timestamp": 1597299473325,
     "user": {
      "displayName": "Niko Farfan",
      "photoUrl": "",
      "userId": "18312784935668397664"
     },
     "user_tz": 180
    },
    "id": "iBQGVop3PnoV",
    "outputId": "5765018a-ada6-4345-f575-0371c84e92fb"
   },
   "outputs": [
    {
     "name": "stdout",
     "output_type": "stream",
     "text": [
      "Warning: Looks like you're using an outdated API Version, please consider updating (server 1.5.6 / client 1.5.4)\n",
      "100% 22.2k/22.2k [00:03<00:00, 6.55kB/s]\n",
      "Successfully submitted to Real or Not? NLP with Disaster Tweets"
     ]
    }
   ],
   "source": [
    "#!kaggle competitions submit -c nlp-getting-started -f resultadosRoberta.csv -m \"Nuevo intento\""
   ]
  }
 ],
 "metadata": {
  "accelerator": "GPU",
  "colab": {
   "authorship_tag": "ABX9TyN2odJ0EDPKmUccllkdia52",
   "name": "RobertaReloaded.ipynb",
   "provenance": []
  },
  "kernelspec": {
   "display_name": "Python 3",
   "language": "python",
   "name": "python3"
  },
  "language_info": {
   "codemirror_mode": {
    "name": "ipython",
    "version": 3
   },
   "file_extension": ".py",
   "mimetype": "text/x-python",
   "name": "python",
   "nbconvert_exporter": "python",
   "pygments_lexer": "ipython3",
   "version": "3.7.6"
  }
 },
 "nbformat": 4,
 "nbformat_minor": 1
}
